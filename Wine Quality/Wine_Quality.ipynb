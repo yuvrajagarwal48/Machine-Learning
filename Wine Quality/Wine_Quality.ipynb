{
  "cells": [
    {
      "cell_type": "code",
      "execution_count": 11,
      "metadata": {
        "id": "nigfvZkmlNls"
      },
      "outputs": [],
      "source": [
        "import numpy as np\n",
        "import pandas as pd\n",
        "import matplotlib.pyplot as plt\n",
        "import seaborn as sns\n",
        "from sklearn.preprocessing import StandardScaler\n",
        "from sklearn.model_selection import train_test_split\n",
        "from sklearn.linear_model import LogisticRegression\n",
        "from sklearn.metrics import classification_report\n",
        "from sklearn.metrics import confusion_matrix\n",
        "from sklearn.metrics import ConfusionMatrixDisplay\n",
        "from sklearn import tree\n",
        "import random\n",
        "from sklearn.model_selection import GridSearchCV\n",
        "from sklearn.ensemble import RandomForestClassifier\n",
        "from sklearn.model_selection import RandomizedSearchCV\n",
        "import graphviz\n",
        "from sklearn.tree import export_graphviz\n",
        "from sklearn.svm import SVC\n",
        "from sklearn.naive_bayes import GaussianNB\n",
        "from sklearn.ensemble import AdaBoostClassifier\n",
        "from xgboost import XGBClassifier\n",
        "from sklearn.preprocessing import LabelEncoder"
      ]
    },
    {
      "cell_type": "code",
      "execution_count": 2,
      "metadata": {
        "id": "KJUJ-4ryldFd"
      },
      "outputs": [],
      "source": [
        "wine_df=pd.read_csv(\"WineQuality.csv\",index_col=0)"
      ]
    },
    {
      "cell_type": "code",
      "execution_count": null,
      "metadata": {
        "colab": {
          "base_uri": "https://localhost:8080/",
          "height": 614
        },
        "id": "21mDbrFhlij0",
        "outputId": "f23fa4c2-4b21-42fd-ef4a-f9a8ae6de058"
      },
      "outputs": [
        {
          "data": {
            "text/html": [
              "\n",
              "  <div id=\"df-7b2254f8-ac06-4020-af02-6b275cfeae1f\" class=\"colab-df-container\">\n",
              "    <div>\n",
              "<style scoped>\n",
              "    .dataframe tbody tr th:only-of-type {\n",
              "        vertical-align: middle;\n",
              "    }\n",
              "\n",
              "    .dataframe tbody tr th {\n",
              "        vertical-align: top;\n",
              "    }\n",
              "\n",
              "    .dataframe thead th {\n",
              "        text-align: right;\n",
              "    }\n",
              "</style>\n",
              "<table border=\"1\" class=\"dataframe\">\n",
              "  <thead>\n",
              "    <tr style=\"text-align: right;\">\n",
              "      <th></th>\n",
              "      <th>fixed acidity</th>\n",
              "      <th>volatile acidity</th>\n",
              "      <th>citric acid</th>\n",
              "      <th>residual sugar</th>\n",
              "      <th>chlorides</th>\n",
              "      <th>free sulfur dioxide</th>\n",
              "      <th>total sulfur dioxide</th>\n",
              "      <th>density</th>\n",
              "      <th>pH</th>\n",
              "      <th>sulphates</th>\n",
              "      <th>alcohol</th>\n",
              "      <th>quality</th>\n",
              "      <th>Type</th>\n",
              "    </tr>\n",
              "  </thead>\n",
              "  <tbody>\n",
              "    <tr>\n",
              "      <th>2732</th>\n",
              "      <td>7.4</td>\n",
              "      <td>0.170</td>\n",
              "      <td>0.29</td>\n",
              "      <td>1.4</td>\n",
              "      <td>0.047</td>\n",
              "      <td>23.0</td>\n",
              "      <td>107.0</td>\n",
              "      <td>0.99390</td>\n",
              "      <td>3.52</td>\n",
              "      <td>0.65</td>\n",
              "      <td>10.4</td>\n",
              "      <td>6</td>\n",
              "      <td>White Wine</td>\n",
              "    </tr>\n",
              "    <tr>\n",
              "      <th>2607</th>\n",
              "      <td>5.3</td>\n",
              "      <td>0.310</td>\n",
              "      <td>0.38</td>\n",
              "      <td>10.5</td>\n",
              "      <td>0.031</td>\n",
              "      <td>53.0</td>\n",
              "      <td>140.0</td>\n",
              "      <td>0.99321</td>\n",
              "      <td>3.34</td>\n",
              "      <td>0.46</td>\n",
              "      <td>11.7</td>\n",
              "      <td>6</td>\n",
              "      <td>White Wine</td>\n",
              "    </tr>\n",
              "    <tr>\n",
              "      <th>1653</th>\n",
              "      <td>4.7</td>\n",
              "      <td>0.145</td>\n",
              "      <td>0.29</td>\n",
              "      <td>1.0</td>\n",
              "      <td>0.042</td>\n",
              "      <td>35.0</td>\n",
              "      <td>90.0</td>\n",
              "      <td>0.99080</td>\n",
              "      <td>3.76</td>\n",
              "      <td>0.49</td>\n",
              "      <td>11.3</td>\n",
              "      <td>6</td>\n",
              "      <td>White Wine</td>\n",
              "    </tr>\n",
              "    <tr>\n",
              "      <th>3264</th>\n",
              "      <td>6.9</td>\n",
              "      <td>0.260</td>\n",
              "      <td>0.29</td>\n",
              "      <td>4.2</td>\n",
              "      <td>0.043</td>\n",
              "      <td>33.0</td>\n",
              "      <td>114.0</td>\n",
              "      <td>0.99020</td>\n",
              "      <td>3.16</td>\n",
              "      <td>0.31</td>\n",
              "      <td>12.5</td>\n",
              "      <td>6</td>\n",
              "      <td>White Wine</td>\n",
              "    </tr>\n",
              "    <tr>\n",
              "      <th>4931</th>\n",
              "      <td>6.4</td>\n",
              "      <td>0.450</td>\n",
              "      <td>0.07</td>\n",
              "      <td>1.1</td>\n",
              "      <td>0.030</td>\n",
              "      <td>10.0</td>\n",
              "      <td>131.0</td>\n",
              "      <td>0.99050</td>\n",
              "      <td>2.97</td>\n",
              "      <td>0.28</td>\n",
              "      <td>10.8</td>\n",
              "      <td>5</td>\n",
              "      <td>White Wine</td>\n",
              "    </tr>\n",
              "    <tr>\n",
              "      <th>...</th>\n",
              "      <td>...</td>\n",
              "      <td>...</td>\n",
              "      <td>...</td>\n",
              "      <td>...</td>\n",
              "      <td>...</td>\n",
              "      <td>...</td>\n",
              "      <td>...</td>\n",
              "      <td>...</td>\n",
              "      <td>...</td>\n",
              "      <td>...</td>\n",
              "      <td>...</td>\n",
              "      <td>...</td>\n",
              "      <td>...</td>\n",
              "    </tr>\n",
              "    <tr>\n",
              "      <th>2838</th>\n",
              "      <td>5.0</td>\n",
              "      <td>0.255</td>\n",
              "      <td>0.22</td>\n",
              "      <td>2.7</td>\n",
              "      <td>0.043</td>\n",
              "      <td>46.0</td>\n",
              "      <td>153.0</td>\n",
              "      <td>0.99238</td>\n",
              "      <td>3.75</td>\n",
              "      <td>0.76</td>\n",
              "      <td>11.3</td>\n",
              "      <td>6</td>\n",
              "      <td>White Wine</td>\n",
              "    </tr>\n",
              "    <tr>\n",
              "      <th>6414</th>\n",
              "      <td>6.6</td>\n",
              "      <td>0.360</td>\n",
              "      <td>0.52</td>\n",
              "      <td>11.3</td>\n",
              "      <td>0.046</td>\n",
              "      <td>8.0</td>\n",
              "      <td>110.0</td>\n",
              "      <td>0.99660</td>\n",
              "      <td>3.07</td>\n",
              "      <td>0.46</td>\n",
              "      <td>9.4</td>\n",
              "      <td>5</td>\n",
              "      <td>White Wine</td>\n",
              "    </tr>\n",
              "    <tr>\n",
              "      <th>1126</th>\n",
              "      <td>6.3</td>\n",
              "      <td>0.200</td>\n",
              "      <td>0.24</td>\n",
              "      <td>1.7</td>\n",
              "      <td>0.052</td>\n",
              "      <td>36.0</td>\n",
              "      <td>135.0</td>\n",
              "      <td>0.99374</td>\n",
              "      <td>3.80</td>\n",
              "      <td>0.66</td>\n",
              "      <td>10.8</td>\n",
              "      <td>6</td>\n",
              "      <td>White Wine</td>\n",
              "    </tr>\n",
              "    <tr>\n",
              "      <th>2924</th>\n",
              "      <td>6.2</td>\n",
              "      <td>0.200</td>\n",
              "      <td>0.33</td>\n",
              "      <td>5.4</td>\n",
              "      <td>0.028</td>\n",
              "      <td>21.0</td>\n",
              "      <td>75.0</td>\n",
              "      <td>0.99012</td>\n",
              "      <td>3.36</td>\n",
              "      <td>0.41</td>\n",
              "      <td>13.5</td>\n",
              "      <td>7</td>\n",
              "      <td>White Wine</td>\n",
              "    </tr>\n",
              "    <tr>\n",
              "      <th>5462</th>\n",
              "      <td>8.1</td>\n",
              "      <td>0.280</td>\n",
              "      <td>0.46</td>\n",
              "      <td>15.4</td>\n",
              "      <td>0.059</td>\n",
              "      <td>32.0</td>\n",
              "      <td>177.0</td>\n",
              "      <td>1.00040</td>\n",
              "      <td>3.27</td>\n",
              "      <td>0.58</td>\n",
              "      <td>9.0</td>\n",
              "      <td>4</td>\n",
              "      <td>White Wine</td>\n",
              "    </tr>\n",
              "  </tbody>\n",
              "</table>\n",
              "<p>32485 rows × 13 columns</p>\n",
              "</div>\n",
              "    <div class=\"colab-df-buttons\">\n",
              "\n",
              "  <div class=\"colab-df-container\">\n",
              "    <button class=\"colab-df-convert\" onclick=\"convertToInteractive('df-7b2254f8-ac06-4020-af02-6b275cfeae1f')\"\n",
              "            title=\"Convert this dataframe to an interactive table.\"\n",
              "            style=\"display:none;\">\n",
              "\n",
              "  <svg xmlns=\"http://www.w3.org/2000/svg\" height=\"24px\" viewBox=\"0 -960 960 960\">\n",
              "    <path d=\"M120-120v-720h720v720H120Zm60-500h600v-160H180v160Zm220 220h160v-160H400v160Zm0 220h160v-160H400v160ZM180-400h160v-160H180v160Zm440 0h160v-160H620v160ZM180-180h160v-160H180v160Zm440 0h160v-160H620v160Z\"/>\n",
              "  </svg>\n",
              "    </button>\n",
              "\n",
              "  <style>\n",
              "    .colab-df-container {\n",
              "      display:flex;\n",
              "      gap: 12px;\n",
              "    }\n",
              "\n",
              "    .colab-df-convert {\n",
              "      background-color: #E8F0FE;\n",
              "      border: none;\n",
              "      border-radius: 50%;\n",
              "      cursor: pointer;\n",
              "      display: none;\n",
              "      fill: #1967D2;\n",
              "      height: 32px;\n",
              "      padding: 0 0 0 0;\n",
              "      width: 32px;\n",
              "    }\n",
              "\n",
              "    .colab-df-convert:hover {\n",
              "      background-color: #E2EBFA;\n",
              "      box-shadow: 0px 1px 2px rgba(60, 64, 67, 0.3), 0px 1px 3px 1px rgba(60, 64, 67, 0.15);\n",
              "      fill: #174EA6;\n",
              "    }\n",
              "\n",
              "    .colab-df-buttons div {\n",
              "      margin-bottom: 4px;\n",
              "    }\n",
              "\n",
              "    [theme=dark] .colab-df-convert {\n",
              "      background-color: #3B4455;\n",
              "      fill: #D2E3FC;\n",
              "    }\n",
              "\n",
              "    [theme=dark] .colab-df-convert:hover {\n",
              "      background-color: #434B5C;\n",
              "      box-shadow: 0px 1px 3px 1px rgba(0, 0, 0, 0.15);\n",
              "      filter: drop-shadow(0px 1px 2px rgba(0, 0, 0, 0.3));\n",
              "      fill: #FFFFFF;\n",
              "    }\n",
              "  </style>\n",
              "\n",
              "    <script>\n",
              "      const buttonEl =\n",
              "        document.querySelector('#df-7b2254f8-ac06-4020-af02-6b275cfeae1f button.colab-df-convert');\n",
              "      buttonEl.style.display =\n",
              "        google.colab.kernel.accessAllowed ? 'block' : 'none';\n",
              "\n",
              "      async function convertToInteractive(key) {\n",
              "        const element = document.querySelector('#df-7b2254f8-ac06-4020-af02-6b275cfeae1f');\n",
              "        const dataTable =\n",
              "          await google.colab.kernel.invokeFunction('convertToInteractive',\n",
              "                                                    [key], {});\n",
              "        if (!dataTable) return;\n",
              "\n",
              "        const docLinkHtml = 'Like what you see? Visit the ' +\n",
              "          '<a target=\"_blank\" href=https://colab.research.google.com/notebooks/data_table.ipynb>data table notebook</a>'\n",
              "          + ' to learn more about interactive tables.';\n",
              "        element.innerHTML = '';\n",
              "        dataTable['output_type'] = 'display_data';\n",
              "        await google.colab.output.renderOutput(dataTable, element);\n",
              "        const docLink = document.createElement('div');\n",
              "        docLink.innerHTML = docLinkHtml;\n",
              "        element.appendChild(docLink);\n",
              "      }\n",
              "    </script>\n",
              "  </div>\n",
              "\n",
              "\n",
              "<div id=\"df-0f0f7e93-349c-4838-a5a1-4dc511d13628\">\n",
              "  <button class=\"colab-df-quickchart\" onclick=\"quickchart('df-0f0f7e93-349c-4838-a5a1-4dc511d13628')\"\n",
              "            title=\"Suggest charts.\"\n",
              "            style=\"display:none;\">\n",
              "\n",
              "<svg xmlns=\"http://www.w3.org/2000/svg\" height=\"24px\"viewBox=\"0 0 24 24\"\n",
              "     width=\"24px\">\n",
              "    <g>\n",
              "        <path d=\"M19 3H5c-1.1 0-2 .9-2 2v14c0 1.1.9 2 2 2h14c1.1 0 2-.9 2-2V5c0-1.1-.9-2-2-2zM9 17H7v-7h2v7zm4 0h-2V7h2v10zm4 0h-2v-4h2v4z\"/>\n",
              "    </g>\n",
              "</svg>\n",
              "  </button>\n",
              "\n",
              "<style>\n",
              "  .colab-df-quickchart {\n",
              "      --bg-color: #E8F0FE;\n",
              "      --fill-color: #1967D2;\n",
              "      --hover-bg-color: #E2EBFA;\n",
              "      --hover-fill-color: #174EA6;\n",
              "      --disabled-fill-color: #AAA;\n",
              "      --disabled-bg-color: #DDD;\n",
              "  }\n",
              "\n",
              "  [theme=dark] .colab-df-quickchart {\n",
              "      --bg-color: #3B4455;\n",
              "      --fill-color: #D2E3FC;\n",
              "      --hover-bg-color: #434B5C;\n",
              "      --hover-fill-color: #FFFFFF;\n",
              "      --disabled-bg-color: #3B4455;\n",
              "      --disabled-fill-color: #666;\n",
              "  }\n",
              "\n",
              "  .colab-df-quickchart {\n",
              "    background-color: var(--bg-color);\n",
              "    border: none;\n",
              "    border-radius: 50%;\n",
              "    cursor: pointer;\n",
              "    display: none;\n",
              "    fill: var(--fill-color);\n",
              "    height: 32px;\n",
              "    padding: 0;\n",
              "    width: 32px;\n",
              "  }\n",
              "\n",
              "  .colab-df-quickchart:hover {\n",
              "    background-color: var(--hover-bg-color);\n",
              "    box-shadow: 0 1px 2px rgba(60, 64, 67, 0.3), 0 1px 3px 1px rgba(60, 64, 67, 0.15);\n",
              "    fill: var(--button-hover-fill-color);\n",
              "  }\n",
              "\n",
              "  .colab-df-quickchart-complete:disabled,\n",
              "  .colab-df-quickchart-complete:disabled:hover {\n",
              "    background-color: var(--disabled-bg-color);\n",
              "    fill: var(--disabled-fill-color);\n",
              "    box-shadow: none;\n",
              "  }\n",
              "\n",
              "  .colab-df-spinner {\n",
              "    border: 2px solid var(--fill-color);\n",
              "    border-color: transparent;\n",
              "    border-bottom-color: var(--fill-color);\n",
              "    animation:\n",
              "      spin 1s steps(1) infinite;\n",
              "  }\n",
              "\n",
              "  @keyframes spin {\n",
              "    0% {\n",
              "      border-color: transparent;\n",
              "      border-bottom-color: var(--fill-color);\n",
              "      border-left-color: var(--fill-color);\n",
              "    }\n",
              "    20% {\n",
              "      border-color: transparent;\n",
              "      border-left-color: var(--fill-color);\n",
              "      border-top-color: var(--fill-color);\n",
              "    }\n",
              "    30% {\n",
              "      border-color: transparent;\n",
              "      border-left-color: var(--fill-color);\n",
              "      border-top-color: var(--fill-color);\n",
              "      border-right-color: var(--fill-color);\n",
              "    }\n",
              "    40% {\n",
              "      border-color: transparent;\n",
              "      border-right-color: var(--fill-color);\n",
              "      border-top-color: var(--fill-color);\n",
              "    }\n",
              "    60% {\n",
              "      border-color: transparent;\n",
              "      border-right-color: var(--fill-color);\n",
              "    }\n",
              "    80% {\n",
              "      border-color: transparent;\n",
              "      border-right-color: var(--fill-color);\n",
              "      border-bottom-color: var(--fill-color);\n",
              "    }\n",
              "    90% {\n",
              "      border-color: transparent;\n",
              "      border-bottom-color: var(--fill-color);\n",
              "    }\n",
              "  }\n",
              "</style>\n",
              "\n",
              "  <script>\n",
              "    async function quickchart(key) {\n",
              "      const quickchartButtonEl =\n",
              "        document.querySelector('#' + key + ' button');\n",
              "      quickchartButtonEl.disabled = true;  // To prevent multiple clicks.\n",
              "      quickchartButtonEl.classList.add('colab-df-spinner');\n",
              "      try {\n",
              "        const charts = await google.colab.kernel.invokeFunction(\n",
              "            'suggestCharts', [key], {});\n",
              "      } catch (error) {\n",
              "        console.error('Error during call to suggestCharts:', error);\n",
              "      }\n",
              "      quickchartButtonEl.classList.remove('colab-df-spinner');\n",
              "      quickchartButtonEl.classList.add('colab-df-quickchart-complete');\n",
              "    }\n",
              "    (() => {\n",
              "      let quickchartButtonEl =\n",
              "        document.querySelector('#df-0f0f7e93-349c-4838-a5a1-4dc511d13628 button');\n",
              "      quickchartButtonEl.style.display =\n",
              "        google.colab.kernel.accessAllowed ? 'block' : 'none';\n",
              "    })();\n",
              "  </script>\n",
              "</div>\n",
              "    </div>\n",
              "  </div>\n"
            ],
            "text/plain": [
              "      fixed acidity  volatile acidity  citric acid  residual sugar  chlorides  \\\n",
              "2732            7.4             0.170         0.29             1.4      0.047   \n",
              "2607            5.3             0.310         0.38            10.5      0.031   \n",
              "1653            4.7             0.145         0.29             1.0      0.042   \n",
              "3264            6.9             0.260         0.29             4.2      0.043   \n",
              "4931            6.4             0.450         0.07             1.1      0.030   \n",
              "...             ...               ...          ...             ...        ...   \n",
              "2838            5.0             0.255         0.22             2.7      0.043   \n",
              "6414            6.6             0.360         0.52            11.3      0.046   \n",
              "1126            6.3             0.200         0.24             1.7      0.052   \n",
              "2924            6.2             0.200         0.33             5.4      0.028   \n",
              "5462            8.1             0.280         0.46            15.4      0.059   \n",
              "\n",
              "      free sulfur dioxide  total sulfur dioxide  density    pH  sulphates  \\\n",
              "2732                 23.0                 107.0  0.99390  3.52       0.65   \n",
              "2607                 53.0                 140.0  0.99321  3.34       0.46   \n",
              "1653                 35.0                  90.0  0.99080  3.76       0.49   \n",
              "3264                 33.0                 114.0  0.99020  3.16       0.31   \n",
              "4931                 10.0                 131.0  0.99050  2.97       0.28   \n",
              "...                   ...                   ...      ...   ...        ...   \n",
              "2838                 46.0                 153.0  0.99238  3.75       0.76   \n",
              "6414                  8.0                 110.0  0.99660  3.07       0.46   \n",
              "1126                 36.0                 135.0  0.99374  3.80       0.66   \n",
              "2924                 21.0                  75.0  0.99012  3.36       0.41   \n",
              "5462                 32.0                 177.0  1.00040  3.27       0.58   \n",
              "\n",
              "      alcohol  quality        Type  \n",
              "2732     10.4        6  White Wine  \n",
              "2607     11.7        6  White Wine  \n",
              "1653     11.3        6  White Wine  \n",
              "3264     12.5        6  White Wine  \n",
              "4931     10.8        5  White Wine  \n",
              "...       ...      ...         ...  \n",
              "2838     11.3        6  White Wine  \n",
              "6414      9.4        5  White Wine  \n",
              "1126     10.8        6  White Wine  \n",
              "2924     13.5        7  White Wine  \n",
              "5462      9.0        4  White Wine  \n",
              "\n",
              "[32485 rows x 13 columns]"
            ]
          },
          "execution_count": 5,
          "metadata": {},
          "output_type": "execute_result"
        }
      ],
      "source": [
        "wine_df"
      ]
    },
    {
      "cell_type": "code",
      "execution_count": null,
      "metadata": {
        "colab": {
          "base_uri": "https://localhost:8080/"
        },
        "id": "i4YFK25Dlj7w",
        "outputId": "64dc9b79-cd59-4245-af2a-9935f8e95d3a"
      },
      "outputs": [
        {
          "name": "stdout",
          "output_type": "stream",
          "text": [
            "<class 'pandas.core.frame.DataFrame'>\n",
            "Int64Index: 32485 entries, 2732 to 5462\n",
            "Data columns (total 13 columns):\n",
            " #   Column                Non-Null Count  Dtype  \n",
            "---  ------                --------------  -----  \n",
            " 0   fixed acidity         32485 non-null  float64\n",
            " 1   volatile acidity      32485 non-null  float64\n",
            " 2   citric acid           32485 non-null  float64\n",
            " 3   residual sugar        32485 non-null  float64\n",
            " 4   chlorides             32485 non-null  float64\n",
            " 5   free sulfur dioxide   32485 non-null  float64\n",
            " 6   total sulfur dioxide  32485 non-null  float64\n",
            " 7   density               32485 non-null  float64\n",
            " 8   pH                    32485 non-null  float64\n",
            " 9   sulphates             32485 non-null  float64\n",
            " 10  alcohol               32485 non-null  float64\n",
            " 11  quality               32485 non-null  int64  \n",
            " 12  Type                  32485 non-null  object \n",
            "dtypes: float64(11), int64(1), object(1)\n",
            "memory usage: 3.5+ MB\n"
          ]
        }
      ],
      "source": [
        "wine_df.info()"
      ]
    },
    {
      "cell_type": "code",
      "execution_count": null,
      "metadata": {
        "colab": {
          "base_uri": "https://localhost:8080/",
          "height": 354
        },
        "id": "DGAJq_XhmeAO",
        "outputId": "4e0f459d-5649-437d-f877-55bad0d6a243"
      },
      "outputs": [
        {
          "data": {
            "text/html": [
              "\n",
              "  <div id=\"df-55e7804d-5807-4898-b700-dd96ebfe187e\" class=\"colab-df-container\">\n",
              "    <div>\n",
              "<style scoped>\n",
              "    .dataframe tbody tr th:only-of-type {\n",
              "        vertical-align: middle;\n",
              "    }\n",
              "\n",
              "    .dataframe tbody tr th {\n",
              "        vertical-align: top;\n",
              "    }\n",
              "\n",
              "    .dataframe thead th {\n",
              "        text-align: right;\n",
              "    }\n",
              "</style>\n",
              "<table border=\"1\" class=\"dataframe\">\n",
              "  <thead>\n",
              "    <tr style=\"text-align: right;\">\n",
              "      <th></th>\n",
              "      <th>fixed acidity</th>\n",
              "      <th>volatile acidity</th>\n",
              "      <th>citric acid</th>\n",
              "      <th>residual sugar</th>\n",
              "      <th>chlorides</th>\n",
              "      <th>free sulfur dioxide</th>\n",
              "      <th>total sulfur dioxide</th>\n",
              "      <th>density</th>\n",
              "      <th>pH</th>\n",
              "      <th>sulphates</th>\n",
              "      <th>alcohol</th>\n",
              "      <th>quality</th>\n",
              "    </tr>\n",
              "  </thead>\n",
              "  <tbody>\n",
              "    <tr>\n",
              "      <th>count</th>\n",
              "      <td>32485.000000</td>\n",
              "      <td>32485.000000</td>\n",
              "      <td>32485.000000</td>\n",
              "      <td>32485.000000</td>\n",
              "      <td>32485.000000</td>\n",
              "      <td>32485.000000</td>\n",
              "      <td>32485.000000</td>\n",
              "      <td>32485.000000</td>\n",
              "      <td>32485.000000</td>\n",
              "      <td>32485.000000</td>\n",
              "      <td>32485.000000</td>\n",
              "      <td>32485.000000</td>\n",
              "    </tr>\n",
              "    <tr>\n",
              "      <th>mean</th>\n",
              "      <td>7.214736</td>\n",
              "      <td>0.340122</td>\n",
              "      <td>0.318324</td>\n",
              "      <td>5.438696</td>\n",
              "      <td>0.056009</td>\n",
              "      <td>30.458258</td>\n",
              "      <td>115.656303</td>\n",
              "      <td>0.994719</td>\n",
              "      <td>3.219089</td>\n",
              "      <td>0.531500</td>\n",
              "      <td>10.480694</td>\n",
              "      <td>5.811698</td>\n",
              "    </tr>\n",
              "    <tr>\n",
              "      <th>std</th>\n",
              "      <td>1.308216</td>\n",
              "      <td>0.164912</td>\n",
              "      <td>0.145152</td>\n",
              "      <td>4.799221</td>\n",
              "      <td>0.034503</td>\n",
              "      <td>17.608076</td>\n",
              "      <td>56.456074</td>\n",
              "      <td>0.003015</td>\n",
              "      <td>0.161441</td>\n",
              "      <td>0.148712</td>\n",
              "      <td>1.190661</td>\n",
              "      <td>0.872474</td>\n",
              "    </tr>\n",
              "    <tr>\n",
              "      <th>min</th>\n",
              "      <td>3.800000</td>\n",
              "      <td>0.080000</td>\n",
              "      <td>0.000000</td>\n",
              "      <td>0.600000</td>\n",
              "      <td>0.009000</td>\n",
              "      <td>1.000000</td>\n",
              "      <td>6.000000</td>\n",
              "      <td>0.987110</td>\n",
              "      <td>2.720000</td>\n",
              "      <td>0.220000</td>\n",
              "      <td>8.000000</td>\n",
              "      <td>3.000000</td>\n",
              "    </tr>\n",
              "    <tr>\n",
              "      <th>25%</th>\n",
              "      <td>6.400000</td>\n",
              "      <td>0.230000</td>\n",
              "      <td>0.250000</td>\n",
              "      <td>1.800000</td>\n",
              "      <td>0.038000</td>\n",
              "      <td>17.000000</td>\n",
              "      <td>77.000000</td>\n",
              "      <td>0.992400</td>\n",
              "      <td>3.110000</td>\n",
              "      <td>0.430000</td>\n",
              "      <td>9.500000</td>\n",
              "      <td>5.000000</td>\n",
              "    </tr>\n",
              "    <tr>\n",
              "      <th>50%</th>\n",
              "      <td>7.000000</td>\n",
              "      <td>0.290000</td>\n",
              "      <td>0.310000</td>\n",
              "      <td>3.000000</td>\n",
              "      <td>0.047000</td>\n",
              "      <td>29.000000</td>\n",
              "      <td>118.000000</td>\n",
              "      <td>0.994900</td>\n",
              "      <td>3.210000</td>\n",
              "      <td>0.510000</td>\n",
              "      <td>10.300000</td>\n",
              "      <td>6.000000</td>\n",
              "    </tr>\n",
              "    <tr>\n",
              "      <th>75%</th>\n",
              "      <td>7.700000</td>\n",
              "      <td>0.410000</td>\n",
              "      <td>0.390000</td>\n",
              "      <td>8.100000</td>\n",
              "      <td>0.065000</td>\n",
              "      <td>41.000000</td>\n",
              "      <td>156.000000</td>\n",
              "      <td>0.997000</td>\n",
              "      <td>3.320000</td>\n",
              "      <td>0.600000</td>\n",
              "      <td>11.300000</td>\n",
              "      <td>6.000000</td>\n",
              "    </tr>\n",
              "    <tr>\n",
              "      <th>max</th>\n",
              "      <td>15.900000</td>\n",
              "      <td>1.580000</td>\n",
              "      <td>1.660000</td>\n",
              "      <td>65.800000</td>\n",
              "      <td>0.611000</td>\n",
              "      <td>289.000000</td>\n",
              "      <td>440.000000</td>\n",
              "      <td>1.038980</td>\n",
              "      <td>4.010000</td>\n",
              "      <td>2.000000</td>\n",
              "      <td>14.900000</td>\n",
              "      <td>9.000000</td>\n",
              "    </tr>\n",
              "  </tbody>\n",
              "</table>\n",
              "</div>\n",
              "    <div class=\"colab-df-buttons\">\n",
              "\n",
              "  <div class=\"colab-df-container\">\n",
              "    <button class=\"colab-df-convert\" onclick=\"convertToInteractive('df-55e7804d-5807-4898-b700-dd96ebfe187e')\"\n",
              "            title=\"Convert this dataframe to an interactive table.\"\n",
              "            style=\"display:none;\">\n",
              "\n",
              "  <svg xmlns=\"http://www.w3.org/2000/svg\" height=\"24px\" viewBox=\"0 -960 960 960\">\n",
              "    <path d=\"M120-120v-720h720v720H120Zm60-500h600v-160H180v160Zm220 220h160v-160H400v160Zm0 220h160v-160H400v160ZM180-400h160v-160H180v160Zm440 0h160v-160H620v160ZM180-180h160v-160H180v160Zm440 0h160v-160H620v160Z\"/>\n",
              "  </svg>\n",
              "    </button>\n",
              "\n",
              "  <style>\n",
              "    .colab-df-container {\n",
              "      display:flex;\n",
              "      gap: 12px;\n",
              "    }\n",
              "\n",
              "    .colab-df-convert {\n",
              "      background-color: #E8F0FE;\n",
              "      border: none;\n",
              "      border-radius: 50%;\n",
              "      cursor: pointer;\n",
              "      display: none;\n",
              "      fill: #1967D2;\n",
              "      height: 32px;\n",
              "      padding: 0 0 0 0;\n",
              "      width: 32px;\n",
              "    }\n",
              "\n",
              "    .colab-df-convert:hover {\n",
              "      background-color: #E2EBFA;\n",
              "      box-shadow: 0px 1px 2px rgba(60, 64, 67, 0.3), 0px 1px 3px 1px rgba(60, 64, 67, 0.15);\n",
              "      fill: #174EA6;\n",
              "    }\n",
              "\n",
              "    .colab-df-buttons div {\n",
              "      margin-bottom: 4px;\n",
              "    }\n",
              "\n",
              "    [theme=dark] .colab-df-convert {\n",
              "      background-color: #3B4455;\n",
              "      fill: #D2E3FC;\n",
              "    }\n",
              "\n",
              "    [theme=dark] .colab-df-convert:hover {\n",
              "      background-color: #434B5C;\n",
              "      box-shadow: 0px 1px 3px 1px rgba(0, 0, 0, 0.15);\n",
              "      filter: drop-shadow(0px 1px 2px rgba(0, 0, 0, 0.3));\n",
              "      fill: #FFFFFF;\n",
              "    }\n",
              "  </style>\n",
              "\n",
              "    <script>\n",
              "      const buttonEl =\n",
              "        document.querySelector('#df-55e7804d-5807-4898-b700-dd96ebfe187e button.colab-df-convert');\n",
              "      buttonEl.style.display =\n",
              "        google.colab.kernel.accessAllowed ? 'block' : 'none';\n",
              "\n",
              "      async function convertToInteractive(key) {\n",
              "        const element = document.querySelector('#df-55e7804d-5807-4898-b700-dd96ebfe187e');\n",
              "        const dataTable =\n",
              "          await google.colab.kernel.invokeFunction('convertToInteractive',\n",
              "                                                    [key], {});\n",
              "        if (!dataTable) return;\n",
              "\n",
              "        const docLinkHtml = 'Like what you see? Visit the ' +\n",
              "          '<a target=\"_blank\" href=https://colab.research.google.com/notebooks/data_table.ipynb>data table notebook</a>'\n",
              "          + ' to learn more about interactive tables.';\n",
              "        element.innerHTML = '';\n",
              "        dataTable['output_type'] = 'display_data';\n",
              "        await google.colab.output.renderOutput(dataTable, element);\n",
              "        const docLink = document.createElement('div');\n",
              "        docLink.innerHTML = docLinkHtml;\n",
              "        element.appendChild(docLink);\n",
              "      }\n",
              "    </script>\n",
              "  </div>\n",
              "\n",
              "\n",
              "<div id=\"df-a8a4de8d-26a6-4c40-9f2b-5417bba923ec\">\n",
              "  <button class=\"colab-df-quickchart\" onclick=\"quickchart('df-a8a4de8d-26a6-4c40-9f2b-5417bba923ec')\"\n",
              "            title=\"Suggest charts.\"\n",
              "            style=\"display:none;\">\n",
              "\n",
              "<svg xmlns=\"http://www.w3.org/2000/svg\" height=\"24px\"viewBox=\"0 0 24 24\"\n",
              "     width=\"24px\">\n",
              "    <g>\n",
              "        <path d=\"M19 3H5c-1.1 0-2 .9-2 2v14c0 1.1.9 2 2 2h14c1.1 0 2-.9 2-2V5c0-1.1-.9-2-2-2zM9 17H7v-7h2v7zm4 0h-2V7h2v10zm4 0h-2v-4h2v4z\"/>\n",
              "    </g>\n",
              "</svg>\n",
              "  </button>\n",
              "\n",
              "<style>\n",
              "  .colab-df-quickchart {\n",
              "      --bg-color: #E8F0FE;\n",
              "      --fill-color: #1967D2;\n",
              "      --hover-bg-color: #E2EBFA;\n",
              "      --hover-fill-color: #174EA6;\n",
              "      --disabled-fill-color: #AAA;\n",
              "      --disabled-bg-color: #DDD;\n",
              "  }\n",
              "\n",
              "  [theme=dark] .colab-df-quickchart {\n",
              "      --bg-color: #3B4455;\n",
              "      --fill-color: #D2E3FC;\n",
              "      --hover-bg-color: #434B5C;\n",
              "      --hover-fill-color: #FFFFFF;\n",
              "      --disabled-bg-color: #3B4455;\n",
              "      --disabled-fill-color: #666;\n",
              "  }\n",
              "\n",
              "  .colab-df-quickchart {\n",
              "    background-color: var(--bg-color);\n",
              "    border: none;\n",
              "    border-radius: 50%;\n",
              "    cursor: pointer;\n",
              "    display: none;\n",
              "    fill: var(--fill-color);\n",
              "    height: 32px;\n",
              "    padding: 0;\n",
              "    width: 32px;\n",
              "  }\n",
              "\n",
              "  .colab-df-quickchart:hover {\n",
              "    background-color: var(--hover-bg-color);\n",
              "    box-shadow: 0 1px 2px rgba(60, 64, 67, 0.3), 0 1px 3px 1px rgba(60, 64, 67, 0.15);\n",
              "    fill: var(--button-hover-fill-color);\n",
              "  }\n",
              "\n",
              "  .colab-df-quickchart-complete:disabled,\n",
              "  .colab-df-quickchart-complete:disabled:hover {\n",
              "    background-color: var(--disabled-bg-color);\n",
              "    fill: var(--disabled-fill-color);\n",
              "    box-shadow: none;\n",
              "  }\n",
              "\n",
              "  .colab-df-spinner {\n",
              "    border: 2px solid var(--fill-color);\n",
              "    border-color: transparent;\n",
              "    border-bottom-color: var(--fill-color);\n",
              "    animation:\n",
              "      spin 1s steps(1) infinite;\n",
              "  }\n",
              "\n",
              "  @keyframes spin {\n",
              "    0% {\n",
              "      border-color: transparent;\n",
              "      border-bottom-color: var(--fill-color);\n",
              "      border-left-color: var(--fill-color);\n",
              "    }\n",
              "    20% {\n",
              "      border-color: transparent;\n",
              "      border-left-color: var(--fill-color);\n",
              "      border-top-color: var(--fill-color);\n",
              "    }\n",
              "    30% {\n",
              "      border-color: transparent;\n",
              "      border-left-color: var(--fill-color);\n",
              "      border-top-color: var(--fill-color);\n",
              "      border-right-color: var(--fill-color);\n",
              "    }\n",
              "    40% {\n",
              "      border-color: transparent;\n",
              "      border-right-color: var(--fill-color);\n",
              "      border-top-color: var(--fill-color);\n",
              "    }\n",
              "    60% {\n",
              "      border-color: transparent;\n",
              "      border-right-color: var(--fill-color);\n",
              "    }\n",
              "    80% {\n",
              "      border-color: transparent;\n",
              "      border-right-color: var(--fill-color);\n",
              "      border-bottom-color: var(--fill-color);\n",
              "    }\n",
              "    90% {\n",
              "      border-color: transparent;\n",
              "      border-bottom-color: var(--fill-color);\n",
              "    }\n",
              "  }\n",
              "</style>\n",
              "\n",
              "  <script>\n",
              "    async function quickchart(key) {\n",
              "      const quickchartButtonEl =\n",
              "        document.querySelector('#' + key + ' button');\n",
              "      quickchartButtonEl.disabled = true;  // To prevent multiple clicks.\n",
              "      quickchartButtonEl.classList.add('colab-df-spinner');\n",
              "      try {\n",
              "        const charts = await google.colab.kernel.invokeFunction(\n",
              "            'suggestCharts', [key], {});\n",
              "      } catch (error) {\n",
              "        console.error('Error during call to suggestCharts:', error);\n",
              "      }\n",
              "      quickchartButtonEl.classList.remove('colab-df-spinner');\n",
              "      quickchartButtonEl.classList.add('colab-df-quickchart-complete');\n",
              "    }\n",
              "    (() => {\n",
              "      let quickchartButtonEl =\n",
              "        document.querySelector('#df-a8a4de8d-26a6-4c40-9f2b-5417bba923ec button');\n",
              "      quickchartButtonEl.style.display =\n",
              "        google.colab.kernel.accessAllowed ? 'block' : 'none';\n",
              "    })();\n",
              "  </script>\n",
              "</div>\n",
              "    </div>\n",
              "  </div>\n"
            ],
            "text/plain": [
              "       fixed acidity  volatile acidity   citric acid  residual sugar  \\\n",
              "count   32485.000000      32485.000000  32485.000000    32485.000000   \n",
              "mean        7.214736          0.340122      0.318324        5.438696   \n",
              "std         1.308216          0.164912      0.145152        4.799221   \n",
              "min         3.800000          0.080000      0.000000        0.600000   \n",
              "25%         6.400000          0.230000      0.250000        1.800000   \n",
              "50%         7.000000          0.290000      0.310000        3.000000   \n",
              "75%         7.700000          0.410000      0.390000        8.100000   \n",
              "max        15.900000          1.580000      1.660000       65.800000   \n",
              "\n",
              "          chlorides  free sulfur dioxide  total sulfur dioxide       density  \\\n",
              "count  32485.000000         32485.000000          32485.000000  32485.000000   \n",
              "mean       0.056009            30.458258            115.656303      0.994719   \n",
              "std        0.034503            17.608076             56.456074      0.003015   \n",
              "min        0.009000             1.000000              6.000000      0.987110   \n",
              "25%        0.038000            17.000000             77.000000      0.992400   \n",
              "50%        0.047000            29.000000            118.000000      0.994900   \n",
              "75%        0.065000            41.000000            156.000000      0.997000   \n",
              "max        0.611000           289.000000            440.000000      1.038980   \n",
              "\n",
              "                 pH     sulphates       alcohol       quality  \n",
              "count  32485.000000  32485.000000  32485.000000  32485.000000  \n",
              "mean       3.219089      0.531500     10.480694      5.811698  \n",
              "std        0.161441      0.148712      1.190661      0.872474  \n",
              "min        2.720000      0.220000      8.000000      3.000000  \n",
              "25%        3.110000      0.430000      9.500000      5.000000  \n",
              "50%        3.210000      0.510000     10.300000      6.000000  \n",
              "75%        3.320000      0.600000     11.300000      6.000000  \n",
              "max        4.010000      2.000000     14.900000      9.000000  "
            ]
          },
          "execution_count": 5,
          "metadata": {},
          "output_type": "execute_result"
        }
      ],
      "source": [
        "wine_df.describe()"
      ]
    },
    {
      "cell_type": "code",
      "execution_count": null,
      "metadata": {
        "colab": {
          "base_uri": "https://localhost:8080/",
          "height": 430
        },
        "id": "YtLTCqI0mkdn",
        "outputId": "e4f2f06f-bf84-444d-ce61-3e13aa247400"
      },
      "outputs": [
        {
          "data": {
            "image/png": "[encoded data removed]",
            "text/plain": [
              "<Figure size 640x480 with 1 Axes>"
            ]
          },
          "metadata": {},
          "output_type": "display_data"
        }
      ],
      "source": [
        "plt.hist(wine_df['quality']);"
      ]
    },
    {
      "cell_type": "code",
      "execution_count": null,
      "metadata": {
        "colab": {
          "base_uri": "https://localhost:8080/"
        },
        "id": "6qPI-70omtp5",
        "outputId": "d892385c-0e16-415a-ddfe-560fbcca2285"
      },
      "outputs": [
        {
          "data": {
            "text/plain": [
              "fixed acidity           False\n",
              "volatile acidity        False\n",
              "citric acid             False\n",
              "residual sugar          False\n",
              "chlorides               False\n",
              "free sulfur dioxide     False\n",
              "total sulfur dioxide    False\n",
              "density                 False\n",
              "pH                      False\n",
              "sulphates               False\n",
              "alcohol                 False\n",
              "quality                 False\n",
              "Type                    False\n",
              "dtype: bool"
            ]
          },
          "execution_count": 7,
          "metadata": {},
          "output_type": "execute_result"
        }
      ],
      "source": [
        "wine_df.isnull().any()"
      ]
    },
    {
      "cell_type": "code",
      "execution_count": 3,
      "metadata": {
        "id": "ViXaLxlJnQFU"
      },
      "outputs": [],
      "source": [
        "wine=pd.get_dummies(wine_df,columns=['Type'])"
      ]
    },
    {
      "cell_type": "code",
      "execution_count": null,
      "metadata": {
        "colab": {
          "base_uri": "https://localhost:8080/",
          "height": 458
        },
        "id": "8h34v3xQoDfm",
        "outputId": "dab71d2a-780b-4dea-9182-4eb2300216ab"
      },
      "outputs": [
        {
          "data": {
            "text/html": [
              "\n",
              "  <div id=\"df-a99a1832-3127-4213-a227-1a2caf0bbee4\" class=\"colab-df-container\">\n",
              "    <div>\n",
              "<style scoped>\n",
              "    .dataframe tbody tr th:only-of-type {\n",
              "        vertical-align: middle;\n",
              "    }\n",
              "\n",
              "    .dataframe tbody tr th {\n",
              "        vertical-align: top;\n",
              "    }\n",
              "\n",
              "    .dataframe thead th {\n",
              "        text-align: right;\n",
              "    }\n",
              "</style>\n",
              "<table border=\"1\" class=\"dataframe\">\n",
              "  <thead>\n",
              "    <tr style=\"text-align: right;\">\n",
              "      <th></th>\n",
              "      <th>fixed acidity</th>\n",
              "      <th>volatile acidity</th>\n",
              "      <th>citric acid</th>\n",
              "      <th>residual sugar</th>\n",
              "      <th>chlorides</th>\n",
              "      <th>free sulfur dioxide</th>\n",
              "      <th>total sulfur dioxide</th>\n",
              "      <th>density</th>\n",
              "      <th>pH</th>\n",
              "      <th>sulphates</th>\n",
              "      <th>alcohol</th>\n",
              "      <th>quality</th>\n",
              "      <th>Type_Red Wine</th>\n",
              "      <th>Type_White Wine</th>\n",
              "    </tr>\n",
              "  </thead>\n",
              "  <tbody>\n",
              "    <tr>\n",
              "      <th>2732</th>\n",
              "      <td>7.4</td>\n",
              "      <td>0.170</td>\n",
              "      <td>0.29</td>\n",
              "      <td>1.4</td>\n",
              "      <td>0.047</td>\n",
              "      <td>23.0</td>\n",
              "      <td>107.0</td>\n",
              "      <td>0.99390</td>\n",
              "      <td>3.52</td>\n",
              "      <td>0.65</td>\n",
              "      <td>10.4</td>\n",
              "      <td>6</td>\n",
              "      <td>0</td>\n",
              "      <td>1</td>\n",
              "    </tr>\n",
              "    <tr>\n",
              "      <th>2607</th>\n",
              "      <td>5.3</td>\n",
              "      <td>0.310</td>\n",
              "      <td>0.38</td>\n",
              "      <td>10.5</td>\n",
              "      <td>0.031</td>\n",
              "      <td>53.0</td>\n",
              "      <td>140.0</td>\n",
              "      <td>0.99321</td>\n",
              "      <td>3.34</td>\n",
              "      <td>0.46</td>\n",
              "      <td>11.7</td>\n",
              "      <td>6</td>\n",
              "      <td>0</td>\n",
              "      <td>1</td>\n",
              "    </tr>\n",
              "    <tr>\n",
              "      <th>1653</th>\n",
              "      <td>4.7</td>\n",
              "      <td>0.145</td>\n",
              "      <td>0.29</td>\n",
              "      <td>1.0</td>\n",
              "      <td>0.042</td>\n",
              "      <td>35.0</td>\n",
              "      <td>90.0</td>\n",
              "      <td>0.99080</td>\n",
              "      <td>3.76</td>\n",
              "      <td>0.49</td>\n",
              "      <td>11.3</td>\n",
              "      <td>6</td>\n",
              "      <td>0</td>\n",
              "      <td>1</td>\n",
              "    </tr>\n",
              "    <tr>\n",
              "      <th>3264</th>\n",
              "      <td>6.9</td>\n",
              "      <td>0.260</td>\n",
              "      <td>0.29</td>\n",
              "      <td>4.2</td>\n",
              "      <td>0.043</td>\n",
              "      <td>33.0</td>\n",
              "      <td>114.0</td>\n",
              "      <td>0.99020</td>\n",
              "      <td>3.16</td>\n",
              "      <td>0.31</td>\n",
              "      <td>12.5</td>\n",
              "      <td>6</td>\n",
              "      <td>0</td>\n",
              "      <td>1</td>\n",
              "    </tr>\n",
              "    <tr>\n",
              "      <th>4931</th>\n",
              "      <td>6.4</td>\n",
              "      <td>0.450</td>\n",
              "      <td>0.07</td>\n",
              "      <td>1.1</td>\n",
              "      <td>0.030</td>\n",
              "      <td>10.0</td>\n",
              "      <td>131.0</td>\n",
              "      <td>0.99050</td>\n",
              "      <td>2.97</td>\n",
              "      <td>0.28</td>\n",
              "      <td>10.8</td>\n",
              "      <td>5</td>\n",
              "      <td>0</td>\n",
              "      <td>1</td>\n",
              "    </tr>\n",
              "    <tr>\n",
              "      <th>...</th>\n",
              "      <td>...</td>\n",
              "      <td>...</td>\n",
              "      <td>...</td>\n",
              "      <td>...</td>\n",
              "      <td>...</td>\n",
              "      <td>...</td>\n",
              "      <td>...</td>\n",
              "      <td>...</td>\n",
              "      <td>...</td>\n",
              "      <td>...</td>\n",
              "      <td>...</td>\n",
              "      <td>...</td>\n",
              "      <td>...</td>\n",
              "      <td>...</td>\n",
              "    </tr>\n",
              "    <tr>\n",
              "      <th>2838</th>\n",
              "      <td>5.0</td>\n",
              "      <td>0.255</td>\n",
              "      <td>0.22</td>\n",
              "      <td>2.7</td>\n",
              "      <td>0.043</td>\n",
              "      <td>46.0</td>\n",
              "      <td>153.0</td>\n",
              "      <td>0.99238</td>\n",
              "      <td>3.75</td>\n",
              "      <td>0.76</td>\n",
              "      <td>11.3</td>\n",
              "      <td>6</td>\n",
              "      <td>0</td>\n",
              "      <td>1</td>\n",
              "    </tr>\n",
              "    <tr>\n",
              "      <th>6414</th>\n",
              "      <td>6.6</td>\n",
              "      <td>0.360</td>\n",
              "      <td>0.52</td>\n",
              "      <td>11.3</td>\n",
              "      <td>0.046</td>\n",
              "      <td>8.0</td>\n",
              "      <td>110.0</td>\n",
              "      <td>0.99660</td>\n",
              "      <td>3.07</td>\n",
              "      <td>0.46</td>\n",
              "      <td>9.4</td>\n",
              "      <td>5</td>\n",
              "      <td>0</td>\n",
              "      <td>1</td>\n",
              "    </tr>\n",
              "    <tr>\n",
              "      <th>1126</th>\n",
              "      <td>6.3</td>\n",
              "      <td>0.200</td>\n",
              "      <td>0.24</td>\n",
              "      <td>1.7</td>\n",
              "      <td>0.052</td>\n",
              "      <td>36.0</td>\n",
              "      <td>135.0</td>\n",
              "      <td>0.99374</td>\n",
              "      <td>3.80</td>\n",
              "      <td>0.66</td>\n",
              "      <td>10.8</td>\n",
              "      <td>6</td>\n",
              "      <td>0</td>\n",
              "      <td>1</td>\n",
              "    </tr>\n",
              "    <tr>\n",
              "      <th>2924</th>\n",
              "      <td>6.2</td>\n",
              "      <td>0.200</td>\n",
              "      <td>0.33</td>\n",
              "      <td>5.4</td>\n",
              "      <td>0.028</td>\n",
              "      <td>21.0</td>\n",
              "      <td>75.0</td>\n",
              "      <td>0.99012</td>\n",
              "      <td>3.36</td>\n",
              "      <td>0.41</td>\n",
              "      <td>13.5</td>\n",
              "      <td>7</td>\n",
              "      <td>0</td>\n",
              "      <td>1</td>\n",
              "    </tr>\n",
              "    <tr>\n",
              "      <th>5462</th>\n",
              "      <td>8.1</td>\n",
              "      <td>0.280</td>\n",
              "      <td>0.46</td>\n",
              "      <td>15.4</td>\n",
              "      <td>0.059</td>\n",
              "      <td>32.0</td>\n",
              "      <td>177.0</td>\n",
              "      <td>1.00040</td>\n",
              "      <td>3.27</td>\n",
              "      <td>0.58</td>\n",
              "      <td>9.0</td>\n",
              "      <td>4</td>\n",
              "      <td>0</td>\n",
              "      <td>1</td>\n",
              "    </tr>\n",
              "  </tbody>\n",
              "</table>\n",
              "<p>32485 rows × 14 columns</p>\n",
              "</div>\n",
              "    <div class=\"colab-df-buttons\">\n",
              "\n",
              "  <div class=\"colab-df-container\">\n",
              "    <button class=\"colab-df-convert\" onclick=\"convertToInteractive('df-a99a1832-3127-4213-a227-1a2caf0bbee4')\"\n",
              "            title=\"Convert this dataframe to an interactive table.\"\n",
              "            style=\"display:none;\">\n",
              "\n",
              "  <svg xmlns=\"http://www.w3.org/2000/svg\" height=\"24px\" viewBox=\"0 -960 960 960\">\n",
              "    <path d=\"M120-120v-720h720v720H120Zm60-500h600v-160H180v160Zm220 220h160v-160H400v160Zm0 220h160v-160H400v160ZM180-400h160v-160H180v160Zm440 0h160v-160H620v160ZM180-180h160v-160H180v160Zm440 0h160v-160H620v160Z\"/>\n",
              "  </svg>\n",
              "    </button>\n",
              "\n",
              "  <style>\n",
              "    .colab-df-container {\n",
              "      display:flex;\n",
              "      gap: 12px;\n",
              "    }\n",
              "\n",
              "    .colab-df-convert {\n",
              "      background-color: #E8F0FE;\n",
              "      border: none;\n",
              "      border-radius: 50%;\n",
              "      cursor: pointer;\n",
              "      display: none;\n",
              "      fill: #1967D2;\n",
              "      height: 32px;\n",
              "      padding: 0 0 0 0;\n",
              "      width: 32px;\n",
              "    }\n",
              "\n",
              "    .colab-df-convert:hover {\n",
              "      background-color: #E2EBFA;\n",
              "      box-shadow: 0px 1px 2px rgba(60, 64, 67, 0.3), 0px 1px 3px 1px rgba(60, 64, 67, 0.15);\n",
              "      fill: #174EA6;\n",
              "    }\n",
              "\n",
              "    .colab-df-buttons div {\n",
              "      margin-bottom: 4px;\n",
              "    }\n",
              "\n",
              "    [theme=dark] .colab-df-convert {\n",
              "      background-color: #3B4455;\n",
              "      fill: #D2E3FC;\n",
              "    }\n",
              "\n",
              "    [theme=dark] .colab-df-convert:hover {\n",
              "      background-color: #434B5C;\n",
              "      box-shadow: 0px 1px 3px 1px rgba(0, 0, 0, 0.15);\n",
              "      filter: drop-shadow(0px 1px 2px rgba(0, 0, 0, 0.3));\n",
              "      fill: #FFFFFF;\n",
              "    }\n",
              "  </style>\n",
              "\n",
              "    <script>\n",
              "      const buttonEl =\n",
              "        document.querySelector('#df-a99a1832-3127-4213-a227-1a2caf0bbee4 button.colab-df-convert');\n",
              "      buttonEl.style.display =\n",
              "        google.colab.kernel.accessAllowed ? 'block' : 'none';\n",
              "\n",
              "      async function convertToInteractive(key) {\n",
              "        const element = document.querySelector('#df-a99a1832-3127-4213-a227-1a2caf0bbee4');\n",
              "        const dataTable =\n",
              "          await google.colab.kernel.invokeFunction('convertToInteractive',\n",
              "                                                    [key], {});\n",
              "        if (!dataTable) return;\n",
              "\n",
              "        const docLinkHtml = 'Like what you see? Visit the ' +\n",
              "          '<a target=\"_blank\" href=https://colab.research.google.com/notebooks/data_table.ipynb>data table notebook</a>'\n",
              "          + ' to learn more about interactive tables.';\n",
              "        element.innerHTML = '';\n",
              "        dataTable['output_type'] = 'display_data';\n",
              "        await google.colab.output.renderOutput(dataTable, element);\n",
              "        const docLink = document.createElement('div');\n",
              "        docLink.innerHTML = docLinkHtml;\n",
              "        element.appendChild(docLink);\n",
              "      }\n",
              "    </script>\n",
              "  </div>\n",
              "\n",
              "\n",
              "<div id=\"df-91638375-c1a4-4da5-b354-f4f56bcab9b2\">\n",
              "  <button class=\"colab-df-quickchart\" onclick=\"quickchart('df-91638375-c1a4-4da5-b354-f4f56bcab9b2')\"\n",
              "            title=\"Suggest charts.\"\n",
              "            style=\"display:none;\">\n",
              "\n",
              "<svg xmlns=\"http://www.w3.org/2000/svg\" height=\"24px\"viewBox=\"0 0 24 24\"\n",
              "     width=\"24px\">\n",
              "    <g>\n",
              "        <path d=\"M19 3H5c-1.1 0-2 .9-2 2v14c0 1.1.9 2 2 2h14c1.1 0 2-.9 2-2V5c0-1.1-.9-2-2-2zM9 17H7v-7h2v7zm4 0h-2V7h2v10zm4 0h-2v-4h2v4z\"/>\n",
              "    </g>\n",
              "</svg>\n",
              "  </button>\n",
              "\n",
              "<style>\n",
              "  .colab-df-quickchart {\n",
              "      --bg-color: #E8F0FE;\n",
              "      --fill-color: #1967D2;\n",
              "      --hover-bg-color: #E2EBFA;\n",
              "      --hover-fill-color: #174EA6;\n",
              "      --disabled-fill-color: #AAA;\n",
              "      --disabled-bg-color: #DDD;\n",
              "  }\n",
              "\n",
              "  [theme=dark] .colab-df-quickchart {\n",
              "      --bg-color: #3B4455;\n",
              "      --fill-color: #D2E3FC;\n",
              "      --hover-bg-color: #434B5C;\n",
              "      --hover-fill-color: #FFFFFF;\n",
              "      --disabled-bg-color: #3B4455;\n",
              "      --disabled-fill-color: #666;\n",
              "  }\n",
              "\n",
              "  .colab-df-quickchart {\n",
              "    background-color: var(--bg-color);\n",
              "    border: none;\n",
              "    border-radius: 50%;\n",
              "    cursor: pointer;\n",
              "    display: none;\n",
              "    fill: var(--fill-color);\n",
              "    height: 32px;\n",
              "    padding: 0;\n",
              "    width: 32px;\n",
              "  }\n",
              "\n",
              "  .colab-df-quickchart:hover {\n",
              "    background-color: var(--hover-bg-color);\n",
              "    box-shadow: 0 1px 2px rgba(60, 64, 67, 0.3), 0 1px 3px 1px rgba(60, 64, 67, 0.15);\n",
              "    fill: var(--button-hover-fill-color);\n",
              "  }\n",
              "\n",
              "  .colab-df-quickchart-complete:disabled,\n",
              "  .colab-df-quickchart-complete:disabled:hover {\n",
              "    background-color: var(--disabled-bg-color);\n",
              "    fill: var(--disabled-fill-color);\n",
              "    box-shadow: none;\n",
              "  }\n",
              "\n",
              "  .colab-df-spinner {\n",
              "    border: 2px solid var(--fill-color);\n",
              "    border-color: transparent;\n",
              "    border-bottom-color: var(--fill-color);\n",
              "    animation:\n",
              "      spin 1s steps(1) infinite;\n",
              "  }\n",
              "\n",
              "  @keyframes spin {\n",
              "    0% {\n",
              "      border-color: transparent;\n",
              "      border-bottom-color: var(--fill-color);\n",
              "      border-left-color: var(--fill-color);\n",
              "    }\n",
              "    20% {\n",
              "      border-color: transparent;\n",
              "      border-left-color: var(--fill-color);\n",
              "      border-top-color: var(--fill-color);\n",
              "    }\n",
              "    30% {\n",
              "      border-color: transparent;\n",
              "      border-left-color: var(--fill-color);\n",
              "      border-top-color: var(--fill-color);\n",
              "      border-right-color: var(--fill-color);\n",
              "    }\n",
              "    40% {\n",
              "      border-color: transparent;\n",
              "      border-right-color: var(--fill-color);\n",
              "      border-top-color: var(--fill-color);\n",
              "    }\n",
              "    60% {\n",
              "      border-color: transparent;\n",
              "      border-right-color: var(--fill-color);\n",
              "    }\n",
              "    80% {\n",
              "      border-color: transparent;\n",
              "      border-right-color: var(--fill-color);\n",
              "      border-bottom-color: var(--fill-color);\n",
              "    }\n",
              "    90% {\n",
              "      border-color: transparent;\n",
              "      border-bottom-color: var(--fill-color);\n",
              "    }\n",
              "  }\n",
              "</style>\n",
              "\n",
              "  <script>\n",
              "    async function quickchart(key) {\n",
              "      const quickchartButtonEl =\n",
              "        document.querySelector('#' + key + ' button');\n",
              "      quickchartButtonEl.disabled = true;  // To prevent multiple clicks.\n",
              "      quickchartButtonEl.classList.add('colab-df-spinner');\n",
              "      try {\n",
              "        const charts = await google.colab.kernel.invokeFunction(\n",
              "            'suggestCharts', [key], {});\n",
              "      } catch (error) {\n",
              "        console.error('Error during call to suggestCharts:', error);\n",
              "      }\n",
              "      quickchartButtonEl.classList.remove('colab-df-spinner');\n",
              "      quickchartButtonEl.classList.add('colab-df-quickchart-complete');\n",
              "    }\n",
              "    (() => {\n",
              "      let quickchartButtonEl =\n",
              "        document.querySelector('#df-91638375-c1a4-4da5-b354-f4f56bcab9b2 button');\n",
              "      quickchartButtonEl.style.display =\n",
              "        google.colab.kernel.accessAllowed ? 'block' : 'none';\n",
              "    })();\n",
              "  </script>\n",
              "</div>\n",
              "    </div>\n",
              "  </div>\n"
            ],
            "text/plain": [
              "      fixed acidity  volatile acidity  citric acid  residual sugar  chlorides  \\\n",
              "2732            7.4             0.170         0.29             1.4      0.047   \n",
              "2607            5.3             0.310         0.38            10.5      0.031   \n",
              "1653            4.7             0.145         0.29             1.0      0.042   \n",
              "3264            6.9             0.260         0.29             4.2      0.043   \n",
              "4931            6.4             0.450         0.07             1.1      0.030   \n",
              "...             ...               ...          ...             ...        ...   \n",
              "2838            5.0             0.255         0.22             2.7      0.043   \n",
              "6414            6.6             0.360         0.52            11.3      0.046   \n",
              "1126            6.3             0.200         0.24             1.7      0.052   \n",
              "2924            6.2             0.200         0.33             5.4      0.028   \n",
              "5462            8.1             0.280         0.46            15.4      0.059   \n",
              "\n",
              "      free sulfur dioxide  total sulfur dioxide  density    pH  sulphates  \\\n",
              "2732                 23.0                 107.0  0.99390  3.52       0.65   \n",
              "2607                 53.0                 140.0  0.99321  3.34       0.46   \n",
              "1653                 35.0                  90.0  0.99080  3.76       0.49   \n",
              "3264                 33.0                 114.0  0.99020  3.16       0.31   \n",
              "4931                 10.0                 131.0  0.99050  2.97       0.28   \n",
              "...                   ...                   ...      ...   ...        ...   \n",
              "2838                 46.0                 153.0  0.99238  3.75       0.76   \n",
              "6414                  8.0                 110.0  0.99660  3.07       0.46   \n",
              "1126                 36.0                 135.0  0.99374  3.80       0.66   \n",
              "2924                 21.0                  75.0  0.99012  3.36       0.41   \n",
              "5462                 32.0                 177.0  1.00040  3.27       0.58   \n",
              "\n",
              "      alcohol  quality  Type_Red Wine  Type_White Wine  \n",
              "2732     10.4        6              0                1  \n",
              "2607     11.7        6              0                1  \n",
              "1653     11.3        6              0                1  \n",
              "3264     12.5        6              0                1  \n",
              "4931     10.8        5              0                1  \n",
              "...       ...      ...            ...              ...  \n",
              "2838     11.3        6              0                1  \n",
              "6414      9.4        5              0                1  \n",
              "1126     10.8        6              0                1  \n",
              "2924     13.5        7              0                1  \n",
              "5462      9.0        4              0                1  \n",
              "\n",
              "[32485 rows x 14 columns]"
            ]
          },
          "execution_count": 7,
          "metadata": {},
          "output_type": "execute_result"
        }
      ],
      "source": [
        "wine"
      ]
    },
    {
      "cell_type": "code",
      "execution_count": 4,
      "metadata": {
        "id": "P57tbZ1loNco"
      },
      "outputs": [],
      "source": [
        "Y=wine['quality']\n",
        "X=wine.drop('quality',inplace=False,axis=1)"
      ]
    },
    {
      "cell_type": "code",
      "execution_count": null,
      "metadata": {
        "colab": {
          "base_uri": "https://localhost:8080/",
          "height": 458
        },
        "id": "mDIT1uzRpI4k",
        "outputId": "d5d71e23-d7af-4dc4-9129-5fbe68be3cb1"
      },
      "outputs": [
        {
          "data": {
            "text/html": [
              "\n",
              "  <div id=\"df-1ffd4a1f-0e29-4326-8c44-1ccf3506a9ad\" class=\"colab-df-container\">\n",
              "    <div>\n",
              "<style scoped>\n",
              "    .dataframe tbody tr th:only-of-type {\n",
              "        vertical-align: middle;\n",
              "    }\n",
              "\n",
              "    .dataframe tbody tr th {\n",
              "        vertical-align: top;\n",
              "    }\n",
              "\n",
              "    .dataframe thead th {\n",
              "        text-align: right;\n",
              "    }\n",
              "</style>\n",
              "<table border=\"1\" class=\"dataframe\">\n",
              "  <thead>\n",
              "    <tr style=\"text-align: right;\">\n",
              "      <th></th>\n",
              "      <th>fixed acidity</th>\n",
              "      <th>volatile acidity</th>\n",
              "      <th>citric acid</th>\n",
              "      <th>residual sugar</th>\n",
              "      <th>chlorides</th>\n",
              "      <th>free sulfur dioxide</th>\n",
              "      <th>total sulfur dioxide</th>\n",
              "      <th>density</th>\n",
              "      <th>pH</th>\n",
              "      <th>sulphates</th>\n",
              "      <th>alcohol</th>\n",
              "      <th>Type_Red Wine</th>\n",
              "      <th>Type_White Wine</th>\n",
              "    </tr>\n",
              "  </thead>\n",
              "  <tbody>\n",
              "    <tr>\n",
              "      <th>2732</th>\n",
              "      <td>7.4</td>\n",
              "      <td>0.170</td>\n",
              "      <td>0.29</td>\n",
              "      <td>1.4</td>\n",
              "      <td>0.047</td>\n",
              "      <td>23.0</td>\n",
              "      <td>107.0</td>\n",
              "      <td>0.99390</td>\n",
              "      <td>3.52</td>\n",
              "      <td>0.65</td>\n",
              "      <td>10.4</td>\n",
              "      <td>0</td>\n",
              "      <td>1</td>\n",
              "    </tr>\n",
              "    <tr>\n",
              "      <th>2607</th>\n",
              "      <td>5.3</td>\n",
              "      <td>0.310</td>\n",
              "      <td>0.38</td>\n",
              "      <td>10.5</td>\n",
              "      <td>0.031</td>\n",
              "      <td>53.0</td>\n",
              "      <td>140.0</td>\n",
              "      <td>0.99321</td>\n",
              "      <td>3.34</td>\n",
              "      <td>0.46</td>\n",
              "      <td>11.7</td>\n",
              "      <td>0</td>\n",
              "      <td>1</td>\n",
              "    </tr>\n",
              "    <tr>\n",
              "      <th>1653</th>\n",
              "      <td>4.7</td>\n",
              "      <td>0.145</td>\n",
              "      <td>0.29</td>\n",
              "      <td>1.0</td>\n",
              "      <td>0.042</td>\n",
              "      <td>35.0</td>\n",
              "      <td>90.0</td>\n",
              "      <td>0.99080</td>\n",
              "      <td>3.76</td>\n",
              "      <td>0.49</td>\n",
              "      <td>11.3</td>\n",
              "      <td>0</td>\n",
              "      <td>1</td>\n",
              "    </tr>\n",
              "    <tr>\n",
              "      <th>3264</th>\n",
              "      <td>6.9</td>\n",
              "      <td>0.260</td>\n",
              "      <td>0.29</td>\n",
              "      <td>4.2</td>\n",
              "      <td>0.043</td>\n",
              "      <td>33.0</td>\n",
              "      <td>114.0</td>\n",
              "      <td>0.99020</td>\n",
              "      <td>3.16</td>\n",
              "      <td>0.31</td>\n",
              "      <td>12.5</td>\n",
              "      <td>0</td>\n",
              "      <td>1</td>\n",
              "    </tr>\n",
              "    <tr>\n",
              "      <th>4931</th>\n",
              "      <td>6.4</td>\n",
              "      <td>0.450</td>\n",
              "      <td>0.07</td>\n",
              "      <td>1.1</td>\n",
              "      <td>0.030</td>\n",
              "      <td>10.0</td>\n",
              "      <td>131.0</td>\n",
              "      <td>0.99050</td>\n",
              "      <td>2.97</td>\n",
              "      <td>0.28</td>\n",
              "      <td>10.8</td>\n",
              "      <td>0</td>\n",
              "      <td>1</td>\n",
              "    </tr>\n",
              "    <tr>\n",
              "      <th>...</th>\n",
              "      <td>...</td>\n",
              "      <td>...</td>\n",
              "      <td>...</td>\n",
              "      <td>...</td>\n",
              "      <td>...</td>\n",
              "      <td>...</td>\n",
              "      <td>...</td>\n",
              "      <td>...</td>\n",
              "      <td>...</td>\n",
              "      <td>...</td>\n",
              "      <td>...</td>\n",
              "      <td>...</td>\n",
              "      <td>...</td>\n",
              "    </tr>\n",
              "    <tr>\n",
              "      <th>2838</th>\n",
              "      <td>5.0</td>\n",
              "      <td>0.255</td>\n",
              "      <td>0.22</td>\n",
              "      <td>2.7</td>\n",
              "      <td>0.043</td>\n",
              "      <td>46.0</td>\n",
              "      <td>153.0</td>\n",
              "      <td>0.99238</td>\n",
              "      <td>3.75</td>\n",
              "      <td>0.76</td>\n",
              "      <td>11.3</td>\n",
              "      <td>0</td>\n",
              "      <td>1</td>\n",
              "    </tr>\n",
              "    <tr>\n",
              "      <th>6414</th>\n",
              "      <td>6.6</td>\n",
              "      <td>0.360</td>\n",
              "      <td>0.52</td>\n",
              "      <td>11.3</td>\n",
              "      <td>0.046</td>\n",
              "      <td>8.0</td>\n",
              "      <td>110.0</td>\n",
              "      <td>0.99660</td>\n",
              "      <td>3.07</td>\n",
              "      <td>0.46</td>\n",
              "      <td>9.4</td>\n",
              "      <td>0</td>\n",
              "      <td>1</td>\n",
              "    </tr>\n",
              "    <tr>\n",
              "      <th>1126</th>\n",
              "      <td>6.3</td>\n",
              "      <td>0.200</td>\n",
              "      <td>0.24</td>\n",
              "      <td>1.7</td>\n",
              "      <td>0.052</td>\n",
              "      <td>36.0</td>\n",
              "      <td>135.0</td>\n",
              "      <td>0.99374</td>\n",
              "      <td>3.80</td>\n",
              "      <td>0.66</td>\n",
              "      <td>10.8</td>\n",
              "      <td>0</td>\n",
              "      <td>1</td>\n",
              "    </tr>\n",
              "    <tr>\n",
              "      <th>2924</th>\n",
              "      <td>6.2</td>\n",
              "      <td>0.200</td>\n",
              "      <td>0.33</td>\n",
              "      <td>5.4</td>\n",
              "      <td>0.028</td>\n",
              "      <td>21.0</td>\n",
              "      <td>75.0</td>\n",
              "      <td>0.99012</td>\n",
              "      <td>3.36</td>\n",
              "      <td>0.41</td>\n",
              "      <td>13.5</td>\n",
              "      <td>0</td>\n",
              "      <td>1</td>\n",
              "    </tr>\n",
              "    <tr>\n",
              "      <th>5462</th>\n",
              "      <td>8.1</td>\n",
              "      <td>0.280</td>\n",
              "      <td>0.46</td>\n",
              "      <td>15.4</td>\n",
              "      <td>0.059</td>\n",
              "      <td>32.0</td>\n",
              "      <td>177.0</td>\n",
              "      <td>1.00040</td>\n",
              "      <td>3.27</td>\n",
              "      <td>0.58</td>\n",
              "      <td>9.0</td>\n",
              "      <td>0</td>\n",
              "      <td>1</td>\n",
              "    </tr>\n",
              "  </tbody>\n",
              "</table>\n",
              "<p>32485 rows × 13 columns</p>\n",
              "</div>\n",
              "    <div class=\"colab-df-buttons\">\n",
              "\n",
              "  <div class=\"colab-df-container\">\n",
              "    <button class=\"colab-df-convert\" onclick=\"convertToInteractive('df-1ffd4a1f-0e29-4326-8c44-1ccf3506a9ad')\"\n",
              "            title=\"Convert this dataframe to an interactive table.\"\n",
              "            style=\"display:none;\">\n",
              "\n",
              "  <svg xmlns=\"http://www.w3.org/2000/svg\" height=\"24px\" viewBox=\"0 -960 960 960\">\n",
              "    <path d=\"M120-120v-720h720v720H120Zm60-500h600v-160H180v160Zm220 220h160v-160H400v160Zm0 220h160v-160H400v160ZM180-400h160v-160H180v160Zm440 0h160v-160H620v160ZM180-180h160v-160H180v160Zm440 0h160v-160H620v160Z\"/>\n",
              "  </svg>\n",
              "    </button>\n",
              "\n",
              "  <style>\n",
              "    .colab-df-container {\n",
              "      display:flex;\n",
              "      gap: 12px;\n",
              "    }\n",
              "\n",
              "    .colab-df-convert {\n",
              "      background-color: #E8F0FE;\n",
              "      border: none;\n",
              "      border-radius: 50%;\n",
              "      cursor: pointer;\n",
              "      display: none;\n",
              "      fill: #1967D2;\n",
              "      height: 32px;\n",
              "      padding: 0 0 0 0;\n",
              "      width: 32px;\n",
              "    }\n",
              "\n",
              "    .colab-df-convert:hover {\n",
              "      background-color: #E2EBFA;\n",
              "      box-shadow: 0px 1px 2px rgba(60, 64, 67, 0.3), 0px 1px 3px 1px rgba(60, 64, 67, 0.15);\n",
              "      fill: #174EA6;\n",
              "    }\n",
              "\n",
              "    .colab-df-buttons div {\n",
              "      margin-bottom: 4px;\n",
              "    }\n",
              "\n",
              "    [theme=dark] .colab-df-convert {\n",
              "      background-color: #3B4455;\n",
              "      fill: #D2E3FC;\n",
              "    }\n",
              "\n",
              "    [theme=dark] .colab-df-convert:hover {\n",
              "      background-color: #434B5C;\n",
              "      box-shadow: 0px 1px 3px 1px rgba(0, 0, 0, 0.15);\n",
              "      filter: drop-shadow(0px 1px 2px rgba(0, 0, 0, 0.3));\n",
              "      fill: #FFFFFF;\n",
              "    }\n",
              "  </style>\n",
              "\n",
              "    <script>\n",
              "      const buttonEl =\n",
              "        document.querySelector('#df-1ffd4a1f-0e29-4326-8c44-1ccf3506a9ad button.colab-df-convert');\n",
              "      buttonEl.style.display =\n",
              "        google.colab.kernel.accessAllowed ? 'block' : 'none';\n",
              "\n",
              "      async function convertToInteractive(key) {\n",
              "        const element = document.querySelector('#df-1ffd4a1f-0e29-4326-8c44-1ccf3506a9ad');\n",
              "        const dataTable =\n",
              "          await google.colab.kernel.invokeFunction('convertToInteractive',\n",
              "                                                    [key], {});\n",
              "        if (!dataTable) return;\n",
              "\n",
              "        const docLinkHtml = 'Like what you see? Visit the ' +\n",
              "          '<a target=\"_blank\" href=https://colab.research.google.com/notebooks/data_table.ipynb>data table notebook</a>'\n",
              "          + ' to learn more about interactive tables.';\n",
              "        element.innerHTML = '';\n",
              "        dataTable['output_type'] = 'display_data';\n",
              "        await google.colab.output.renderOutput(dataTable, element);\n",
              "        const docLink = document.createElement('div');\n",
              "        docLink.innerHTML = docLinkHtml;\n",
              "        element.appendChild(docLink);\n",
              "      }\n",
              "    </script>\n",
              "  </div>\n",
              "\n",
              "\n",
              "<div id=\"df-5843e184-6094-41bd-ade4-205d88668297\">\n",
              "  <button class=\"colab-df-quickchart\" onclick=\"quickchart('df-5843e184-6094-41bd-ade4-205d88668297')\"\n",
              "            title=\"Suggest charts.\"\n",
              "            style=\"display:none;\">\n",
              "\n",
              "<svg xmlns=\"http://www.w3.org/2000/svg\" height=\"24px\"viewBox=\"0 0 24 24\"\n",
              "     width=\"24px\">\n",
              "    <g>\n",
              "        <path d=\"M19 3H5c-1.1 0-2 .9-2 2v14c0 1.1.9 2 2 2h14c1.1 0 2-.9 2-2V5c0-1.1-.9-2-2-2zM9 17H7v-7h2v7zm4 0h-2V7h2v10zm4 0h-2v-4h2v4z\"/>\n",
              "    </g>\n",
              "</svg>\n",
              "  </button>\n",
              "\n",
              "<style>\n",
              "  .colab-df-quickchart {\n",
              "      --bg-color: #E8F0FE;\n",
              "      --fill-color: #1967D2;\n",
              "      --hover-bg-color: #E2EBFA;\n",
              "      --hover-fill-color: #174EA6;\n",
              "      --disabled-fill-color: #AAA;\n",
              "      --disabled-bg-color: #DDD;\n",
              "  }\n",
              "\n",
              "  [theme=dark] .colab-df-quickchart {\n",
              "      --bg-color: #3B4455;\n",
              "      --fill-color: #D2E3FC;\n",
              "      --hover-bg-color: #434B5C;\n",
              "      --hover-fill-color: #FFFFFF;\n",
              "      --disabled-bg-color: #3B4455;\n",
              "      --disabled-fill-color: #666;\n",
              "  }\n",
              "\n",
              "  .colab-df-quickchart {\n",
              "    background-color: var(--bg-color);\n",
              "    border: none;\n",
              "    border-radius: 50%;\n",
              "    cursor: pointer;\n",
              "    display: none;\n",
              "    fill: var(--fill-color);\n",
              "    height: 32px;\n",
              "    padding: 0;\n",
              "    width: 32px;\n",
              "  }\n",
              "\n",
              "  .colab-df-quickchart:hover {\n",
              "    background-color: var(--hover-bg-color);\n",
              "    box-shadow: 0 1px 2px rgba(60, 64, 67, 0.3), 0 1px 3px 1px rgba(60, 64, 67, 0.15);\n",
              "    fill: var(--button-hover-fill-color);\n",
              "  }\n",
              "\n",
              "  .colab-df-quickchart-complete:disabled,\n",
              "  .colab-df-quickchart-complete:disabled:hover {\n",
              "    background-color: var(--disabled-bg-color);\n",
              "    fill: var(--disabled-fill-color);\n",
              "    box-shadow: none;\n",
              "  }\n",
              "\n",
              "  .colab-df-spinner {\n",
              "    border: 2px solid var(--fill-color);\n",
              "    border-color: transparent;\n",
              "    border-bottom-color: var(--fill-color);\n",
              "    animation:\n",
              "      spin 1s steps(1) infinite;\n",
              "  }\n",
              "\n",
              "  @keyframes spin {\n",
              "    0% {\n",
              "      border-color: transparent;\n",
              "      border-bottom-color: var(--fill-color);\n",
              "      border-left-color: var(--fill-color);\n",
              "    }\n",
              "    20% {\n",
              "      border-color: transparent;\n",
              "      border-left-color: var(--fill-color);\n",
              "      border-top-color: var(--fill-color);\n",
              "    }\n",
              "    30% {\n",
              "      border-color: transparent;\n",
              "      border-left-color: var(--fill-color);\n",
              "      border-top-color: var(--fill-color);\n",
              "      border-right-color: var(--fill-color);\n",
              "    }\n",
              "    40% {\n",
              "      border-color: transparent;\n",
              "      border-right-color: var(--fill-color);\n",
              "      border-top-color: var(--fill-color);\n",
              "    }\n",
              "    60% {\n",
              "      border-color: transparent;\n",
              "      border-right-color: var(--fill-color);\n",
              "    }\n",
              "    80% {\n",
              "      border-color: transparent;\n",
              "      border-right-color: var(--fill-color);\n",
              "      border-bottom-color: var(--fill-color);\n",
              "    }\n",
              "    90% {\n",
              "      border-color: transparent;\n",
              "      border-bottom-color: var(--fill-color);\n",
              "    }\n",
              "  }\n",
              "</style>\n",
              "\n",
              "  <script>\n",
              "    async function quickchart(key) {\n",
              "      const quickchartButtonEl =\n",
              "        document.querySelector('#' + key + ' button');\n",
              "      quickchartButtonEl.disabled = true;  // To prevent multiple clicks.\n",
              "      quickchartButtonEl.classList.add('colab-df-spinner');\n",
              "      try {\n",
              "        const charts = await google.colab.kernel.invokeFunction(\n",
              "            'suggestCharts', [key], {});\n",
              "      } catch (error) {\n",
              "        console.error('Error during call to suggestCharts:', error);\n",
              "      }\n",
              "      quickchartButtonEl.classList.remove('colab-df-spinner');\n",
              "      quickchartButtonEl.classList.add('colab-df-quickchart-complete');\n",
              "    }\n",
              "    (() => {\n",
              "      let quickchartButtonEl =\n",
              "        document.querySelector('#df-5843e184-6094-41bd-ade4-205d88668297 button');\n",
              "      quickchartButtonEl.style.display =\n",
              "        google.colab.kernel.accessAllowed ? 'block' : 'none';\n",
              "    })();\n",
              "  </script>\n",
              "</div>\n",
              "    </div>\n",
              "  </div>\n"
            ],
            "text/plain": [
              "      fixed acidity  volatile acidity  citric acid  residual sugar  chlorides  \\\n",
              "2732            7.4             0.170         0.29             1.4      0.047   \n",
              "2607            5.3             0.310         0.38            10.5      0.031   \n",
              "1653            4.7             0.145         0.29             1.0      0.042   \n",
              "3264            6.9             0.260         0.29             4.2      0.043   \n",
              "4931            6.4             0.450         0.07             1.1      0.030   \n",
              "...             ...               ...          ...             ...        ...   \n",
              "2838            5.0             0.255         0.22             2.7      0.043   \n",
              "6414            6.6             0.360         0.52            11.3      0.046   \n",
              "1126            6.3             0.200         0.24             1.7      0.052   \n",
              "2924            6.2             0.200         0.33             5.4      0.028   \n",
              "5462            8.1             0.280         0.46            15.4      0.059   \n",
              "\n",
              "      free sulfur dioxide  total sulfur dioxide  density    pH  sulphates  \\\n",
              "2732                 23.0                 107.0  0.99390  3.52       0.65   \n",
              "2607                 53.0                 140.0  0.99321  3.34       0.46   \n",
              "1653                 35.0                  90.0  0.99080  3.76       0.49   \n",
              "3264                 33.0                 114.0  0.99020  3.16       0.31   \n",
              "4931                 10.0                 131.0  0.99050  2.97       0.28   \n",
              "...                   ...                   ...      ...   ...        ...   \n",
              "2838                 46.0                 153.0  0.99238  3.75       0.76   \n",
              "6414                  8.0                 110.0  0.99660  3.07       0.46   \n",
              "1126                 36.0                 135.0  0.99374  3.80       0.66   \n",
              "2924                 21.0                  75.0  0.99012  3.36       0.41   \n",
              "5462                 32.0                 177.0  1.00040  3.27       0.58   \n",
              "\n",
              "      alcohol  Type_Red Wine  Type_White Wine  \n",
              "2732     10.4              0                1  \n",
              "2607     11.7              0                1  \n",
              "1653     11.3              0                1  \n",
              "3264     12.5              0                1  \n",
              "4931     10.8              0                1  \n",
              "...       ...            ...              ...  \n",
              "2838     11.3              0                1  \n",
              "6414      9.4              0                1  \n",
              "1126     10.8              0                1  \n",
              "2924     13.5              0                1  \n",
              "5462      9.0              0                1  \n",
              "\n",
              "[32485 rows x 13 columns]"
            ]
          },
          "execution_count": 7,
          "metadata": {},
          "output_type": "execute_result"
        }
      ],
      "source": [
        "X"
      ]
    },
    {
      "cell_type": "code",
      "execution_count": 5,
      "metadata": {
        "id": "em9HJCATpa0e"
      },
      "outputs": [],
      "source": [
        "scaler=StandardScaler()"
      ]
    },
    {
      "cell_type": "code",
      "execution_count": 6,
      "metadata": {
        "id": "8xZzBXMgpm6s"
      },
      "outputs": [],
      "source": [
        "X_norm=scaler.fit_transform(X)"
      ]
    },
    {
      "cell_type": "code",
      "execution_count": null,
      "metadata": {
        "colab": {
          "base_uri": "https://localhost:8080/"
        },
        "id": "_X-Az0frpoIP",
        "outputId": "4b21c164-309b-493b-cc31-a8d8f871545e"
      },
      "outputs": [
        {
          "data": {
            "text/plain": [
              "array([[ 0.14161795, -1.0316074 , -0.19513894, ..., -0.06777317,\n",
              "        -0.57312028,  0.57312028],\n",
              "       [-1.46364672, -0.18265712,  0.4249084 , ...,  1.02407377,\n",
              "        -0.57312028,  0.57312028],\n",
              "       [-1.92229377, -1.18320566, -0.19513894, ...,  0.68812087,\n",
              "        -0.57312028,  0.57312028],\n",
              "       ...,\n",
              "       [-0.69923497, -0.84968948, -0.53960969, ...,  0.26817974,\n",
              "        -0.57312028,  0.57312028],\n",
              "       [-0.77567615, -0.84968948,  0.08043766, ...,  2.53586184,\n",
              "        -0.57312028,  0.57312028],\n",
              "       [ 0.67670618, -0.36457504,  0.9760616 , ..., -1.24360833,\n",
              "        -0.57312028,  0.57312028]])"
            ]
          },
          "execution_count": 10,
          "metadata": {},
          "output_type": "execute_result"
        }
      ],
      "source": [
        "X_norm"
      ]
    },
    {
      "cell_type": "code",
      "execution_count": 7,
      "metadata": {
        "id": "Dta_7hsSqGXN"
      },
      "outputs": [],
      "source": [
        "X_train,X_test,Y_train,Y_test=train_test_split(X_norm,Y,test_size=0.2,random_state=1,stratify=Y)"
      ]
    },
    {
      "cell_type": "code",
      "execution_count": 8,
      "metadata": {
        "id": "3ZFTdlaBqSIB"
      },
      "outputs": [],
      "source": [
        "Y_train=np.array(Y_train).reshape(-1,1)\n",
        "Y_test=np.array(Y_test).reshape(-1,1)"
      ]
    },
    {
      "cell_type": "code",
      "execution_count": null,
      "metadata": {
        "colab": {
          "base_uri": "https://localhost:8080/",
          "height": 273
        },
        "id": "u94dovctqaED",
        "outputId": "e209a521-1479-42e2-80ed-59de284b4a06"
      },
      "outputs": [
        {
          "name": "stderr",
          "output_type": "stream",
          "text": [
            "/usr/local/lib/python3.10/dist-packages/sklearn/utils/validation.py:1143: DataConversionWarning: A column-vector y was passed when a 1d array was expected. Please change the shape of y to (n_samples, ), for example using ravel().\n",
            "  y = column_or_1d(y, warn=True)\n",
            "/usr/local/lib/python3.10/dist-packages/sklearn/linear_model/_logistic.py:458: ConvergenceWarning: lbfgs failed to converge (status=1):\n",
            "STOP: TOTAL NO. of ITERATIONS REACHED LIMIT.\n",
            "\n",
            "Increase the number of iterations (max_iter) or scale the data as shown in:\n",
            "    https://scikit-learn.org/stable/modules/preprocessing.html\n",
            "Please also refer to the documentation for alternative solver options:\n",
            "    https://scikit-learn.org/stable/modules/linear_model.html#logistic-regression\n",
            "  n_iter_i = _check_optimize_result(\n"
          ]
        },
        {
          "data": {
            "text/html": [
              "<style>#sk-container-id-3 {color: black;background-color: white;}#sk-container-id-3 pre{padding: 0;}#sk-container-id-3 div.sk-toggleable {background-color: white;}#sk-container-id-3 label.sk-toggleable__label {cursor: pointer;display: block;width: 100%;margin-bottom: 0;padding: 0.3em;box-sizing: border-box;text-align: center;}#sk-container-id-3 label.sk-toggleable__label-arrow:before {content: \"▸\";float: left;margin-right: 0.25em;color: #696969;}#sk-container-id-3 label.sk-toggleable__label-arrow:hover:before {color: black;}#sk-container-id-3 div.sk-estimator:hover label.sk-toggleable__label-arrow:before {color: black;}#sk-container-id-3 div.sk-toggleable__content {max-height: 0;max-width: 0;overflow: hidden;text-align: left;background-color: #f0f8ff;}#sk-container-id-3 div.sk-toggleable__content pre {margin: 0.2em;color: black;border-radius: 0.25em;background-color: #f0f8ff;}#sk-container-id-3 input.sk-toggleable__control:checked~div.sk-toggleable__content {max-height: 200px;max-width: 100%;overflow: auto;}#sk-container-id-3 input.sk-toggleable__control:checked~label.sk-toggleable__label-arrow:before {content: \"▾\";}#sk-container-id-3 div.sk-estimator input.sk-toggleable__control:checked~label.sk-toggleable__label {background-color: #d4ebff;}#sk-container-id-3 div.sk-label input.sk-toggleable__control:checked~label.sk-toggleable__label {background-color: #d4ebff;}#sk-container-id-3 input.sk-hidden--visually {border: 0;clip: rect(1px 1px 1px 1px);clip: rect(1px, 1px, 1px, 1px);height: 1px;margin: -1px;overflow: hidden;padding: 0;position: absolute;width: 1px;}#sk-container-id-3 div.sk-estimator {font-family: monospace;background-color: #f0f8ff;border: 1px dotted black;border-radius: 0.25em;box-sizing: border-box;margin-bottom: 0.5em;}#sk-container-id-3 div.sk-estimator:hover {background-color: #d4ebff;}#sk-container-id-3 div.sk-parallel-item::after {content: \"\";width: 100%;border-bottom: 1px solid gray;flex-grow: 1;}#sk-container-id-3 div.sk-label:hover label.sk-toggleable__label {background-color: #d4ebff;}#sk-container-id-3 div.sk-serial::before {content: \"\";position: absolute;border-left: 1px solid gray;box-sizing: border-box;top: 0;bottom: 0;left: 50%;z-index: 0;}#sk-container-id-3 div.sk-serial {display: flex;flex-direction: column;align-items: center;background-color: white;padding-right: 0.2em;padding-left: 0.2em;position: relative;}#sk-container-id-3 div.sk-item {position: relative;z-index: 1;}#sk-container-id-3 div.sk-parallel {display: flex;align-items: stretch;justify-content: center;background-color: white;position: relative;}#sk-container-id-3 div.sk-item::before, #sk-container-id-3 div.sk-parallel-item::before {content: \"\";position: absolute;border-left: 1px solid gray;box-sizing: border-box;top: 0;bottom: 0;left: 50%;z-index: -1;}#sk-container-id-3 div.sk-parallel-item {display: flex;flex-direction: column;z-index: 1;position: relative;background-color: white;}#sk-container-id-3 div.sk-parallel-item:first-child::after {align-self: flex-end;width: 50%;}#sk-container-id-3 div.sk-parallel-item:last-child::after {align-self: flex-start;width: 50%;}#sk-container-id-3 div.sk-parallel-item:only-child::after {width: 0;}#sk-container-id-3 div.sk-dashed-wrapped {border: 1px dashed gray;margin: 0 0.4em 0.5em 0.4em;box-sizing: border-box;padding-bottom: 0.4em;background-color: white;}#sk-container-id-3 div.sk-label label {font-family: monospace;font-weight: bold;display: inline-block;line-height: 1.2em;}#sk-container-id-3 div.sk-label-container {text-align: center;}#sk-container-id-3 div.sk-container {/* jupyter's `normalize.less` sets `[hidden] { display: none; }` but bootstrap.min.css set `[hidden] { display: none !important; }` so we also need the `!important` here to be able to override the default hidden behavior on the sphinx rendered scikit-learn.org. See: https://github.com/scikit-learn/scikit-learn/issues/21755 */display: inline-block !important;position: relative;}#sk-container-id-3 div.sk-text-repr-fallback {display: none;}</style><div id=\"sk-container-id-3\" class=\"sk-top-container\"><div class=\"sk-text-repr-fallback\"><pre>LogisticRegression(multi_class=&#x27;multinomial&#x27;)</pre><b>In a Jupyter environment, please rerun this cell to show the HTML representation or trust the notebook. <br />On GitHub, the HTML representation is unable to render, please try loading this page with nbviewer.org.</b></div><div class=\"sk-container\" hidden><div class=\"sk-item\"><div class=\"sk-estimator sk-toggleable\"><input class=\"sk-toggleable__control sk-hidden--visually\" id=\"sk-estimator-id-3\" type=\"checkbox\" checked><label for=\"sk-estimator-id-3\" class=\"sk-toggleable__label sk-toggleable__label-arrow\">LogisticRegression</label><div class=\"sk-toggleable__content\"><pre>LogisticRegression(multi_class=&#x27;multinomial&#x27;)</pre></div></div></div></div></div>"
            ],
            "text/plain": [
              "LogisticRegression(multi_class='multinomial')"
            ]
          },
          "execution_count": 32,
          "metadata": {},
          "output_type": "execute_result"
        }
      ],
      "source": [
        "logistic_model=LogisticRegression(multi_class='multinomial',solver='lbfgs',penalty='l2',C=1.0)\n",
        "logistic_model.fit(X_train,Y_train)"
      ]
    },
    {
      "cell_type": "code",
      "execution_count": null,
      "metadata": {
        "id": "lf9d4PDgr8mN"
      },
      "outputs": [],
      "source": [
        "logistic_predictions=logistic_model.predict(X_test)"
      ]
    },
    {
      "cell_type": "code",
      "execution_count": null,
      "metadata": {
        "colab": {
          "base_uri": "https://localhost:8080/"
        },
        "id": "Oc9nFjExsDMa",
        "outputId": "1c0c55d4-4240-4e6b-9c29-b1fd68472964"
      },
      "outputs": [
        {
          "name": "stdout",
          "output_type": "stream",
          "text": [
            "              precision    recall  f1-score   support\n",
            "\n",
            "           3       0.00      0.00      0.00        27\n",
            "           4       0.55      0.07      0.12       229\n",
            "           5       0.60      0.57      0.58      2151\n",
            "           6       0.51      0.71      0.60      2823\n",
            "           7       0.50      0.24      0.33      1074\n",
            "           8       0.00      0.00      0.00       188\n",
            "           9       0.00      0.00      0.00         5\n",
            "\n",
            "    accuracy                           0.54      6497\n",
            "   macro avg       0.31      0.23      0.23      6497\n",
            "weighted avg       0.52      0.54      0.51      6497\n",
            "\n"
          ]
        }
      ],
      "source": [
        "print(classification_report(Y_test,logistic_predictions,zero_division=0))"
      ]
    },
    {
      "cell_type": "code",
      "execution_count": null,
      "metadata": {
        "id": "MwpRj4IYsJql"
      },
      "outputs": [],
      "source": [
        "logistic_model_confusion_matrix=confusion_matrix(Y_test,logistic_predictions)"
      ]
    },
    {
      "cell_type": "code",
      "execution_count": null,
      "metadata": {
        "colab": {
          "base_uri": "https://localhost:8080/",
          "height": 467
        },
        "id": "yPn1Phisaiwr",
        "outputId": "3694280e-e1de-4c33-8d3a-bb27888abef9"
      },
      "outputs": [
        {
          "data": {
            "text/plain": [
              "<sklearn.metrics._plot.confusion_matrix.ConfusionMatrixDisplay at 0x7854dfe8f9a0>"
            ]
          },
          "execution_count": 36,
          "metadata": {},
          "output_type": "execute_result"
        },
        {
          "data": {
            "image/png": "[encoded data removed]",
            "text/plain": [
              "<Figure size 640x480 with 2 Axes>"
            ]
          },
          "metadata": {},
          "output_type": "display_data"
        }
      ],
      "source": [
        "disp = ConfusionMatrixDisplay(confusion_matrix=logistic_model_confusion_matrix,\n",
        "                               display_labels=logistic_model.classes_)\n",
        "disp.plot()"
      ]
    },
    {
      "cell_type": "markdown",
      "metadata": {
        "id": "DJmEZRKGgqMl"
      },
      "source": [
        "##Decision Tree"
      ]
    },
    {
      "cell_type": "code",
      "execution_count": null,
      "metadata": {
        "id": "35ypt8lubHTD"
      },
      "outputs": [],
      "source": [
        "tree_model=tree.DecisionTreeClassifier()"
      ]
    },
    {
      "cell_type": "code",
      "execution_count": null,
      "metadata": {
        "id": "Gmf-G0a3hW1J"
      },
      "outputs": [],
      "source": [
        "params={'max_depth':[random.randint(2,20)]}"
      ]
    },
    {
      "cell_type": "code",
      "execution_count": null,
      "metadata": {
        "colab": {
          "base_uri": "https://localhost:8080/",
          "height": 116
        },
        "id": "9oXqbxyLhmdM",
        "outputId": "6d39a8d4-feae-4819-e70d-9d719c9ab958"
      },
      "outputs": [
        {
          "data": {
            "text/html": [
              "<style>#sk-container-id-4 {color: black;background-color: white;}#sk-container-id-4 pre{padding: 0;}#sk-container-id-4 div.sk-toggleable {background-color: white;}#sk-container-id-4 label.sk-toggleable__label {cursor: pointer;display: block;width: 100%;margin-bottom: 0;padding: 0.3em;box-sizing: border-box;text-align: center;}#sk-container-id-4 label.sk-toggleable__label-arrow:before {content: \"▸\";float: left;margin-right: 0.25em;color: #696969;}#sk-container-id-4 label.sk-toggleable__label-arrow:hover:before {color: black;}#sk-container-id-4 div.sk-estimator:hover label.sk-toggleable__label-arrow:before {color: black;}#sk-container-id-4 div.sk-toggleable__content {max-height: 0;max-width: 0;overflow: hidden;text-align: left;background-color: #f0f8ff;}#sk-container-id-4 div.sk-toggleable__content pre {margin: 0.2em;color: black;border-radius: 0.25em;background-color: #f0f8ff;}#sk-container-id-4 input.sk-toggleable__control:checked~div.sk-toggleable__content {max-height: 200px;max-width: 100%;overflow: auto;}#sk-container-id-4 input.sk-toggleable__control:checked~label.sk-toggleable__label-arrow:before {content: \"▾\";}#sk-container-id-4 div.sk-estimator input.sk-toggleable__control:checked~label.sk-toggleable__label {background-color: #d4ebff;}#sk-container-id-4 div.sk-label input.sk-toggleable__control:checked~label.sk-toggleable__label {background-color: #d4ebff;}#sk-container-id-4 input.sk-hidden--visually {border: 0;clip: rect(1px 1px 1px 1px);clip: rect(1px, 1px, 1px, 1px);height: 1px;margin: -1px;overflow: hidden;padding: 0;position: absolute;width: 1px;}#sk-container-id-4 div.sk-estimator {font-family: monospace;background-color: #f0f8ff;border: 1px dotted black;border-radius: 0.25em;box-sizing: border-box;margin-bottom: 0.5em;}#sk-container-id-4 div.sk-estimator:hover {background-color: #d4ebff;}#sk-container-id-4 div.sk-parallel-item::after {content: \"\";width: 100%;border-bottom: 1px solid gray;flex-grow: 1;}#sk-container-id-4 div.sk-label:hover label.sk-toggleable__label {background-color: #d4ebff;}#sk-container-id-4 div.sk-serial::before {content: \"\";position: absolute;border-left: 1px solid gray;box-sizing: border-box;top: 0;bottom: 0;left: 50%;z-index: 0;}#sk-container-id-4 div.sk-serial {display: flex;flex-direction: column;align-items: center;background-color: white;padding-right: 0.2em;padding-left: 0.2em;position: relative;}#sk-container-id-4 div.sk-item {position: relative;z-index: 1;}#sk-container-id-4 div.sk-parallel {display: flex;align-items: stretch;justify-content: center;background-color: white;position: relative;}#sk-container-id-4 div.sk-item::before, #sk-container-id-4 div.sk-parallel-item::before {content: \"\";position: absolute;border-left: 1px solid gray;box-sizing: border-box;top: 0;bottom: 0;left: 50%;z-index: -1;}#sk-container-id-4 div.sk-parallel-item {display: flex;flex-direction: column;z-index: 1;position: relative;background-color: white;}#sk-container-id-4 div.sk-parallel-item:first-child::after {align-self: flex-end;width: 50%;}#sk-container-id-4 div.sk-parallel-item:last-child::after {align-self: flex-start;width: 50%;}#sk-container-id-4 div.sk-parallel-item:only-child::after {width: 0;}#sk-container-id-4 div.sk-dashed-wrapped {border: 1px dashed gray;margin: 0 0.4em 0.5em 0.4em;box-sizing: border-box;padding-bottom: 0.4em;background-color: white;}#sk-container-id-4 div.sk-label label {font-family: monospace;font-weight: bold;display: inline-block;line-height: 1.2em;}#sk-container-id-4 div.sk-label-container {text-align: center;}#sk-container-id-4 div.sk-container {/* jupyter's `normalize.less` sets `[hidden] { display: none; }` but bootstrap.min.css set `[hidden] { display: none !important; }` so we also need the `!important` here to be able to override the default hidden behavior on the sphinx rendered scikit-learn.org. See: https://github.com/scikit-learn/scikit-learn/issues/21755 */display: inline-block !important;position: relative;}#sk-container-id-4 div.sk-text-repr-fallback {display: none;}</style><div id=\"sk-container-id-4\" class=\"sk-top-container\"><div class=\"sk-text-repr-fallback\"><pre>GridSearchCV(cv=5, estimator=DecisionTreeClassifier(),\n",
              "             param_grid={&#x27;max_depth&#x27;: [9]}, scoring=&#x27;accuracy&#x27;)</pre><b>In a Jupyter environment, please rerun this cell to show the HTML representation or trust the notebook. <br />On GitHub, the HTML representation is unable to render, please try loading this page with nbviewer.org.</b></div><div class=\"sk-container\" hidden><div class=\"sk-item sk-dashed-wrapped\"><div class=\"sk-label-container\"><div class=\"sk-label sk-toggleable\"><input class=\"sk-toggleable__control sk-hidden--visually\" id=\"sk-estimator-id-4\" type=\"checkbox\" ><label for=\"sk-estimator-id-4\" class=\"sk-toggleable__label sk-toggleable__label-arrow\">GridSearchCV</label><div class=\"sk-toggleable__content\"><pre>GridSearchCV(cv=5, estimator=DecisionTreeClassifier(),\n",
              "             param_grid={&#x27;max_depth&#x27;: [9]}, scoring=&#x27;accuracy&#x27;)</pre></div></div></div><div class=\"sk-parallel\"><div class=\"sk-parallel-item\"><div class=\"sk-item\"><div class=\"sk-label-container\"><div class=\"sk-label sk-toggleable\"><input class=\"sk-toggleable__control sk-hidden--visually\" id=\"sk-estimator-id-5\" type=\"checkbox\" ><label for=\"sk-estimator-id-5\" class=\"sk-toggleable__label sk-toggleable__label-arrow\">estimator: DecisionTreeClassifier</label><div class=\"sk-toggleable__content\"><pre>DecisionTreeClassifier()</pre></div></div></div><div class=\"sk-serial\"><div class=\"sk-item\"><div class=\"sk-estimator sk-toggleable\"><input class=\"sk-toggleable__control sk-hidden--visually\" id=\"sk-estimator-id-6\" type=\"checkbox\" ><label for=\"sk-estimator-id-6\" class=\"sk-toggleable__label sk-toggleable__label-arrow\">DecisionTreeClassifier</label><div class=\"sk-toggleable__content\"><pre>DecisionTreeClassifier()</pre></div></div></div></div></div></div></div></div></div></div>"
            ],
            "text/plain": [
              "GridSearchCV(cv=5, estimator=DecisionTreeClassifier(),\n",
              "             param_grid={'max_depth': [9]}, scoring='accuracy')"
            ]
          },
          "execution_count": 45,
          "metadata": {},
          "output_type": "execute_result"
        }
      ],
      "source": [
        "search = GridSearchCV(tree_model, params, cv=5, scoring='accuracy')\n",
        "search.fit(X_train, Y_train)"
      ]
    },
    {
      "cell_type": "code",
      "execution_count": null,
      "metadata": {
        "colab": {
          "base_uri": "https://localhost:8080/"
        },
        "id": "raTHuQ3KhzIg",
        "outputId": "52dbffc5-7982-4f0e-bd80-4877bf09b3a2"
      },
      "outputs": [
        {
          "name": "stdout",
          "output_type": "stream",
          "text": [
            "Best hyperparameters: {'max_depth': 9}\n",
            "Best score: 0.6795062161458023\n"
          ]
        }
      ],
      "source": [
        "print(\"Best hyperparameters:\", search.best_params_)\n",
        "print(\"Best score:\", search.best_score_)"
      ]
    },
    {
      "cell_type": "code",
      "execution_count": null,
      "metadata": {
        "id": "XEOjl9kvh8UB"
      },
      "outputs": [],
      "source": [
        "tree_model=search.best_estimator_"
      ]
    },
    {
      "cell_type": "code",
      "execution_count": null,
      "metadata": {
        "id": "WBAH1L_SiEpP"
      },
      "outputs": [],
      "source": [
        "tree_predictions=tree_model.predict(X_test)"
      ]
    },
    {
      "cell_type": "code",
      "execution_count": null,
      "metadata": {
        "colab": {
          "base_uri": "https://localhost:8080/"
        },
        "id": "T6bZ_O-GiIhR",
        "outputId": "c80456e2-441b-4f17-ec42-4ba487fb0e3f"
      },
      "outputs": [
        {
          "name": "stdout",
          "output_type": "stream",
          "text": [
            "              precision    recall  f1-score   support\n",
            "\n",
            "           3       1.00      0.04      0.07        27\n",
            "           4       0.83      0.25      0.39       229\n",
            "           5       0.71      0.73      0.72      2151\n",
            "           6       0.64      0.78      0.71      2823\n",
            "           7       0.70      0.45      0.55      1074\n",
            "           8       0.77      0.27      0.40       188\n",
            "           9       0.00      0.00      0.00         5\n",
            "\n",
            "    accuracy                           0.67      6497\n",
            "   macro avg       0.66      0.36      0.41      6497\n",
            "weighted avg       0.68      0.67      0.66      6497\n",
            "\n"
          ]
        },
        {
          "name": "stderr",
          "output_type": "stream",
          "text": [
            "/usr/local/lib/python3.10/dist-packages/sklearn/metrics/_classification.py:1344: UndefinedMetricWarning: Precision and F-score are ill-defined and being set to 0.0 in labels with no predicted samples. Use `zero_division` parameter to control this behavior.\n",
            "  _warn_prf(average, modifier, msg_start, len(result))\n",
            "/usr/local/lib/python3.10/dist-packages/sklearn/metrics/_classification.py:1344: UndefinedMetricWarning: Precision and F-score are ill-defined and being set to 0.0 in labels with no predicted samples. Use `zero_division` parameter to control this behavior.\n",
            "  _warn_prf(average, modifier, msg_start, len(result))\n",
            "/usr/local/lib/python3.10/dist-packages/sklearn/metrics/_classification.py:1344: UndefinedMetricWarning: Precision and F-score are ill-defined and being set to 0.0 in labels with no predicted samples. Use `zero_division` parameter to control this behavior.\n",
            "  _warn_prf(average, modifier, msg_start, len(result))\n"
          ]
        }
      ],
      "source": [
        "print(classification_report(Y_test,tree_predictions))"
      ]
    },
    {
      "cell_type": "code",
      "execution_count": null,
      "metadata": {
        "id": "cPo0wF6ViOz2"
      },
      "outputs": [],
      "source": [
        "tree_confusion_matrix=confusion_matrix(Y_test,tree_predictions)"
      ]
    },
    {
      "cell_type": "code",
      "execution_count": null,
      "metadata": {
        "colab": {
          "base_uri": "https://localhost:8080/",
          "height": 467
        },
        "id": "OIruSVV4iiC8",
        "outputId": "27a5fcf9-e7f8-46f3-b437-90bbb41fccd1"
      },
      "outputs": [
        {
          "data": {
            "text/plain": [
              "<sklearn.metrics._plot.confusion_matrix.ConfusionMatrixDisplay at 0x7854dffc0ca0>"
            ]
          },
          "execution_count": 53,
          "metadata": {},
          "output_type": "execute_result"
        },
        {
          "data": {
            "image/png": "[encoded data removed]",
            "text/plain": [
              "<Figure size 640x480 with 2 Axes>"
            ]
          },
          "metadata": {},
          "output_type": "display_data"
        }
      ],
      "source": [
        "disp = ConfusionMatrixDisplay(confusion_matrix=tree_confusion_matrix,\n",
        "                               display_labels=tree_model.classes_)\n",
        "disp.plot()"
      ]
    },
    {
      "cell_type": "code",
      "execution_count": null,
      "metadata": {
        "colab": {
          "base_uri": "https://localhost:8080/",
          "height": 456
        },
        "id": "997BpKrdjS3p",
        "outputId": "500e8ed6-846a-41cc-b899-2a21a05de2a5"
      },
      "outputs": [
        {
          "data": {
            "image/svg+xml": "<?xml version=\"1.0\" encoding=\"UTF-8\" standalone=\"no\"?>\n<!DOCTYPE svg PUBLIC \"-//W3C//DTD SVG 1.1//EN\"\n \"http://www.w3.org/Graphics/SVG/1.1/DTD/svg11.dtd\">\n<!-- Generated by graphviz version 2.43.0 (0)\n -->\n<!-- Title: Tree Pages: 1 -->\n<svg width=\"1447pt\" height=\"311pt\"\n viewBox=\"0.00 0.00 1447.00 311.00\" xmlns=\"http://www.w3.org/2000/svg\" xmlns:xlink=\"http://www.w3.org/1999/xlink\">\n<g id=\"graph0\" class=\"graph\" transform=\"scale(1 1) rotate(0) translate(4 307)\">\n<title>Tree</title>\n<polygon fill=\"white\" stroke=\"transparent\" points=\"-4,4 -4,-307 1443,-307 1443,4 -4,4\"/>\n<!-- 0 -->\n<g id=\"node1\" class=\"node\">\n<title>0</title>\n<polygon fill=\"#e0fbfb\" stroke=\"black\" points=\"896,-303 543,-303 543,-250 896,-250 896,-303\"/>\n<text text-anchor=\"middle\" x=\"719.5\" y=\"-287.8\" font-family=\"Helvetica,sans-Serif\" font-size=\"14.00\">alcohol &lt;= 0.121</text>\n<text text-anchor=\"middle\" x=\"719.5\" y=\"-272.8\" font-family=\"Helvetica,sans-Serif\" font-size=\"14.00\">samples = 100.0%</text>\n<text text-anchor=\"middle\" x=\"719.5\" y=\"-257.8\" font-family=\"Helvetica,sans-Serif\" font-size=\"14.00\">value = [0.004, 0.035, 0.331, 0.435, 0.165, 0.029, 0.001]</text>\n</g>\n<!-- 1 -->\n<g id=\"node2\" class=\"node\">\n<title>1</title>\n<polygon fill=\"#edfdef\" stroke=\"black\" points=\"705,-214 374,-214 374,-161 705,-161 705,-214\"/>\n<text text-anchor=\"middle\" x=\"539.5\" y=\"-198.8\" font-family=\"Helvetica,sans-Serif\" font-size=\"14.00\">volatile acidity &lt;= &#45;0.395</text>\n<text text-anchor=\"middle\" x=\"539.5\" y=\"-183.8\" font-family=\"Helvetica,sans-Serif\" font-size=\"14.00\">samples = 60.0%</text>\n<text text-anchor=\"middle\" x=\"539.5\" y=\"-168.8\" font-family=\"Helvetica,sans-Serif\" font-size=\"14.00\">value = [0.004, 0.043, 0.463, 0.41, 0.071, 0.009, 0.0]</text>\n</g>\n<!-- 0&#45;&gt;1 -->\n<g id=\"edge1\" class=\"edge\">\n<title>0&#45;&gt;1</title>\n<path fill=\"none\" stroke=\"black\" d=\"M666.47,-249.87C646.14,-240.04 622.77,-228.75 601.67,-218.55\"/>\n<polygon fill=\"black\" stroke=\"black\" points=\"602.99,-215.3 592.46,-214.1 599.94,-221.6 602.99,-215.3\"/>\n<text text-anchor=\"middle\" x=\"600.69\" y=\"-234.01\" font-family=\"Helvetica,sans-Serif\" font-size=\"14.00\">True</text>\n</g>\n<!-- 318 -->\n<g id=\"node9\" class=\"node\">\n<title>318</title>\n<polygon fill=\"#d0f9f8\" stroke=\"black\" points=\"1076,-214 723,-214 723,-161 1076,-161 1076,-214\"/>\n<text text-anchor=\"middle\" x=\"899.5\" y=\"-198.8\" font-family=\"Helvetica,sans-Serif\" font-size=\"14.00\">alcohol &lt;= 1.059</text>\n<text text-anchor=\"middle\" x=\"899.5\" y=\"-183.8\" font-family=\"Helvetica,sans-Serif\" font-size=\"14.00\">samples = 40.0%</text>\n<text text-anchor=\"middle\" x=\"899.5\" y=\"-168.8\" font-family=\"Helvetica,sans-Serif\" font-size=\"14.00\">value = [0.004, 0.024, 0.133, 0.472, 0.306, 0.059, 0.001]</text>\n</g>\n<!-- 0&#45;&gt;318 -->\n<g id=\"edge8\" class=\"edge\">\n<title>0&#45;&gt;318</title>\n<path fill=\"none\" stroke=\"black\" d=\"M772.53,-249.87C792.86,-240.04 816.23,-228.75 837.33,-218.55\"/>\n<polygon fill=\"black\" stroke=\"black\" points=\"839.06,-221.6 846.54,-214.1 836.01,-215.3 839.06,-221.6\"/>\n<text text-anchor=\"middle\" x=\"838.31\" y=\"-234.01\" font-family=\"Helvetica,sans-Serif\" font-size=\"14.00\">False</text>\n</g>\n<!-- 2 -->\n<g id=\"node3\" class=\"node\">\n<title>2</title>\n<polygon fill=\"#bcf6f5\" stroke=\"black\" points=\"353,-125 0,-125 0,-72 353,-72 353,-125\"/>\n<text text-anchor=\"middle\" x=\"176.5\" y=\"-109.8\" font-family=\"Helvetica,sans-Serif\" font-size=\"14.00\">volatile acidity &lt;= &#45;0.683</text>\n<text text-anchor=\"middle\" x=\"176.5\" y=\"-94.8\" font-family=\"Helvetica,sans-Serif\" font-size=\"14.00\">samples = 25.8%</text>\n<text text-anchor=\"middle\" x=\"176.5\" y=\"-79.8\" font-family=\"Helvetica,sans-Serif\" font-size=\"14.00\">value = [0.004, 0.022, 0.296, 0.533, 0.125, 0.019, 0.001]</text>\n</g>\n<!-- 1&#45;&gt;2 -->\n<g id=\"edge2\" class=\"edge\">\n<title>1&#45;&gt;2</title>\n<path fill=\"none\" stroke=\"black\" d=\"M433.04,-160.98C388.99,-150.43 337.79,-138.16 292.76,-127.36\"/>\n<polygon fill=\"black\" stroke=\"black\" points=\"293.5,-123.94 282.96,-125.01 291.87,-130.75 293.5,-123.94\"/>\n</g>\n<!-- 157 -->\n<g id=\"node6\" class=\"node\">\n<title>157</title>\n<polygon fill=\"#b0f5b8\" stroke=\"black\" points=\"709.5,-125 371.5,-125 371.5,-72 709.5,-72 709.5,-125\"/>\n<text text-anchor=\"middle\" x=\"540.5\" y=\"-109.8\" font-family=\"Helvetica,sans-Serif\" font-size=\"14.00\">alcohol &lt;= &#45;0.53</text>\n<text text-anchor=\"middle\" x=\"540.5\" y=\"-94.8\" font-family=\"Helvetica,sans-Serif\" font-size=\"14.00\">samples = 34.2%</text>\n<text text-anchor=\"middle\" x=\"540.5\" y=\"-79.8\" font-family=\"Helvetica,sans-Serif\" font-size=\"14.00\">value = [0.005, 0.058, 0.589, 0.316, 0.031, 0.001, 0.0]</text>\n</g>\n<!-- 1&#45;&gt;157 -->\n<g id=\"edge5\" class=\"edge\">\n<title>1&#45;&gt;157</title>\n<path fill=\"none\" stroke=\"black\" d=\"M539.79,-160.87C539.89,-152.89 539.99,-143.93 540.09,-135.38\"/>\n<polygon fill=\"black\" stroke=\"black\" points=\"543.59,-135.29 540.2,-125.25 536.59,-135.21 543.59,-135.29\"/>\n</g>\n<!-- 3 -->\n<g id=\"node4\" class=\"node\">\n<title>3</title>\n<polygon fill=\"#c0c0c0\" stroke=\"black\" points=\"167.5,-36 113.5,-36 113.5,0 167.5,0 167.5,-36\"/>\n<text text-anchor=\"middle\" x=\"140.5\" y=\"-14.3\" font-family=\"Helvetica,sans-Serif\" font-size=\"14.00\">(...)</text>\n</g>\n<!-- 2&#45;&gt;3 -->\n<g id=\"edge3\" class=\"edge\">\n<title>2&#45;&gt;3</title>\n<path fill=\"none\" stroke=\"black\" d=\"M164.71,-71.8C160.84,-63.35 156.53,-53.95 152.63,-45.45\"/>\n<polygon fill=\"black\" stroke=\"black\" points=\"155.8,-43.96 148.45,-36.33 149.43,-46.88 155.8,-43.96\"/>\n</g>\n<!-- 88 -->\n<g id=\"node5\" class=\"node\">\n<title>88</title>\n<polygon fill=\"#c0c0c0\" stroke=\"black\" points=\"239.5,-36 185.5,-36 185.5,0 239.5,0 239.5,-36\"/>\n<text text-anchor=\"middle\" x=\"212.5\" y=\"-14.3\" font-family=\"Helvetica,sans-Serif\" font-size=\"14.00\">(...)</text>\n</g>\n<!-- 2&#45;&gt;88 -->\n<g id=\"edge4\" class=\"edge\">\n<title>2&#45;&gt;88</title>\n<path fill=\"none\" stroke=\"black\" d=\"M188.29,-71.8C192.16,-63.35 196.47,-53.95 200.37,-45.45\"/>\n<polygon fill=\"black\" stroke=\"black\" points=\"203.57,-46.88 204.55,-36.33 197.2,-43.96 203.57,-46.88\"/>\n</g>\n<!-- 158 -->\n<g id=\"node7\" class=\"node\">\n<title>158</title>\n<polygon fill=\"#c0c0c0\" stroke=\"black\" points=\"531.5,-36 477.5,-36 477.5,0 531.5,0 531.5,-36\"/>\n<text text-anchor=\"middle\" x=\"504.5\" y=\"-14.3\" font-family=\"Helvetica,sans-Serif\" font-size=\"14.00\">(...)</text>\n</g>\n<!-- 157&#45;&gt;158 -->\n<g id=\"edge6\" class=\"edge\">\n<title>157&#45;&gt;158</title>\n<path fill=\"none\" stroke=\"black\" d=\"M528.71,-71.8C524.84,-63.35 520.53,-53.95 516.63,-45.45\"/>\n<polygon fill=\"black\" stroke=\"black\" points=\"519.8,-43.96 512.45,-36.33 513.43,-46.88 519.8,-43.96\"/>\n</g>\n<!-- 235 -->\n<g id=\"node8\" class=\"node\">\n<title>235</title>\n<polygon fill=\"#c0c0c0\" stroke=\"black\" points=\"603.5,-36 549.5,-36 549.5,0 603.5,0 603.5,-36\"/>\n<text text-anchor=\"middle\" x=\"576.5\" y=\"-14.3\" font-family=\"Helvetica,sans-Serif\" font-size=\"14.00\">(...)</text>\n</g>\n<!-- 157&#45;&gt;235 -->\n<g id=\"edge7\" class=\"edge\">\n<title>157&#45;&gt;235</title>\n<path fill=\"none\" stroke=\"black\" d=\"M552.29,-71.8C556.16,-63.35 560.47,-53.95 564.37,-45.45\"/>\n<polygon fill=\"black\" stroke=\"black\" points=\"567.57,-46.88 568.55,-36.33 561.2,-43.96 567.57,-46.88\"/>\n</g>\n<!-- 319 -->\n<g id=\"node10\" class=\"node\">\n<title>319</title>\n<polygon fill=\"#baf6f5\" stroke=\"black\" points=\"1067.5,-125 729.5,-125 729.5,-72 1067.5,-72 1067.5,-125\"/>\n<text text-anchor=\"middle\" x=\"898.5\" y=\"-109.8\" font-family=\"Helvetica,sans-Serif\" font-size=\"14.00\">free sulfur dioxide &lt;= &#45;0.963</text>\n<text text-anchor=\"middle\" x=\"898.5\" y=\"-94.8\" font-family=\"Helvetica,sans-Serif\" font-size=\"14.00\">samples = 22.8%</text>\n<text text-anchor=\"middle\" x=\"898.5\" y=\"-79.8\" font-family=\"Helvetica,sans-Serif\" font-size=\"14.00\">value = [0.005, 0.031, 0.194, 0.502, 0.237, 0.031, 0.0]</text>\n</g>\n<!-- 318&#45;&gt;319 -->\n<g id=\"edge9\" class=\"edge\">\n<title>318&#45;&gt;319</title>\n<path fill=\"none\" stroke=\"black\" d=\"M899.21,-160.87C899.11,-152.89 899.01,-143.93 898.91,-135.38\"/>\n<polygon fill=\"black\" stroke=\"black\" points=\"902.41,-135.21 898.8,-125.25 895.41,-135.29 902.41,-135.21\"/>\n</g>\n<!-- 440 -->\n<g id=\"node13\" class=\"node\">\n<title>440</title>\n<polygon fill=\"#f4fefd\" stroke=\"black\" points=\"1439,-125 1086,-125 1086,-72 1439,-72 1439,-125\"/>\n<text text-anchor=\"middle\" x=\"1262.5\" y=\"-109.8\" font-family=\"Helvetica,sans-Serif\" font-size=\"14.00\">residual sugar &lt;= &#45;0.664</text>\n<text text-anchor=\"middle\" x=\"1262.5\" y=\"-94.8\" font-family=\"Helvetica,sans-Serif\" font-size=\"14.00\">samples = 17.2%</text>\n<text text-anchor=\"middle\" x=\"1262.5\" y=\"-79.8\" font-family=\"Helvetica,sans-Serif\" font-size=\"14.00\">value = [0.001, 0.015, 0.053, 0.432, 0.398, 0.097, 0.003]</text>\n</g>\n<!-- 318&#45;&gt;440 -->\n<g id=\"edge12\" class=\"edge\">\n<title>318&#45;&gt;440</title>\n<path fill=\"none\" stroke=\"black\" d=\"M1005.96,-160.98C1050.01,-150.43 1101.21,-138.16 1146.24,-127.36\"/>\n<polygon fill=\"black\" stroke=\"black\" points=\"1147.13,-130.75 1156.04,-125.01 1145.5,-123.94 1147.13,-130.75\"/>\n</g>\n<!-- 320 -->\n<g id=\"node11\" class=\"node\">\n<title>320</title>\n<polygon fill=\"#c0c0c0\" stroke=\"black\" points=\"889.5,-36 835.5,-36 835.5,0 889.5,0 889.5,-36\"/>\n<text text-anchor=\"middle\" x=\"862.5\" y=\"-14.3\" font-family=\"Helvetica,sans-Serif\" font-size=\"14.00\">(...)</text>\n</g>\n<!-- 319&#45;&gt;320 -->\n<g id=\"edge10\" class=\"edge\">\n<title>319&#45;&gt;320</title>\n<path fill=\"none\" stroke=\"black\" d=\"M886.71,-71.8C882.84,-63.35 878.53,-53.95 874.63,-45.45\"/>\n<polygon fill=\"black\" stroke=\"black\" points=\"877.8,-43.96 870.45,-36.33 871.43,-46.88 877.8,-43.96\"/>\n</g>\n<!-- 383 -->\n<g id=\"node12\" class=\"node\">\n<title>383</title>\n<polygon fill=\"#c0c0c0\" stroke=\"black\" points=\"961.5,-36 907.5,-36 907.5,0 961.5,0 961.5,-36\"/>\n<text text-anchor=\"middle\" x=\"934.5\" y=\"-14.3\" font-family=\"Helvetica,sans-Serif\" font-size=\"14.00\">(...)</text>\n</g>\n<!-- 319&#45;&gt;383 -->\n<g id=\"edge11\" class=\"edge\">\n<title>319&#45;&gt;383</title>\n<path fill=\"none\" stroke=\"black\" d=\"M910.29,-71.8C914.16,-63.35 918.47,-53.95 922.37,-45.45\"/>\n<polygon fill=\"black\" stroke=\"black\" points=\"925.57,-46.88 926.55,-36.33 919.2,-43.96 925.57,-46.88\"/>\n</g>\n<!-- 441 -->\n<g id=\"node14\" class=\"node\">\n<title>441</title>\n<polygon fill=\"#c0c0c0\" stroke=\"black\" points=\"1253.5,-36 1199.5,-36 1199.5,0 1253.5,0 1253.5,-36\"/>\n<text text-anchor=\"middle\" x=\"1226.5\" y=\"-14.3\" font-family=\"Helvetica,sans-Serif\" font-size=\"14.00\">(...)</text>\n</g>\n<!-- 440&#45;&gt;441 -->\n<g id=\"edge13\" class=\"edge\">\n<title>440&#45;&gt;441</title>\n<path fill=\"none\" stroke=\"black\" d=\"M1250.71,-71.8C1246.84,-63.35 1242.53,-53.95 1238.63,-45.45\"/>\n<polygon fill=\"black\" stroke=\"black\" points=\"1241.8,-43.96 1234.45,-36.33 1235.43,-46.88 1241.8,-43.96\"/>\n</g>\n<!-- 522 -->\n<g id=\"node15\" class=\"node\">\n<title>522</title>\n<polygon fill=\"#c0c0c0\" stroke=\"black\" points=\"1325.5,-36 1271.5,-36 1271.5,0 1325.5,0 1325.5,-36\"/>\n<text text-anchor=\"middle\" x=\"1298.5\" y=\"-14.3\" font-family=\"Helvetica,sans-Serif\" font-size=\"14.00\">(...)</text>\n</g>\n<!-- 440&#45;&gt;522 -->\n<g id=\"edge14\" class=\"edge\">\n<title>440&#45;&gt;522</title>\n<path fill=\"none\" stroke=\"black\" d=\"M1274.29,-71.8C1278.16,-63.35 1282.47,-53.95 1286.37,-45.45\"/>\n<polygon fill=\"black\" stroke=\"black\" points=\"1289.57,-46.88 1290.55,-36.33 1283.2,-43.96 1289.57,-46.88\"/>\n</g>\n</g>\n</svg>\n",
            "text/plain": [
              "<graphviz.sources.Source at 0x7854df7b6b90>"
            ]
          },
          "metadata": {},
          "output_type": "display_data"
        }
      ],
      "source": [
        "dot_data = export_graphviz(tree_model,\n",
        "                              feature_names=list(X.columns),\n",
        "                              filled=True,\n",
        "                              max_depth=2,\n",
        "                              impurity=False,\n",
        "                              proportion=True)\n",
        "graph = graphviz.Source(dot_data)\n",
        "display(graph)"
      ]
    },
    {
      "cell_type": "markdown",
      "metadata": {
        "id": "WWqA3AaOi2y0"
      },
      "source": [
        "##Random Forest"
      ]
    },
    {
      "cell_type": "code",
      "execution_count": null,
      "metadata": {
        "id": "Ny1R-y3Uir0i"
      },
      "outputs": [],
      "source": [
        "param_dist = {'n_estimators': [random.randint(50,300)],\n",
        "              'max_depth': [random.randint(1,20)]}"
      ]
    },
    {
      "cell_type": "code",
      "execution_count": null,
      "metadata": {
        "id": "fI1GU5mHkHgI"
      },
      "outputs": [],
      "source": [
        "rf=RandomForestClassifier()"
      ]
    },
    {
      "cell_type": "code",
      "execution_count": null,
      "metadata": {
        "colab": {
          "base_uri": "https://localhost:8080/",
          "height": 387
        },
        "id": "9UcUBztgkKXA",
        "outputId": "e72e83fe-c9d6-4ebc-98b4-393bd23ef5b7"
      },
      "outputs": [
        {
          "name": "stderr",
          "output_type": "stream",
          "text": [
            "/usr/local/lib/python3.10/dist-packages/sklearn/model_selection/_search.py:305: UserWarning: The total space of parameters 1 is smaller than n_iter=5. Running 1 iterations. For exhaustive searches, use GridSearchCV.\n",
            "  warnings.warn(\n",
            "/usr/local/lib/python3.10/dist-packages/sklearn/model_selection/_validation.py:686: DataConversionWarning: A column-vector y was passed when a 1d array was expected. Please change the shape of y to (n_samples,), for example using ravel().\n",
            "  estimator.fit(X_train, y_train, **fit_params)\n",
            "/usr/local/lib/python3.10/dist-packages/sklearn/model_selection/_validation.py:686: DataConversionWarning: A column-vector y was passed when a 1d array was expected. Please change the shape of y to (n_samples,), for example using ravel().\n",
            "  estimator.fit(X_train, y_train, **fit_params)\n",
            "/usr/local/lib/python3.10/dist-packages/sklearn/model_selection/_validation.py:686: DataConversionWarning: A column-vector y was passed when a 1d array was expected. Please change the shape of y to (n_samples,), for example using ravel().\n",
            "  estimator.fit(X_train, y_train, **fit_params)\n",
            "/usr/local/lib/python3.10/dist-packages/sklearn/model_selection/_validation.py:686: DataConversionWarning: A column-vector y was passed when a 1d array was expected. Please change the shape of y to (n_samples,), for example using ravel().\n",
            "  estimator.fit(X_train, y_train, **fit_params)\n",
            "/usr/local/lib/python3.10/dist-packages/sklearn/model_selection/_validation.py:686: DataConversionWarning: A column-vector y was passed when a 1d array was expected. Please change the shape of y to (n_samples,), for example using ravel().\n",
            "  estimator.fit(X_train, y_train, **fit_params)\n",
            "/usr/local/lib/python3.10/dist-packages/sklearn/model_selection/_search.py:909: DataConversionWarning: A column-vector y was passed when a 1d array was expected. Please change the shape of y to (n_samples,), for example using ravel().\n",
            "  self.best_estimator_.fit(X, y, **fit_params)\n"
          ]
        },
        {
          "data": {
            "text/html": [
              "<style>#sk-container-id-5 {color: black;background-color: white;}#sk-container-id-5 pre{padding: 0;}#sk-container-id-5 div.sk-toggleable {background-color: white;}#sk-container-id-5 label.sk-toggleable__label {cursor: pointer;display: block;width: 100%;margin-bottom: 0;padding: 0.3em;box-sizing: border-box;text-align: center;}#sk-container-id-5 label.sk-toggleable__label-arrow:before {content: \"▸\";float: left;margin-right: 0.25em;color: #696969;}#sk-container-id-5 label.sk-toggleable__label-arrow:hover:before {color: black;}#sk-container-id-5 div.sk-estimator:hover label.sk-toggleable__label-arrow:before {color: black;}#sk-container-id-5 div.sk-toggleable__content {max-height: 0;max-width: 0;overflow: hidden;text-align: left;background-color: #f0f8ff;}#sk-container-id-5 div.sk-toggleable__content pre {margin: 0.2em;color: black;border-radius: 0.25em;background-color: #f0f8ff;}#sk-container-id-5 input.sk-toggleable__control:checked~div.sk-toggleable__content {max-height: 200px;max-width: 100%;overflow: auto;}#sk-container-id-5 input.sk-toggleable__control:checked~label.sk-toggleable__label-arrow:before {content: \"▾\";}#sk-container-id-5 div.sk-estimator input.sk-toggleable__control:checked~label.sk-toggleable__label {background-color: #d4ebff;}#sk-container-id-5 div.sk-label input.sk-toggleable__control:checked~label.sk-toggleable__label {background-color: #d4ebff;}#sk-container-id-5 input.sk-hidden--visually {border: 0;clip: rect(1px 1px 1px 1px);clip: rect(1px, 1px, 1px, 1px);height: 1px;margin: -1px;overflow: hidden;padding: 0;position: absolute;width: 1px;}#sk-container-id-5 div.sk-estimator {font-family: monospace;background-color: #f0f8ff;border: 1px dotted black;border-radius: 0.25em;box-sizing: border-box;margin-bottom: 0.5em;}#sk-container-id-5 div.sk-estimator:hover {background-color: #d4ebff;}#sk-container-id-5 div.sk-parallel-item::after {content: \"\";width: 100%;border-bottom: 1px solid gray;flex-grow: 1;}#sk-container-id-5 div.sk-label:hover label.sk-toggleable__label {background-color: #d4ebff;}#sk-container-id-5 div.sk-serial::before {content: \"\";position: absolute;border-left: 1px solid gray;box-sizing: border-box;top: 0;bottom: 0;left: 50%;z-index: 0;}#sk-container-id-5 div.sk-serial {display: flex;flex-direction: column;align-items: center;background-color: white;padding-right: 0.2em;padding-left: 0.2em;position: relative;}#sk-container-id-5 div.sk-item {position: relative;z-index: 1;}#sk-container-id-5 div.sk-parallel {display: flex;align-items: stretch;justify-content: center;background-color: white;position: relative;}#sk-container-id-5 div.sk-item::before, #sk-container-id-5 div.sk-parallel-item::before {content: \"\";position: absolute;border-left: 1px solid gray;box-sizing: border-box;top: 0;bottom: 0;left: 50%;z-index: -1;}#sk-container-id-5 div.sk-parallel-item {display: flex;flex-direction: column;z-index: 1;position: relative;background-color: white;}#sk-container-id-5 div.sk-parallel-item:first-child::after {align-self: flex-end;width: 50%;}#sk-container-id-5 div.sk-parallel-item:last-child::after {align-self: flex-start;width: 50%;}#sk-container-id-5 div.sk-parallel-item:only-child::after {width: 0;}#sk-container-id-5 div.sk-dashed-wrapped {border: 1px dashed gray;margin: 0 0.4em 0.5em 0.4em;box-sizing: border-box;padding-bottom: 0.4em;background-color: white;}#sk-container-id-5 div.sk-label label {font-family: monospace;font-weight: bold;display: inline-block;line-height: 1.2em;}#sk-container-id-5 div.sk-label-container {text-align: center;}#sk-container-id-5 div.sk-container {/* jupyter's `normalize.less` sets `[hidden] { display: none; }` but bootstrap.min.css set `[hidden] { display: none !important; }` so we also need the `!important` here to be able to override the default hidden behavior on the sphinx rendered scikit-learn.org. See: https://github.com/scikit-learn/scikit-learn/issues/21755 */display: inline-block !important;position: relative;}#sk-container-id-5 div.sk-text-repr-fallback {display: none;}</style><div id=\"sk-container-id-5\" class=\"sk-top-container\"><div class=\"sk-text-repr-fallback\"><pre>RandomizedSearchCV(cv=5, estimator=RandomForestClassifier(), n_iter=5,\n",
              "                   param_distributions={&#x27;max_depth&#x27;: [14],\n",
              "                                        &#x27;n_estimators&#x27;: [179]})</pre><b>In a Jupyter environment, please rerun this cell to show the HTML representation or trust the notebook. <br />On GitHub, the HTML representation is unable to render, please try loading this page with nbviewer.org.</b></div><div class=\"sk-container\" hidden><div class=\"sk-item sk-dashed-wrapped\"><div class=\"sk-label-container\"><div class=\"sk-label sk-toggleable\"><input class=\"sk-toggleable__control sk-hidden--visually\" id=\"sk-estimator-id-7\" type=\"checkbox\" ><label for=\"sk-estimator-id-7\" class=\"sk-toggleable__label sk-toggleable__label-arrow\">RandomizedSearchCV</label><div class=\"sk-toggleable__content\"><pre>RandomizedSearchCV(cv=5, estimator=RandomForestClassifier(), n_iter=5,\n",
              "                   param_distributions={&#x27;max_depth&#x27;: [14],\n",
              "                                        &#x27;n_estimators&#x27;: [179]})</pre></div></div></div><div class=\"sk-parallel\"><div class=\"sk-parallel-item\"><div class=\"sk-item\"><div class=\"sk-label-container\"><div class=\"sk-label sk-toggleable\"><input class=\"sk-toggleable__control sk-hidden--visually\" id=\"sk-estimator-id-8\" type=\"checkbox\" ><label for=\"sk-estimator-id-8\" class=\"sk-toggleable__label sk-toggleable__label-arrow\">estimator: RandomForestClassifier</label><div class=\"sk-toggleable__content\"><pre>RandomForestClassifier()</pre></div></div></div><div class=\"sk-serial\"><div class=\"sk-item\"><div class=\"sk-estimator sk-toggleable\"><input class=\"sk-toggleable__control sk-hidden--visually\" id=\"sk-estimator-id-9\" type=\"checkbox\" ><label for=\"sk-estimator-id-9\" class=\"sk-toggleable__label sk-toggleable__label-arrow\">RandomForestClassifier</label><div class=\"sk-toggleable__content\"><pre>RandomForestClassifier()</pre></div></div></div></div></div></div></div></div></div></div>"
            ],
            "text/plain": [
              "RandomizedSearchCV(cv=5, estimator=RandomForestClassifier(), n_iter=5,\n",
              "                   param_distributions={'max_depth': [14],\n",
              "                                        'n_estimators': [179]})"
            ]
          },
          "execution_count": 64,
          "metadata": {},
          "output_type": "execute_result"
        }
      ],
      "source": [
        "rf_models = RandomizedSearchCV(rf,param_distributions = param_dist,n_iter=5,cv=5)\n",
        "rf_models.fit(X_train, Y_train)"
      ]
    },
    {
      "cell_type": "code",
      "execution_count": null,
      "metadata": {
        "colab": {
          "base_uri": "https://localhost:8080/"
        },
        "id": "SfzOCAEDkMzV",
        "outputId": "cef3326a-fcbe-481c-a0ca-01b9a00a3779"
      },
      "outputs": [
        {
          "name": "stdout",
          "output_type": "stream",
          "text": [
            "Best hyperparameters: {'n_estimators': 179, 'max_depth': 14}\n"
          ]
        }
      ],
      "source": [
        "rf_model=rf_models.best_estimator_\n",
        "print('Best hyperparameters:',  rf_models.best_params_)"
      ]
    },
    {
      "cell_type": "code",
      "execution_count": null,
      "metadata": {
        "id": "GKsTJX7ZkaNv"
      },
      "outputs": [],
      "source": [
        "rf_predictions=rf_model.predict(X_test)"
      ]
    },
    {
      "cell_type": "code",
      "execution_count": null,
      "metadata": {
        "colab": {
          "base_uri": "https://localhost:8080/"
        },
        "id": "FmBTO5Hcku0L",
        "outputId": "4585d956-e194-4232-8cf5-faecc89ad7f9"
      },
      "outputs": [
        {
          "name": "stdout",
          "output_type": "stream",
          "text": [
            "              precision    recall  f1-score   support\n",
            "\n",
            "           3       1.00      0.93      0.96        27\n",
            "           4       0.99      0.93      0.96       229\n",
            "           5       0.97      0.98      0.98      2151\n",
            "           6       0.97      0.98      0.98      2823\n",
            "           7       0.99      0.97      0.98      1074\n",
            "           8       1.00      0.91      0.95       188\n",
            "           9       1.00      0.80      0.89         5\n",
            "\n",
            "    accuracy                           0.98      6497\n",
            "   macro avg       0.99      0.93      0.96      6497\n",
            "weighted avg       0.98      0.98      0.98      6497\n",
            "\n"
          ]
        }
      ],
      "source": [
        "print(classification_report(Y_test,rf_predictions))"
      ]
    },
    {
      "cell_type": "code",
      "execution_count": null,
      "metadata": {
        "id": "iJLi9OKJkfn_"
      },
      "outputs": [],
      "source": [
        "rf_confusion_matrix=confusion_matrix(Y_test,rf_predictions)"
      ]
    },
    {
      "cell_type": "code",
      "execution_count": null,
      "metadata": {
        "colab": {
          "base_uri": "https://localhost:8080/",
          "height": 467
        },
        "id": "a7chE2K8klfg",
        "outputId": "709e2003-e799-431b-c7a2-825d6083dd34"
      },
      "outputs": [
        {
          "data": {
            "text/plain": [
              "<sklearn.metrics._plot.confusion_matrix.ConfusionMatrixDisplay at 0x7854df57b460>"
            ]
          },
          "execution_count": 69,
          "metadata": {},
          "output_type": "execute_result"
        },
        {
          "data": {
            "image/png": "[encoded data removed]",
            "text/plain": [
              "<Figure size 640x480 with 2 Axes>"
            ]
          },
          "metadata": {},
          "output_type": "display_data"
        }
      ],
      "source": [
        "disp = ConfusionMatrixDisplay(confusion_matrix=rf_confusion_matrix,\n",
        "                               display_labels=rf_model.classes_)\n",
        "disp.plot()"
      ]
    },
    {
      "cell_type": "code",
      "execution_count": null,
      "metadata": {
        "colab": {
          "base_uri": "https://localhost:8080/",
          "height": 1000
        },
        "id": "D22S7Sm4kqOu",
        "outputId": "bd799391-6ddf-4372-aa84-3763331ddc04"
      },
      "outputs": [
        {
          "data": {
            "image/svg+xml": "<?xml version=\"1.0\" encoding=\"UTF-8\" standalone=\"no\"?>\n<!DOCTYPE svg PUBLIC \"-//W3C//DTD SVG 1.1//EN\"\n \"http://www.w3.org/Graphics/SVG/1.1/DTD/svg11.dtd\">\n<!-- Generated by graphviz version 2.43.0 (0)\n -->\n<!-- Title: Tree Pages: 1 -->\n<svg width=\"1405pt\" height=\"311pt\"\n viewBox=\"0.00 0.00 1404.50 311.00\" xmlns=\"http://www.w3.org/2000/svg\" xmlns:xlink=\"http://www.w3.org/1999/xlink\">\n<g id=\"graph0\" class=\"graph\" transform=\"scale(1 1) rotate(0) translate(4 307)\">\n<title>Tree</title>\n<polygon fill=\"white\" stroke=\"transparent\" points=\"-4,4 -4,-307 1400.5,-307 1400.5,4 -4,4\"/>\n<!-- 0 -->\n<g id=\"node1\" class=\"node\">\n<title>0</title>\n<polygon fill=\"#e1fbfb\" stroke=\"black\" points=\"861.5,-303 515.5,-303 515.5,-250 861.5,-250 861.5,-303\"/>\n<text text-anchor=\"middle\" x=\"688.5\" y=\"-287.8\" font-family=\"Helvetica,sans-Serif\" font-size=\"14.00\">density &lt;= &#45;0.764</text>\n<text text-anchor=\"middle\" x=\"688.5\" y=\"-272.8\" font-family=\"Helvetica,sans-Serif\" font-size=\"14.00\">samples = 100.0%</text>\n<text text-anchor=\"middle\" x=\"688.5\" y=\"-257.8\" font-family=\"Helvetica,sans-Serif\" font-size=\"14.00\">value = [0.004, 0.036, 0.334, 0.434, 0.161, 0.03, 0.001]</text>\n</g>\n<!-- 1 -->\n<g id=\"node2\" class=\"node\">\n<title>1</title>\n<polygon fill=\"#d6faf9\" stroke=\"black\" points=\"681.5,-214 335.5,-214 335.5,-161 681.5,-161 681.5,-214\"/>\n<text text-anchor=\"middle\" x=\"508.5\" y=\"-198.8\" font-family=\"Helvetica,sans-Serif\" font-size=\"14.00\">alcohol &lt;= 0.226</text>\n<text text-anchor=\"middle\" x=\"508.5\" y=\"-183.8\" font-family=\"Helvetica,sans-Serif\" font-size=\"14.00\">samples = 25.8%</text>\n<text text-anchor=\"middle\" x=\"508.5\" y=\"-168.8\" font-family=\"Helvetica,sans-Serif\" font-size=\"14.00\">value = [0.003, 0.028, 0.13, 0.456, 0.313, 0.069, 0.002]</text>\n</g>\n<!-- 0&#45;&gt;1 -->\n<g id=\"edge1\" class=\"edge\">\n<title>0&#45;&gt;1</title>\n<path fill=\"none\" stroke=\"black\" d=\"M635.47,-249.87C615.14,-240.04 591.77,-228.75 570.67,-218.55\"/>\n<polygon fill=\"black\" stroke=\"black\" points=\"571.99,-215.3 561.46,-214.1 568.94,-221.6 571.99,-215.3\"/>\n<text text-anchor=\"middle\" x=\"569.69\" y=\"-234.01\" font-family=\"Helvetica,sans-Serif\" font-size=\"14.00\">True</text>\n</g>\n<!-- 850 -->\n<g id=\"node9\" class=\"node\">\n<title>850</title>\n<polygon fill=\"#f8fefe\" stroke=\"black\" points=\"1037.5,-214 699.5,-214 699.5,-161 1037.5,-161 1037.5,-214\"/>\n<text text-anchor=\"middle\" x=\"868.5\" y=\"-198.8\" font-family=\"Helvetica,sans-Serif\" font-size=\"14.00\">citric acid &lt;= &#45;0.367</text>\n<text text-anchor=\"middle\" x=\"868.5\" y=\"-183.8\" font-family=\"Helvetica,sans-Serif\" font-size=\"14.00\">samples = 74.2%</text>\n<text text-anchor=\"middle\" x=\"868.5\" y=\"-168.8\" font-family=\"Helvetica,sans-Serif\" font-size=\"14.00\">value = [0.004, 0.039, 0.406, 0.426, 0.108, 0.016, 0.0]</text>\n</g>\n<!-- 0&#45;&gt;850 -->\n<g id=\"edge8\" class=\"edge\">\n<title>0&#45;&gt;850</title>\n<path fill=\"none\" stroke=\"black\" d=\"M741.53,-249.87C761.86,-240.04 785.23,-228.75 806.33,-218.55\"/>\n<polygon fill=\"black\" stroke=\"black\" points=\"808.06,-221.6 815.54,-214.1 805.01,-215.3 808.06,-221.6\"/>\n<text text-anchor=\"middle\" x=\"807.31\" y=\"-234.01\" font-family=\"Helvetica,sans-Serif\" font-size=\"14.00\">False</text>\n</g>\n<!-- 2 -->\n<g id=\"node3\" class=\"node\">\n<title>2</title>\n<polygon fill=\"#e5fcfb\" stroke=\"black\" points=\"323,-125 0,-125 0,-72 323,-72 323,-125\"/>\n<text text-anchor=\"middle\" x=\"161.5\" y=\"-109.8\" font-family=\"Helvetica,sans-Serif\" font-size=\"14.00\">citric acid &lt;= &#45;1.16</text>\n<text text-anchor=\"middle\" x=\"161.5\" y=\"-94.8\" font-family=\"Helvetica,sans-Serif\" font-size=\"14.00\">samples = 3.5%</text>\n<text text-anchor=\"middle\" x=\"161.5\" y=\"-79.8\" font-family=\"Helvetica,sans-Serif\" font-size=\"14.00\">value = [0.0, 0.066, 0.385, 0.465, 0.079, 0.005, 0.0]</text>\n</g>\n<!-- 1&#45;&gt;2 -->\n<g id=\"edge2\" class=\"edge\">\n<title>1&#45;&gt;2</title>\n<path fill=\"none\" stroke=\"black\" d=\"M406.73,-160.98C364.8,-150.47 316.09,-138.26 273.18,-127.5\"/>\n<polygon fill=\"black\" stroke=\"black\" points=\"273.82,-124.05 263.27,-125.01 272.11,-130.84 273.82,-124.05\"/>\n</g>\n<!-- 157 -->\n<g id=\"node6\" class=\"node\">\n<title>157</title>\n<polygon fill=\"#dffbfa\" stroke=\"black\" points=\"679.5,-125 341.5,-125 341.5,-72 679.5,-72 679.5,-125\"/>\n<text text-anchor=\"middle\" x=\"510.5\" y=\"-109.8\" font-family=\"Helvetica,sans-Serif\" font-size=\"14.00\">residual sugar &lt;= &#45;0.701</text>\n<text text-anchor=\"middle\" x=\"510.5\" y=\"-94.8\" font-family=\"Helvetica,sans-Serif\" font-size=\"14.00\">samples = 22.3%</text>\n<text text-anchor=\"middle\" x=\"510.5\" y=\"-79.8\" font-family=\"Helvetica,sans-Serif\" font-size=\"14.00\">value = [0.003, 0.022, 0.09, 0.454, 0.35, 0.079, 0.002]</text>\n</g>\n<!-- 1&#45;&gt;157 -->\n<g id=\"edge5\" class=\"edge\">\n<title>1&#45;&gt;157</title>\n<path fill=\"none\" stroke=\"black\" d=\"M509.09,-160.87C509.27,-152.89 509.48,-143.93 509.68,-135.38\"/>\n<polygon fill=\"black\" stroke=\"black\" points=\"513.18,-135.33 509.91,-125.25 506.18,-135.17 513.18,-135.33\"/>\n</g>\n<!-- 3 -->\n<g id=\"node4\" class=\"node\">\n<title>3</title>\n<polygon fill=\"#c0c0c0\" stroke=\"black\" points=\"152.5,-36 98.5,-36 98.5,0 152.5,0 152.5,-36\"/>\n<text text-anchor=\"middle\" x=\"125.5\" y=\"-14.3\" font-family=\"Helvetica,sans-Serif\" font-size=\"14.00\">(...)</text>\n</g>\n<!-- 2&#45;&gt;3 -->\n<g id=\"edge3\" class=\"edge\">\n<title>2&#45;&gt;3</title>\n<path fill=\"none\" stroke=\"black\" d=\"M149.71,-71.8C145.84,-63.35 141.53,-53.95 137.63,-45.45\"/>\n<polygon fill=\"black\" stroke=\"black\" points=\"140.8,-43.96 133.45,-36.33 134.43,-46.88 140.8,-43.96\"/>\n</g>\n<!-- 22 -->\n<g id=\"node5\" class=\"node\">\n<title>22</title>\n<polygon fill=\"#c0c0c0\" stroke=\"black\" points=\"224.5,-36 170.5,-36 170.5,0 224.5,0 224.5,-36\"/>\n<text text-anchor=\"middle\" x=\"197.5\" y=\"-14.3\" font-family=\"Helvetica,sans-Serif\" font-size=\"14.00\">(...)</text>\n</g>\n<!-- 2&#45;&gt;22 -->\n<g id=\"edge4\" class=\"edge\">\n<title>2&#45;&gt;22</title>\n<path fill=\"none\" stroke=\"black\" d=\"M173.29,-71.8C177.16,-63.35 181.47,-53.95 185.37,-45.45\"/>\n<polygon fill=\"black\" stroke=\"black\" points=\"188.57,-46.88 189.55,-36.33 182.2,-43.96 188.57,-46.88\"/>\n</g>\n<!-- 158 -->\n<g id=\"node7\" class=\"node\">\n<title>158</title>\n<polygon fill=\"#c0c0c0\" stroke=\"black\" points=\"501.5,-36 447.5,-36 447.5,0 501.5,0 501.5,-36\"/>\n<text text-anchor=\"middle\" x=\"474.5\" y=\"-14.3\" font-family=\"Helvetica,sans-Serif\" font-size=\"14.00\">(...)</text>\n</g>\n<!-- 157&#45;&gt;158 -->\n<g id=\"edge6\" class=\"edge\">\n<title>157&#45;&gt;158</title>\n<path fill=\"none\" stroke=\"black\" d=\"M498.71,-71.8C494.84,-63.35 490.53,-53.95 486.63,-45.45\"/>\n<polygon fill=\"black\" stroke=\"black\" points=\"489.8,-43.96 482.45,-36.33 483.43,-46.88 489.8,-43.96\"/>\n</g>\n<!-- 501 -->\n<g id=\"node8\" class=\"node\">\n<title>501</title>\n<polygon fill=\"#c0c0c0\" stroke=\"black\" points=\"573.5,-36 519.5,-36 519.5,0 573.5,0 573.5,-36\"/>\n<text text-anchor=\"middle\" x=\"546.5\" y=\"-14.3\" font-family=\"Helvetica,sans-Serif\" font-size=\"14.00\">(...)</text>\n</g>\n<!-- 157&#45;&gt;501 -->\n<g id=\"edge7\" class=\"edge\">\n<title>157&#45;&gt;501</title>\n<path fill=\"none\" stroke=\"black\" d=\"M522.29,-71.8C526.16,-63.35 530.47,-53.95 534.37,-45.45\"/>\n<polygon fill=\"black\" stroke=\"black\" points=\"537.57,-46.88 538.55,-36.33 531.2,-43.96 537.57,-46.88\"/>\n</g>\n<!-- 851 -->\n<g id=\"node10\" class=\"node\">\n<title>851</title>\n<polygon fill=\"#d4f9d8\" stroke=\"black\" points=\"1032,-125 701,-125 701,-72 1032,-72 1032,-125\"/>\n<text text-anchor=\"middle\" x=\"866.5\" y=\"-109.8\" font-family=\"Helvetica,sans-Serif\" font-size=\"14.00\">density &lt;= 0.34</text>\n<text text-anchor=\"middle\" x=\"866.5\" y=\"-94.8\" font-family=\"Helvetica,sans-Serif\" font-size=\"14.00\">samples = 26.1%</text>\n<text text-anchor=\"middle\" x=\"866.5\" y=\"-79.8\" font-family=\"Helvetica,sans-Serif\" font-size=\"14.00\">value = [0.005, 0.06, 0.509, 0.372, 0.052, 0.002, 0.0]</text>\n</g>\n<!-- 850&#45;&gt;851 -->\n<g id=\"edge9\" class=\"edge\">\n<title>850&#45;&gt;851</title>\n<path fill=\"none\" stroke=\"black\" d=\"M867.91,-160.87C867.73,-152.89 867.52,-143.93 867.32,-135.38\"/>\n<polygon fill=\"black\" stroke=\"black\" points=\"870.82,-135.17 867.09,-125.25 863.82,-135.33 870.82,-135.17\"/>\n</g>\n<!-- 1494 -->\n<g id=\"node13\" class=\"node\">\n<title>1494</title>\n<polygon fill=\"#dffbfa\" stroke=\"black\" points=\"1396.5,-125 1050.5,-125 1050.5,-72 1396.5,-72 1396.5,-125\"/>\n<text text-anchor=\"middle\" x=\"1223.5\" y=\"-109.8\" font-family=\"Helvetica,sans-Serif\" font-size=\"14.00\">residual sugar &lt;= 2.544</text>\n<text text-anchor=\"middle\" x=\"1223.5\" y=\"-94.8\" font-family=\"Helvetica,sans-Serif\" font-size=\"14.00\">samples = 48.1%</text>\n<text text-anchor=\"middle\" x=\"1223.5\" y=\"-79.8\" font-family=\"Helvetica,sans-Serif\" font-size=\"14.00\">value = [0.003, 0.028, 0.35, 0.456, 0.139, 0.024, 0.001]</text>\n</g>\n<!-- 850&#45;&gt;1494 -->\n<g id=\"edge12\" class=\"edge\">\n<title>850&#45;&gt;1494</title>\n<path fill=\"none\" stroke=\"black\" d=\"M972.61,-160.98C1015.6,-150.45 1065.56,-138.21 1109.52,-127.43\"/>\n<polygon fill=\"black\" stroke=\"black\" points=\"1110.51,-130.79 1119.39,-125.01 1108.84,-124 1110.51,-130.79\"/>\n</g>\n<!-- 852 -->\n<g id=\"node11\" class=\"node\">\n<title>852</title>\n<polygon fill=\"#c0c0c0\" stroke=\"black\" points=\"857.5,-36 803.5,-36 803.5,0 857.5,0 857.5,-36\"/>\n<text text-anchor=\"middle\" x=\"830.5\" y=\"-14.3\" font-family=\"Helvetica,sans-Serif\" font-size=\"14.00\">(...)</text>\n</g>\n<!-- 851&#45;&gt;852 -->\n<g id=\"edge10\" class=\"edge\">\n<title>851&#45;&gt;852</title>\n<path fill=\"none\" stroke=\"black\" d=\"M854.71,-71.8C850.84,-63.35 846.53,-53.95 842.63,-45.45\"/>\n<polygon fill=\"black\" stroke=\"black\" points=\"845.8,-43.96 838.45,-36.33 839.43,-46.88 845.8,-43.96\"/>\n</g>\n<!-- 1231 -->\n<g id=\"node12\" class=\"node\">\n<title>1231</title>\n<polygon fill=\"#c0c0c0\" stroke=\"black\" points=\"929.5,-36 875.5,-36 875.5,0 929.5,0 929.5,-36\"/>\n<text text-anchor=\"middle\" x=\"902.5\" y=\"-14.3\" font-family=\"Helvetica,sans-Serif\" font-size=\"14.00\">(...)</text>\n</g>\n<!-- 851&#45;&gt;1231 -->\n<g id=\"edge11\" class=\"edge\">\n<title>851&#45;&gt;1231</title>\n<path fill=\"none\" stroke=\"black\" d=\"M878.29,-71.8C882.16,-63.35 886.47,-53.95 890.37,-45.45\"/>\n<polygon fill=\"black\" stroke=\"black\" points=\"893.57,-46.88 894.55,-36.33 887.2,-43.96 893.57,-46.88\"/>\n</g>\n<!-- 1495 -->\n<g id=\"node14\" class=\"node\">\n<title>1495</title>\n<polygon fill=\"#c0c0c0\" stroke=\"black\" points=\"1214.5,-36 1160.5,-36 1160.5,0 1214.5,0 1214.5,-36\"/>\n<text text-anchor=\"middle\" x=\"1187.5\" y=\"-14.3\" font-family=\"Helvetica,sans-Serif\" font-size=\"14.00\">(...)</text>\n</g>\n<!-- 1494&#45;&gt;1495 -->\n<g id=\"edge13\" class=\"edge\">\n<title>1494&#45;&gt;1495</title>\n<path fill=\"none\" stroke=\"black\" d=\"M1211.71,-71.8C1207.84,-63.35 1203.53,-53.95 1199.63,-45.45\"/>\n<polygon fill=\"black\" stroke=\"black\" points=\"1202.8,-43.96 1195.45,-36.33 1196.43,-46.88 1202.8,-43.96\"/>\n</g>\n<!-- 2466 -->\n<g id=\"node15\" class=\"node\">\n<title>2466</title>\n<polygon fill=\"#c0c0c0\" stroke=\"black\" points=\"1286.5,-36 1232.5,-36 1232.5,0 1286.5,0 1286.5,-36\"/>\n<text text-anchor=\"middle\" x=\"1259.5\" y=\"-14.3\" font-family=\"Helvetica,sans-Serif\" font-size=\"14.00\">(...)</text>\n</g>\n<!-- 1494&#45;&gt;2466 -->\n<g id=\"edge14\" class=\"edge\">\n<title>1494&#45;&gt;2466</title>\n<path fill=\"none\" stroke=\"black\" d=\"M1235.29,-71.8C1239.16,-63.35 1243.47,-53.95 1247.37,-45.45\"/>\n<polygon fill=\"black\" stroke=\"black\" points=\"1250.57,-46.88 1251.55,-36.33 1244.2,-43.96 1250.57,-46.88\"/>\n</g>\n</g>\n</svg>\n",
            "text/plain": [
              "<graphviz.sources.Source at 0x7854e016afb0>"
            ]
          },
          "metadata": {},
          "output_type": "display_data"
        },
        {
          "data": {
            "image/svg+xml": "<?xml version=\"1.0\" encoding=\"UTF-8\" standalone=\"no\"?>\n<!DOCTYPE svg PUBLIC \"-//W3C//DTD SVG 1.1//EN\"\n \"http://www.w3.org/Graphics/SVG/1.1/DTD/svg11.dtd\">\n<!-- Generated by graphviz version 2.43.0 (0)\n -->\n<!-- Title: Tree Pages: 1 -->\n<svg width=\"1419pt\" height=\"311pt\"\n viewBox=\"0.00 0.00 1419.00 311.00\" xmlns=\"http://www.w3.org/2000/svg\" xmlns:xlink=\"http://www.w3.org/1999/xlink\">\n<g id=\"graph0\" class=\"graph\" transform=\"scale(1 1) rotate(0) translate(4 307)\">\n<title>Tree</title>\n<polygon fill=\"white\" stroke=\"transparent\" points=\"-4,4 -4,-307 1415,-307 1415,4 -4,4\"/>\n<!-- 0 -->\n<g id=\"node1\" class=\"node\">\n<title>0</title>\n<polygon fill=\"#dffbfa\" stroke=\"black\" points=\"878.5,-303 525.5,-303 525.5,-250 878.5,-250 878.5,-303\"/>\n<text text-anchor=\"middle\" x=\"702\" y=\"-287.8\" font-family=\"Helvetica,sans-Serif\" font-size=\"14.00\">alcohol &lt;= 0.121</text>\n<text text-anchor=\"middle\" x=\"702\" y=\"-272.8\" font-family=\"Helvetica,sans-Serif\" font-size=\"14.00\">samples = 100.0%</text>\n<text text-anchor=\"middle\" x=\"702\" y=\"-257.8\" font-family=\"Helvetica,sans-Serif\" font-size=\"14.00\">value = [0.004, 0.035, 0.331, 0.438, 0.163, 0.028, 0.001]</text>\n</g>\n<!-- 1 -->\n<g id=\"node2\" class=\"node\">\n<title>1</title>\n<polygon fill=\"#effdf1\" stroke=\"black\" points=\"689,-214 351,-214 351,-161 689,-161 689,-214\"/>\n<text text-anchor=\"middle\" x=\"520\" y=\"-198.8\" font-family=\"Helvetica,sans-Serif\" font-size=\"14.00\">total sulfur dioxide &lt;= &#45;0.339</text>\n<text text-anchor=\"middle\" x=\"520\" y=\"-183.8\" font-family=\"Helvetica,sans-Serif\" font-size=\"14.00\">samples = 60.0%</text>\n<text text-anchor=\"middle\" x=\"520\" y=\"-168.8\" font-family=\"Helvetica,sans-Serif\" font-size=\"14.00\">value = [0.004, 0.044, 0.461, 0.414, 0.069, 0.008, 0.0]</text>\n</g>\n<!-- 0&#45;&gt;1 -->\n<g id=\"edge1\" class=\"edge\">\n<title>0&#45;&gt;1</title>\n<path fill=\"none\" stroke=\"black\" d=\"M648.38,-249.87C627.83,-240.04 604.2,-228.75 582.86,-218.55\"/>\n<polygon fill=\"black\" stroke=\"black\" points=\"584.08,-215.25 573.55,-214.1 581.07,-221.57 584.08,-215.25\"/>\n<text text-anchor=\"middle\" x=\"581.88\" y=\"-233.97\" font-family=\"Helvetica,sans-Serif\" font-size=\"14.00\">True</text>\n</g>\n<!-- 1366 -->\n<g id=\"node9\" class=\"node\">\n<title>1366</title>\n<polygon fill=\"#cff9f8\" stroke=\"black\" points=\"1060.5,-214 707.5,-214 707.5,-161 1060.5,-161 1060.5,-214\"/>\n<text text-anchor=\"middle\" x=\"884\" y=\"-198.8\" font-family=\"Helvetica,sans-Serif\" font-size=\"14.00\">density &lt;= &#45;1.162</text>\n<text text-anchor=\"middle\" x=\"884\" y=\"-183.8\" font-family=\"Helvetica,sans-Serif\" font-size=\"14.00\">samples = 40.0%</text>\n<text text-anchor=\"middle\" x=\"884\" y=\"-168.8\" font-family=\"Helvetica,sans-Serif\" font-size=\"14.00\">value = [0.004, 0.023, 0.135, 0.475, 0.305, 0.058, 0.001]</text>\n</g>\n<!-- 0&#45;&gt;1366 -->\n<g id=\"edge8\" class=\"edge\">\n<title>0&#45;&gt;1366</title>\n<path fill=\"none\" stroke=\"black\" d=\"M755.62,-249.87C776.17,-240.04 799.8,-228.75 821.14,-218.55\"/>\n<polygon fill=\"black\" stroke=\"black\" points=\"822.93,-221.57 830.45,-214.1 819.92,-215.25 822.93,-221.57\"/>\n<text text-anchor=\"middle\" x=\"822.12\" y=\"-233.97\" font-family=\"Helvetica,sans-Serif\" font-size=\"14.00\">False</text>\n</g>\n<!-- 2 -->\n<g id=\"node3\" class=\"node\">\n<title>2</title>\n<polygon fill=\"#ccf8d1\" stroke=\"black\" points=\"338,-125 0,-125 0,-72 338,-72 338,-125\"/>\n<text text-anchor=\"middle\" x=\"169\" y=\"-109.8\" font-family=\"Helvetica,sans-Serif\" font-size=\"14.00\">volatile acidity &lt;= &#45;0.137</text>\n<text text-anchor=\"middle\" x=\"169\" y=\"-94.8\" font-family=\"Helvetica,sans-Serif\" font-size=\"14.00\">samples = 17.1%</text>\n<text text-anchor=\"middle\" x=\"169\" y=\"-79.8\" font-family=\"Helvetica,sans-Serif\" font-size=\"14.00\">value = [0.007, 0.065, 0.522, 0.355, 0.046, 0.005, 0.0]</text>\n</g>\n<!-- 1&#45;&gt;2 -->\n<g id=\"edge2\" class=\"edge\">\n<title>1&#45;&gt;2</title>\n<path fill=\"none\" stroke=\"black\" d=\"M417.06,-160.98C374.56,-150.45 325.16,-138.21 281.69,-127.43\"/>\n<polygon fill=\"black\" stroke=\"black\" points=\"282.49,-124.02 271.94,-125.01 280.8,-130.82 282.49,-124.02\"/>\n</g>\n<!-- 583 -->\n<g id=\"node6\" class=\"node\">\n<title>583</title>\n<polygon fill=\"#ffffff\" stroke=\"black\" points=\"687.5,-125 356.5,-125 356.5,-72 687.5,-72 687.5,-125\"/>\n<text text-anchor=\"middle\" x=\"522\" y=\"-109.8\" font-family=\"Helvetica,sans-Serif\" font-size=\"14.00\">volatile acidity &lt;= &#45;0.258</text>\n<text text-anchor=\"middle\" x=\"522\" y=\"-94.8\" font-family=\"Helvetica,sans-Serif\" font-size=\"14.00\">samples = 42.9%</text>\n<text text-anchor=\"middle\" x=\"522\" y=\"-79.8\" font-family=\"Helvetica,sans-Serif\" font-size=\"14.00\">value = [0.003, 0.035, 0.437, 0.437, 0.077, 0.01, 0.0]</text>\n</g>\n<!-- 1&#45;&gt;583 -->\n<g id=\"edge5\" class=\"edge\">\n<title>1&#45;&gt;583</title>\n<path fill=\"none\" stroke=\"black\" d=\"M520.59,-160.87C520.77,-152.89 520.98,-143.93 521.18,-135.38\"/>\n<polygon fill=\"black\" stroke=\"black\" points=\"524.68,-135.33 521.41,-125.25 517.68,-135.17 524.68,-135.33\"/>\n</g>\n<!-- 3 -->\n<g id=\"node4\" class=\"node\">\n<title>3</title>\n<polygon fill=\"#c0c0c0\" stroke=\"black\" points=\"160,-36 106,-36 106,0 160,0 160,-36\"/>\n<text text-anchor=\"middle\" x=\"133\" y=\"-14.3\" font-family=\"Helvetica,sans-Serif\" font-size=\"14.00\">(...)</text>\n</g>\n<!-- 2&#45;&gt;3 -->\n<g id=\"edge3\" class=\"edge\">\n<title>2&#45;&gt;3</title>\n<path fill=\"none\" stroke=\"black\" d=\"M157.21,-71.8C153.34,-63.35 149.03,-53.95 145.13,-45.45\"/>\n<polygon fill=\"black\" stroke=\"black\" points=\"148.3,-43.96 140.95,-36.33 141.93,-46.88 148.3,-43.96\"/>\n</g>\n<!-- 166 -->\n<g id=\"node5\" class=\"node\">\n<title>166</title>\n<polygon fill=\"#c0c0c0\" stroke=\"black\" points=\"232,-36 178,-36 178,0 232,0 232,-36\"/>\n<text text-anchor=\"middle\" x=\"205\" y=\"-14.3\" font-family=\"Helvetica,sans-Serif\" font-size=\"14.00\">(...)</text>\n</g>\n<!-- 2&#45;&gt;166 -->\n<g id=\"edge4\" class=\"edge\">\n<title>2&#45;&gt;166</title>\n<path fill=\"none\" stroke=\"black\" d=\"M180.79,-71.8C184.66,-63.35 188.97,-53.95 192.87,-45.45\"/>\n<polygon fill=\"black\" stroke=\"black\" points=\"196.07,-46.88 197.05,-36.33 189.7,-43.96 196.07,-46.88\"/>\n</g>\n<!-- 584 -->\n<g id=\"node7\" class=\"node\">\n<title>584</title>\n<polygon fill=\"#c0c0c0\" stroke=\"black\" points=\"513,-36 459,-36 459,0 513,0 513,-36\"/>\n<text text-anchor=\"middle\" x=\"486\" y=\"-14.3\" font-family=\"Helvetica,sans-Serif\" font-size=\"14.00\">(...)</text>\n</g>\n<!-- 583&#45;&gt;584 -->\n<g id=\"edge6\" class=\"edge\">\n<title>583&#45;&gt;584</title>\n<path fill=\"none\" stroke=\"black\" d=\"M510.21,-71.8C506.34,-63.35 502.03,-53.95 498.13,-45.45\"/>\n<polygon fill=\"black\" stroke=\"black\" points=\"501.3,-43.96 493.95,-36.33 494.93,-46.88 501.3,-43.96\"/>\n</g>\n<!-- 1045 -->\n<g id=\"node8\" class=\"node\">\n<title>1045</title>\n<polygon fill=\"#c0c0c0\" stroke=\"black\" points=\"585,-36 531,-36 531,0 585,0 585,-36\"/>\n<text text-anchor=\"middle\" x=\"558\" y=\"-14.3\" font-family=\"Helvetica,sans-Serif\" font-size=\"14.00\">(...)</text>\n</g>\n<!-- 583&#45;&gt;1045 -->\n<g id=\"edge7\" class=\"edge\">\n<title>583&#45;&gt;1045</title>\n<path fill=\"none\" stroke=\"black\" d=\"M533.79,-71.8C537.66,-63.35 541.97,-53.95 545.87,-45.45\"/>\n<polygon fill=\"black\" stroke=\"black\" points=\"549.07,-46.88 550.05,-36.33 542.7,-43.96 549.07,-46.88\"/>\n</g>\n<!-- 1367 -->\n<g id=\"node10\" class=\"node\">\n<title>1367</title>\n<polygon fill=\"#e7fcfb\" stroke=\"black\" points=\"1055,-125 709,-125 709,-72 1055,-72 1055,-125\"/>\n<text text-anchor=\"middle\" x=\"882\" y=\"-109.8\" font-family=\"Helvetica,sans-Serif\" font-size=\"14.00\">residual sugar &lt;= &#45;0.664</text>\n<text text-anchor=\"middle\" x=\"882\" y=\"-94.8\" font-family=\"Helvetica,sans-Serif\" font-size=\"14.00\">samples = 14.2%</text>\n<text text-anchor=\"middle\" x=\"882\" y=\"-79.8\" font-family=\"Helvetica,sans-Serif\" font-size=\"14.00\">value = [0.001, 0.02, 0.067, 0.449, 0.373, 0.087, 0.002]</text>\n</g>\n<!-- 1366&#45;&gt;1367 -->\n<g id=\"edge9\" class=\"edge\">\n<title>1366&#45;&gt;1367</title>\n<path fill=\"none\" stroke=\"black\" d=\"M883.41,-160.87C883.23,-152.89 883.02,-143.93 882.82,-135.38\"/>\n<polygon fill=\"black\" stroke=\"black\" points=\"886.32,-135.17 882.59,-125.25 879.32,-135.33 886.32,-135.17\"/>\n</g>\n<!-- 1756 -->\n<g id=\"node13\" class=\"node\">\n<title>1756</title>\n<polygon fill=\"#c3f7f6\" stroke=\"black\" points=\"1411,-125 1073,-125 1073,-72 1411,-72 1411,-125\"/>\n<text text-anchor=\"middle\" x=\"1242\" y=\"-109.8\" font-family=\"Helvetica,sans-Serif\" font-size=\"14.00\">sulphates &lt;= 0.293</text>\n<text text-anchor=\"middle\" x=\"1242\" y=\"-94.8\" font-family=\"Helvetica,sans-Serif\" font-size=\"14.00\">samples = 25.8%</text>\n<text text-anchor=\"middle\" x=\"1242\" y=\"-79.8\" font-family=\"Helvetica,sans-Serif\" font-size=\"14.00\">value = [0.006, 0.024, 0.173, 0.489, 0.267, 0.042, 0.0]</text>\n</g>\n<!-- 1366&#45;&gt;1756 -->\n<g id=\"edge12\" class=\"edge\">\n<title>1366&#45;&gt;1756</title>\n<path fill=\"none\" stroke=\"black\" d=\"M988.99,-160.98C1032.34,-150.45 1082.72,-138.21 1127.06,-127.43\"/>\n<polygon fill=\"black\" stroke=\"black\" points=\"1128.12,-130.78 1137.01,-125.01 1126.47,-123.98 1128.12,-130.78\"/>\n</g>\n<!-- 1368 -->\n<g id=\"node11\" class=\"node\">\n<title>1368</title>\n<polygon fill=\"#c0c0c0\" stroke=\"black\" points=\"873,-36 819,-36 819,0 873,0 873,-36\"/>\n<text text-anchor=\"middle\" x=\"846\" y=\"-14.3\" font-family=\"Helvetica,sans-Serif\" font-size=\"14.00\">(...)</text>\n</g>\n<!-- 1367&#45;&gt;1368 -->\n<g id=\"edge10\" class=\"edge\">\n<title>1367&#45;&gt;1368</title>\n<path fill=\"none\" stroke=\"black\" d=\"M870.21,-71.8C866.34,-63.35 862.03,-53.95 858.13,-45.45\"/>\n<polygon fill=\"black\" stroke=\"black\" points=\"861.3,-43.96 853.95,-36.33 854.93,-46.88 861.3,-43.96\"/>\n</g>\n<!-- 1591 -->\n<g id=\"node12\" class=\"node\">\n<title>1591</title>\n<polygon fill=\"#c0c0c0\" stroke=\"black\" points=\"945,-36 891,-36 891,0 945,0 945,-36\"/>\n<text text-anchor=\"middle\" x=\"918\" y=\"-14.3\" font-family=\"Helvetica,sans-Serif\" font-size=\"14.00\">(...)</text>\n</g>\n<!-- 1367&#45;&gt;1591 -->\n<g id=\"edge11\" class=\"edge\">\n<title>1367&#45;&gt;1591</title>\n<path fill=\"none\" stroke=\"black\" d=\"M893.79,-71.8C897.66,-63.35 901.97,-53.95 905.87,-45.45\"/>\n<polygon fill=\"black\" stroke=\"black\" points=\"909.07,-46.88 910.05,-36.33 902.7,-43.96 909.07,-46.88\"/>\n</g>\n<!-- 1757 -->\n<g id=\"node14\" class=\"node\">\n<title>1757</title>\n<polygon fill=\"#c0c0c0\" stroke=\"black\" points=\"1233,-36 1179,-36 1179,0 1233,0 1233,-36\"/>\n<text text-anchor=\"middle\" x=\"1206\" y=\"-14.3\" font-family=\"Helvetica,sans-Serif\" font-size=\"14.00\">(...)</text>\n</g>\n<!-- 1756&#45;&gt;1757 -->\n<g id=\"edge13\" class=\"edge\">\n<title>1756&#45;&gt;1757</title>\n<path fill=\"none\" stroke=\"black\" d=\"M1230.21,-71.8C1226.34,-63.35 1222.03,-53.95 1218.13,-45.45\"/>\n<polygon fill=\"black\" stroke=\"black\" points=\"1221.3,-43.96 1213.95,-36.33 1214.93,-46.88 1221.3,-43.96\"/>\n</g>\n<!-- 2204 -->\n<g id=\"node15\" class=\"node\">\n<title>2204</title>\n<polygon fill=\"#c0c0c0\" stroke=\"black\" points=\"1305,-36 1251,-36 1251,0 1305,0 1305,-36\"/>\n<text text-anchor=\"middle\" x=\"1278\" y=\"-14.3\" font-family=\"Helvetica,sans-Serif\" font-size=\"14.00\">(...)</text>\n</g>\n<!-- 1756&#45;&gt;2204 -->\n<g id=\"edge14\" class=\"edge\">\n<title>1756&#45;&gt;2204</title>\n<path fill=\"none\" stroke=\"black\" d=\"M1253.79,-71.8C1257.66,-63.35 1261.97,-53.95 1265.87,-45.45\"/>\n<polygon fill=\"black\" stroke=\"black\" points=\"1269.07,-46.88 1270.05,-36.33 1262.7,-43.96 1269.07,-46.88\"/>\n</g>\n</g>\n</svg>\n",
            "text/plain": [
              "<graphviz.sources.Source at 0x7854dd9e1c90>"
            ]
          },
          "metadata": {},
          "output_type": "display_data"
        },
        {
          "data": {
            "image/svg+xml": "<?xml version=\"1.0\" encoding=\"UTF-8\" standalone=\"no\"?>\n<!DOCTYPE svg PUBLIC \"-//W3C//DTD SVG 1.1//EN\"\n \"http://www.w3.org/Graphics/SVG/1.1/DTD/svg11.dtd\">\n<!-- Generated by graphviz version 2.43.0 (0)\n -->\n<!-- Title: Tree Pages: 1 -->\n<svg width=\"1424pt\" height=\"311pt\"\n viewBox=\"0.00 0.00 1423.50 311.00\" xmlns=\"http://www.w3.org/2000/svg\" xmlns:xlink=\"http://www.w3.org/1999/xlink\">\n<g id=\"graph0\" class=\"graph\" transform=\"scale(1 1) rotate(0) translate(4 307)\">\n<title>Tree</title>\n<polygon fill=\"white\" stroke=\"transparent\" points=\"-4,4 -4,-307 1419.5,-307 1419.5,4 -4,4\"/>\n<!-- 0 -->\n<g id=\"node1\" class=\"node\">\n<title>0</title>\n<polygon fill=\"#defbfa\" stroke=\"black\" points=\"890,-303 544,-303 544,-250 890,-250 890,-303\"/>\n<text text-anchor=\"middle\" x=\"717\" y=\"-287.8\" font-family=\"Helvetica,sans-Serif\" font-size=\"14.00\">volatile acidity &lt;= &#45;0.38</text>\n<text text-anchor=\"middle\" x=\"717\" y=\"-272.8\" font-family=\"Helvetica,sans-Serif\" font-size=\"14.00\">samples = 100.0%</text>\n<text text-anchor=\"middle\" x=\"717\" y=\"-257.8\" font-family=\"Helvetica,sans-Serif\" font-size=\"14.00\">value = [0.004, 0.034, 0.327, 0.438, 0.166, 0.03, 0.001]</text>\n</g>\n<!-- 1 -->\n<g id=\"node2\" class=\"node\">\n<title>1</title>\n<polygon fill=\"#b0f5f3\" stroke=\"black\" points=\"706,-214 360,-214 360,-161 706,-161 706,-214\"/>\n<text text-anchor=\"middle\" x=\"533\" y=\"-198.8\" font-family=\"Helvetica,sans-Serif\" font-size=\"14.00\">volatile acidity &lt;= &#45;0.683</text>\n<text text-anchor=\"middle\" x=\"533\" y=\"-183.8\" font-family=\"Helvetica,sans-Serif\" font-size=\"14.00\">samples = 43.3%</text>\n<text text-anchor=\"middle\" x=\"533\" y=\"-168.8\" font-family=\"Helvetica,sans-Serif\" font-size=\"14.00\">value = [0.003, 0.019, 0.223, 0.532, 0.19, 0.032, 0.001]</text>\n</g>\n<!-- 0&#45;&gt;1 -->\n<g id=\"edge1\" class=\"edge\">\n<title>0&#45;&gt;1</title>\n<path fill=\"none\" stroke=\"black\" d=\"M662.79,-249.87C641.92,-240 617.91,-228.65 596.26,-218.41\"/>\n<polygon fill=\"black\" stroke=\"black\" points=\"597.68,-215.21 587.14,-214.1 594.69,-221.54 597.68,-215.21\"/>\n<text text-anchor=\"middle\" x=\"595.57\" y=\"-233.94\" font-family=\"Helvetica,sans-Serif\" font-size=\"14.00\">True</text>\n</g>\n<!-- 1020 -->\n<g id=\"node9\" class=\"node\">\n<title>1020</title>\n<polygon fill=\"#f2fdf3\" stroke=\"black\" points=\"1070,-214 732,-214 732,-161 1070,-161 1070,-214\"/>\n<text text-anchor=\"middle\" x=\"901\" y=\"-198.8\" font-family=\"Helvetica,sans-Serif\" font-size=\"14.00\">density &lt;= &#45;0.626</text>\n<text text-anchor=\"middle\" x=\"901\" y=\"-183.8\" font-family=\"Helvetica,sans-Serif\" font-size=\"14.00\">samples = 56.7%</text>\n<text text-anchor=\"middle\" x=\"901\" y=\"-168.8\" font-family=\"Helvetica,sans-Serif\" font-size=\"14.00\">value = [0.004, 0.046, 0.407, 0.366, 0.148, 0.029, 0.0]</text>\n</g>\n<!-- 0&#45;&gt;1020 -->\n<g id=\"edge8\" class=\"edge\">\n<title>0&#45;&gt;1020</title>\n<path fill=\"none\" stroke=\"black\" d=\"M771.21,-249.87C792.08,-240 816.09,-228.65 837.74,-218.41\"/>\n<polygon fill=\"black\" stroke=\"black\" points=\"839.31,-221.54 846.86,-214.1 836.32,-215.21 839.31,-221.54\"/>\n<text text-anchor=\"middle\" x=\"838.43\" y=\"-233.94\" font-family=\"Helvetica,sans-Serif\" font-size=\"14.00\">False</text>\n</g>\n<!-- 2 -->\n<g id=\"node3\" class=\"node\">\n<title>2</title>\n<polygon fill=\"#aef4f3\" stroke=\"black\" points=\"338,-125 0,-125 0,-72 338,-72 338,-125\"/>\n<text text-anchor=\"middle\" x=\"169\" y=\"-109.8\" font-family=\"Helvetica,sans-Serif\" font-size=\"14.00\">alcohol &lt;= 0.31</text>\n<text text-anchor=\"middle\" x=\"169\" y=\"-94.8\" font-family=\"Helvetica,sans-Serif\" font-size=\"14.00\">samples = 24.4%</text>\n<text text-anchor=\"middle\" x=\"169\" y=\"-79.8\" font-family=\"Helvetica,sans-Serif\" font-size=\"14.00\">value = [0.001, 0.015, 0.171, 0.544, 0.231, 0.037, 0.0]</text>\n</g>\n<!-- 1&#45;&gt;2 -->\n<g id=\"edge2\" class=\"edge\">\n<title>1&#45;&gt;2</title>\n<path fill=\"none\" stroke=\"black\" d=\"M426.25,-160.98C382.08,-150.43 330.73,-138.16 285.58,-127.36\"/>\n<polygon fill=\"black\" stroke=\"black\" points=\"286.29,-123.94 275.75,-125.01 284.66,-130.74 286.29,-123.94\"/>\n</g>\n<!-- 553 -->\n<g id=\"node6\" class=\"node\">\n<title>553</title>\n<polygon fill=\"#c0f7f6\" stroke=\"black\" points=\"709.5,-125 356.5,-125 356.5,-72 709.5,-72 709.5,-125\"/>\n<text text-anchor=\"middle\" x=\"533\" y=\"-109.8\" font-family=\"Helvetica,sans-Serif\" font-size=\"14.00\">alcohol &lt;= &#45;0.39</text>\n<text text-anchor=\"middle\" x=\"533\" y=\"-94.8\" font-family=\"Helvetica,sans-Serif\" font-size=\"14.00\">samples = 18.9%</text>\n<text text-anchor=\"middle\" x=\"533\" y=\"-79.8\" font-family=\"Helvetica,sans-Serif\" font-size=\"14.00\">value = [0.005, 0.023, 0.292, 0.517, 0.136, 0.025, 0.003]</text>\n</g>\n<!-- 1&#45;&gt;553 -->\n<g id=\"edge5\" class=\"edge\">\n<title>1&#45;&gt;553</title>\n<path fill=\"none\" stroke=\"black\" d=\"M533,-160.87C533,-152.89 533,-143.93 533,-135.38\"/>\n<polygon fill=\"black\" stroke=\"black\" points=\"536.5,-135.25 533,-125.25 529.5,-135.25 536.5,-135.25\"/>\n</g>\n<!-- 3 -->\n<g id=\"node4\" class=\"node\">\n<title>3</title>\n<polygon fill=\"#c0c0c0\" stroke=\"black\" points=\"160,-36 106,-36 106,0 160,0 160,-36\"/>\n<text text-anchor=\"middle\" x=\"133\" y=\"-14.3\" font-family=\"Helvetica,sans-Serif\" font-size=\"14.00\">(...)</text>\n</g>\n<!-- 2&#45;&gt;3 -->\n<g id=\"edge3\" class=\"edge\">\n<title>2&#45;&gt;3</title>\n<path fill=\"none\" stroke=\"black\" d=\"M157.21,-71.8C153.34,-63.35 149.03,-53.95 145.13,-45.45\"/>\n<polygon fill=\"black\" stroke=\"black\" points=\"148.3,-43.96 140.95,-36.33 141.93,-46.88 148.3,-43.96\"/>\n</g>\n<!-- 280 -->\n<g id=\"node5\" class=\"node\">\n<title>280</title>\n<polygon fill=\"#c0c0c0\" stroke=\"black\" points=\"232,-36 178,-36 178,0 232,0 232,-36\"/>\n<text text-anchor=\"middle\" x=\"205\" y=\"-14.3\" font-family=\"Helvetica,sans-Serif\" font-size=\"14.00\">(...)</text>\n</g>\n<!-- 2&#45;&gt;280 -->\n<g id=\"edge4\" class=\"edge\">\n<title>2&#45;&gt;280</title>\n<path fill=\"none\" stroke=\"black\" d=\"M180.79,-71.8C184.66,-63.35 188.97,-53.95 192.87,-45.45\"/>\n<polygon fill=\"black\" stroke=\"black\" points=\"196.07,-46.88 197.05,-36.33 189.7,-43.96 196.07,-46.88\"/>\n</g>\n<!-- 554 -->\n<g id=\"node7\" class=\"node\">\n<title>554</title>\n<polygon fill=\"#c0c0c0\" stroke=\"black\" points=\"524,-36 470,-36 470,0 524,0 524,-36\"/>\n<text text-anchor=\"middle\" x=\"497\" y=\"-14.3\" font-family=\"Helvetica,sans-Serif\" font-size=\"14.00\">(...)</text>\n</g>\n<!-- 553&#45;&gt;554 -->\n<g id=\"edge6\" class=\"edge\">\n<title>553&#45;&gt;554</title>\n<path fill=\"none\" stroke=\"black\" d=\"M521.21,-71.8C517.34,-63.35 513.03,-53.95 509.13,-45.45\"/>\n<polygon fill=\"black\" stroke=\"black\" points=\"512.3,-43.96 504.95,-36.33 505.93,-46.88 512.3,-43.96\"/>\n</g>\n<!-- 753 -->\n<g id=\"node8\" class=\"node\">\n<title>753</title>\n<polygon fill=\"#c0c0c0\" stroke=\"black\" points=\"596,-36 542,-36 542,0 596,0 596,-36\"/>\n<text text-anchor=\"middle\" x=\"569\" y=\"-14.3\" font-family=\"Helvetica,sans-Serif\" font-size=\"14.00\">(...)</text>\n</g>\n<!-- 553&#45;&gt;753 -->\n<g id=\"edge7\" class=\"edge\">\n<title>553&#45;&gt;753</title>\n<path fill=\"none\" stroke=\"black\" d=\"M544.79,-71.8C548.66,-63.35 552.97,-53.95 556.87,-45.45\"/>\n<polygon fill=\"black\" stroke=\"black\" points=\"560.07,-46.88 561.05,-36.33 553.7,-43.96 560.07,-46.88\"/>\n</g>\n<!-- 1021 -->\n<g id=\"node10\" class=\"node\">\n<title>1021</title>\n<polygon fill=\"#f4fefd\" stroke=\"black\" points=\"1074,-125 728,-125 728,-72 1074,-72 1074,-125\"/>\n<text text-anchor=\"middle\" x=\"901\" y=\"-109.8\" font-family=\"Helvetica,sans-Serif\" font-size=\"14.00\">residual sugar &lt;= &#45;0.826</text>\n<text text-anchor=\"middle\" x=\"901\" y=\"-94.8\" font-family=\"Helvetica,sans-Serif\" font-size=\"14.00\">samples = 13.8%</text>\n<text text-anchor=\"middle\" x=\"901\" y=\"-79.8\" font-family=\"Helvetica,sans-Serif\" font-size=\"14.00\">value = [0.004, 0.045, 0.13, 0.385, 0.349, 0.087, 0.001]</text>\n</g>\n<!-- 1020&#45;&gt;1021 -->\n<g id=\"edge9\" class=\"edge\">\n<title>1020&#45;&gt;1021</title>\n<path fill=\"none\" stroke=\"black\" d=\"M901,-160.87C901,-152.89 901,-143.93 901,-135.38\"/>\n<polygon fill=\"black\" stroke=\"black\" points=\"904.5,-135.25 901,-125.25 897.5,-135.25 904.5,-135.25\"/>\n</g>\n<!-- 1464 -->\n<g id=\"node13\" class=\"node\">\n<title>1464</title>\n<polygon fill=\"#d4f9d9\" stroke=\"black\" points=\"1415.5,-125 1092.5,-125 1092.5,-72 1415.5,-72 1415.5,-125\"/>\n<text text-anchor=\"middle\" x=\"1254\" y=\"-109.8\" font-family=\"Helvetica,sans-Serif\" font-size=\"14.00\">total sulfur dioxide &lt;= &#45;0.995</text>\n<text text-anchor=\"middle\" x=\"1254\" y=\"-94.8\" font-family=\"Helvetica,sans-Serif\" font-size=\"14.00\">samples = 42.9%</text>\n<text text-anchor=\"middle\" x=\"1254\" y=\"-79.8\" font-family=\"Helvetica,sans-Serif\" font-size=\"14.00\">value = [0.004, 0.046, 0.497, 0.36, 0.083, 0.01, 0.0]</text>\n</g>\n<!-- 1020&#45;&gt;1464 -->\n<g id=\"edge12\" class=\"edge\">\n<title>1020&#45;&gt;1464</title>\n<path fill=\"none\" stroke=\"black\" d=\"M1004.53,-160.98C1047.27,-150.45 1096.95,-138.21 1140.66,-127.43\"/>\n<polygon fill=\"black\" stroke=\"black\" points=\"1141.6,-130.81 1150.48,-125.01 1139.93,-124.01 1141.6,-130.81\"/>\n</g>\n<!-- 1022 -->\n<g id=\"node11\" class=\"node\">\n<title>1022</title>\n<polygon fill=\"#c0c0c0\" stroke=\"black\" points=\"892,-36 838,-36 838,0 892,0 892,-36\"/>\n<text text-anchor=\"middle\" x=\"865\" y=\"-14.3\" font-family=\"Helvetica,sans-Serif\" font-size=\"14.00\">(...)</text>\n</g>\n<!-- 1021&#45;&gt;1022 -->\n<g id=\"edge10\" class=\"edge\">\n<title>1021&#45;&gt;1022</title>\n<path fill=\"none\" stroke=\"black\" d=\"M889.21,-71.8C885.34,-63.35 881.03,-53.95 877.13,-45.45\"/>\n<polygon fill=\"black\" stroke=\"black\" points=\"880.3,-43.96 872.95,-36.33 873.93,-46.88 880.3,-43.96\"/>\n</g>\n<!-- 1171 -->\n<g id=\"node12\" class=\"node\">\n<title>1171</title>\n<polygon fill=\"#c0c0c0\" stroke=\"black\" points=\"964,-36 910,-36 910,0 964,0 964,-36\"/>\n<text text-anchor=\"middle\" x=\"937\" y=\"-14.3\" font-family=\"Helvetica,sans-Serif\" font-size=\"14.00\">(...)</text>\n</g>\n<!-- 1021&#45;&gt;1171 -->\n<g id=\"edge11\" class=\"edge\">\n<title>1021&#45;&gt;1171</title>\n<path fill=\"none\" stroke=\"black\" d=\"M912.79,-71.8C916.66,-63.35 920.97,-53.95 924.87,-45.45\"/>\n<polygon fill=\"black\" stroke=\"black\" points=\"928.07,-46.88 929.05,-36.33 921.7,-43.96 928.07,-46.88\"/>\n</g>\n<!-- 1465 -->\n<g id=\"node14\" class=\"node\">\n<title>1465</title>\n<polygon fill=\"#c0c0c0\" stroke=\"black\" points=\"1245,-36 1191,-36 1191,0 1245,0 1245,-36\"/>\n<text text-anchor=\"middle\" x=\"1218\" y=\"-14.3\" font-family=\"Helvetica,sans-Serif\" font-size=\"14.00\">(...)</text>\n</g>\n<!-- 1464&#45;&gt;1465 -->\n<g id=\"edge13\" class=\"edge\">\n<title>1464&#45;&gt;1465</title>\n<path fill=\"none\" stroke=\"black\" d=\"M1242.21,-71.8C1238.34,-63.35 1234.03,-53.95 1230.13,-45.45\"/>\n<polygon fill=\"black\" stroke=\"black\" points=\"1233.3,-43.96 1225.95,-36.33 1226.93,-46.88 1233.3,-43.96\"/>\n</g>\n<!-- 1986 -->\n<g id=\"node15\" class=\"node\">\n<title>1986</title>\n<polygon fill=\"#c0c0c0\" stroke=\"black\" points=\"1317,-36 1263,-36 1263,0 1317,0 1317,-36\"/>\n<text text-anchor=\"middle\" x=\"1290\" y=\"-14.3\" font-family=\"Helvetica,sans-Serif\" font-size=\"14.00\">(...)</text>\n</g>\n<!-- 1464&#45;&gt;1986 -->\n<g id=\"edge14\" class=\"edge\">\n<title>1464&#45;&gt;1986</title>\n<path fill=\"none\" stroke=\"black\" d=\"M1265.79,-71.8C1269.66,-63.35 1273.97,-53.95 1277.87,-45.45\"/>\n<polygon fill=\"black\" stroke=\"black\" points=\"1281.07,-46.88 1282.05,-36.33 1274.7,-43.96 1281.07,-46.88\"/>\n</g>\n</g>\n</svg>\n",
            "text/plain": [
              "<graphviz.sources.Source at 0x7854e016afb0>"
            ]
          },
          "metadata": {},
          "output_type": "display_data"
        }
      ],
      "source": [
        "for i in range(3):\n",
        "    tree = rf_model.estimators_[i]\n",
        "    dot_data = export_graphviz(tree,\n",
        "                               feature_names=X.columns,\n",
        "                               filled=True,\n",
        "                               max_depth=2,\n",
        "                               impurity=False,\n",
        "                               proportion=True)\n",
        "    graph = graphviz.Source(dot_data)\n",
        "    display(graph)"
      ]
    },
    {
      "cell_type": "code",
      "execution_count": null,
      "metadata": {
        "id": "M3mWh5Q2k8Fh"
      },
      "outputs": [],
      "source": []
    },
    {
      "cell_type": "markdown",
      "metadata": {
        "id": "nGX_qRy4YPOa"
      },
      "source": [
        "##Support Vector Machines"
      ]
    },
    {
      "cell_type": "code",
      "execution_count": null,
      "metadata": {
        "id": "jDk8T77ebJ3o"
      },
      "outputs": [],
      "source": [
        "params_dictrionary = {'kernel':['poly', 'rbf']}"
      ]
    },
    {
      "cell_type": "code",
      "execution_count": null,
      "metadata": {
        "id": "aJRPSetznect"
      },
      "outputs": [],
      "source": [
        "svc_model=SVC()"
      ]
    },
    {
      "cell_type": "code",
      "execution_count": null,
      "metadata": {
        "id": "hgHy3HmvbRoi"
      },
      "outputs": [],
      "source": [
        "svc_grid_search=GridSearchCV(svc_model,params_dictrionary,cv=5)"
      ]
    },
    {
      "cell_type": "code",
      "execution_count": null,
      "metadata": {
        "colab": {
          "base_uri": "https://localhost:8080/",
          "height": 567
        },
        "id": "icPf25svZSzH",
        "outputId": "1cfc239a-76c0-4f93-f8b4-6f6bc60b3f5e"
      },
      "outputs": [
        {
          "name": "stderr",
          "output_type": "stream",
          "text": [
            "/usr/local/lib/python3.10/dist-packages/sklearn/utils/validation.py:1143: DataConversionWarning: A column-vector y was passed when a 1d array was expected. Please change the shape of y to (n_samples, ), for example using ravel().\n",
            "  y = column_or_1d(y, warn=True)\n",
            "/usr/local/lib/python3.10/dist-packages/sklearn/utils/validation.py:1143: DataConversionWarning: A column-vector y was passed when a 1d array was expected. Please change the shape of y to (n_samples, ), for example using ravel().\n",
            "  y = column_or_1d(y, warn=True)\n",
            "/usr/local/lib/python3.10/dist-packages/sklearn/utils/validation.py:1143: DataConversionWarning: A column-vector y was passed when a 1d array was expected. Please change the shape of y to (n_samples, ), for example using ravel().\n",
            "  y = column_or_1d(y, warn=True)\n",
            "/usr/local/lib/python3.10/dist-packages/sklearn/utils/validation.py:1143: DataConversionWarning: A column-vector y was passed when a 1d array was expected. Please change the shape of y to (n_samples, ), for example using ravel().\n",
            "  y = column_or_1d(y, warn=True)\n",
            "/usr/local/lib/python3.10/dist-packages/sklearn/utils/validation.py:1143: DataConversionWarning: A column-vector y was passed when a 1d array was expected. Please change the shape of y to (n_samples, ), for example using ravel().\n",
            "  y = column_or_1d(y, warn=True)\n",
            "/usr/local/lib/python3.10/dist-packages/sklearn/utils/validation.py:1143: DataConversionWarning: A column-vector y was passed when a 1d array was expected. Please change the shape of y to (n_samples, ), for example using ravel().\n",
            "  y = column_or_1d(y, warn=True)\n",
            "/usr/local/lib/python3.10/dist-packages/sklearn/utils/validation.py:1143: DataConversionWarning: A column-vector y was passed when a 1d array was expected. Please change the shape of y to (n_samples, ), for example using ravel().\n",
            "  y = column_or_1d(y, warn=True)\n",
            "/usr/local/lib/python3.10/dist-packages/sklearn/utils/validation.py:1143: DataConversionWarning: A column-vector y was passed when a 1d array was expected. Please change the shape of y to (n_samples, ), for example using ravel().\n",
            "  y = column_or_1d(y, warn=True)\n",
            "/usr/local/lib/python3.10/dist-packages/sklearn/utils/validation.py:1143: DataConversionWarning: A column-vector y was passed when a 1d array was expected. Please change the shape of y to (n_samples, ), for example using ravel().\n",
            "  y = column_or_1d(y, warn=True)\n",
            "/usr/local/lib/python3.10/dist-packages/sklearn/utils/validation.py:1143: DataConversionWarning: A column-vector y was passed when a 1d array was expected. Please change the shape of y to (n_samples, ), for example using ravel().\n",
            "  y = column_or_1d(y, warn=True)\n",
            "/usr/local/lib/python3.10/dist-packages/sklearn/utils/validation.py:1143: DataConversionWarning: A column-vector y was passed when a 1d array was expected. Please change the shape of y to (n_samples, ), for example using ravel().\n",
            "  y = column_or_1d(y, warn=True)\n"
          ]
        },
        {
          "name": "stdout",
          "output_type": "stream",
          "text": [
            "CPU times: user 6min 17s, sys: 983 ms, total: 6min 18s\n",
            "Wall time: 6min 19s\n"
          ]
        },
        {
          "data": {
            "text/html": [
              "<style>#sk-container-id-4 {color: black;background-color: white;}#sk-container-id-4 pre{padding: 0;}#sk-container-id-4 div.sk-toggleable {background-color: white;}#sk-container-id-4 label.sk-toggleable__label {cursor: pointer;display: block;width: 100%;margin-bottom: 0;padding: 0.3em;box-sizing: border-box;text-align: center;}#sk-container-id-4 label.sk-toggleable__label-arrow:before {content: \"▸\";float: left;margin-right: 0.25em;color: #696969;}#sk-container-id-4 label.sk-toggleable__label-arrow:hover:before {color: black;}#sk-container-id-4 div.sk-estimator:hover label.sk-toggleable__label-arrow:before {color: black;}#sk-container-id-4 div.sk-toggleable__content {max-height: 0;max-width: 0;overflow: hidden;text-align: left;background-color: #f0f8ff;}#sk-container-id-4 div.sk-toggleable__content pre {margin: 0.2em;color: black;border-radius: 0.25em;background-color: #f0f8ff;}#sk-container-id-4 input.sk-toggleable__control:checked~div.sk-toggleable__content {max-height: 200px;max-width: 100%;overflow: auto;}#sk-container-id-4 input.sk-toggleable__control:checked~label.sk-toggleable__label-arrow:before {content: \"▾\";}#sk-container-id-4 div.sk-estimator input.sk-toggleable__control:checked~label.sk-toggleable__label {background-color: #d4ebff;}#sk-container-id-4 div.sk-label input.sk-toggleable__control:checked~label.sk-toggleable__label {background-color: #d4ebff;}#sk-container-id-4 input.sk-hidden--visually {border: 0;clip: rect(1px 1px 1px 1px);clip: rect(1px, 1px, 1px, 1px);height: 1px;margin: -1px;overflow: hidden;padding: 0;position: absolute;width: 1px;}#sk-container-id-4 div.sk-estimator {font-family: monospace;background-color: #f0f8ff;border: 1px dotted black;border-radius: 0.25em;box-sizing: border-box;margin-bottom: 0.5em;}#sk-container-id-4 div.sk-estimator:hover {background-color: #d4ebff;}#sk-container-id-4 div.sk-parallel-item::after {content: \"\";width: 100%;border-bottom: 1px solid gray;flex-grow: 1;}#sk-container-id-4 div.sk-label:hover label.sk-toggleable__label {background-color: #d4ebff;}#sk-container-id-4 div.sk-serial::before {content: \"\";position: absolute;border-left: 1px solid gray;box-sizing: border-box;top: 0;bottom: 0;left: 50%;z-index: 0;}#sk-container-id-4 div.sk-serial {display: flex;flex-direction: column;align-items: center;background-color: white;padding-right: 0.2em;padding-left: 0.2em;position: relative;}#sk-container-id-4 div.sk-item {position: relative;z-index: 1;}#sk-container-id-4 div.sk-parallel {display: flex;align-items: stretch;justify-content: center;background-color: white;position: relative;}#sk-container-id-4 div.sk-item::before, #sk-container-id-4 div.sk-parallel-item::before {content: \"\";position: absolute;border-left: 1px solid gray;box-sizing: border-box;top: 0;bottom: 0;left: 50%;z-index: -1;}#sk-container-id-4 div.sk-parallel-item {display: flex;flex-direction: column;z-index: 1;position: relative;background-color: white;}#sk-container-id-4 div.sk-parallel-item:first-child::after {align-self: flex-end;width: 50%;}#sk-container-id-4 div.sk-parallel-item:last-child::after {align-self: flex-start;width: 50%;}#sk-container-id-4 div.sk-parallel-item:only-child::after {width: 0;}#sk-container-id-4 div.sk-dashed-wrapped {border: 1px dashed gray;margin: 0 0.4em 0.5em 0.4em;box-sizing: border-box;padding-bottom: 0.4em;background-color: white;}#sk-container-id-4 div.sk-label label {font-family: monospace;font-weight: bold;display: inline-block;line-height: 1.2em;}#sk-container-id-4 div.sk-label-container {text-align: center;}#sk-container-id-4 div.sk-container {/* jupyter's `normalize.less` sets `[hidden] { display: none; }` but bootstrap.min.css set `[hidden] { display: none !important; }` so we also need the `!important` here to be able to override the default hidden behavior on the sphinx rendered scikit-learn.org. See: https://github.com/scikit-learn/scikit-learn/issues/21755 */display: inline-block !important;position: relative;}#sk-container-id-4 div.sk-text-repr-fallback {display: none;}</style><div id=\"sk-container-id-4\" class=\"sk-top-container\"><div class=\"sk-text-repr-fallback\"><pre>GridSearchCV(cv=5, estimator=SVC(), param_grid={&#x27;kernel&#x27;: [&#x27;poly&#x27;, &#x27;rbf&#x27;]})</pre><b>In a Jupyter environment, please rerun this cell to show the HTML representation or trust the notebook. <br />On GitHub, the HTML representation is unable to render, please try loading this page with nbviewer.org.</b></div><div class=\"sk-container\" hidden><div class=\"sk-item sk-dashed-wrapped\"><div class=\"sk-label-container\"><div class=\"sk-label sk-toggleable\"><input class=\"sk-toggleable__control sk-hidden--visually\" id=\"sk-estimator-id-6\" type=\"checkbox\" ><label for=\"sk-estimator-id-6\" class=\"sk-toggleable__label sk-toggleable__label-arrow\">GridSearchCV</label><div class=\"sk-toggleable__content\"><pre>GridSearchCV(cv=5, estimator=SVC(), param_grid={&#x27;kernel&#x27;: [&#x27;poly&#x27;, &#x27;rbf&#x27;]})</pre></div></div></div><div class=\"sk-parallel\"><div class=\"sk-parallel-item\"><div class=\"sk-item\"><div class=\"sk-label-container\"><div class=\"sk-label sk-toggleable\"><input class=\"sk-toggleable__control sk-hidden--visually\" id=\"sk-estimator-id-7\" type=\"checkbox\" ><label for=\"sk-estimator-id-7\" class=\"sk-toggleable__label sk-toggleable__label-arrow\">estimator: SVC</label><div class=\"sk-toggleable__content\"><pre>SVC()</pre></div></div></div><div class=\"sk-serial\"><div class=\"sk-item\"><div class=\"sk-estimator sk-toggleable\"><input class=\"sk-toggleable__control sk-hidden--visually\" id=\"sk-estimator-id-8\" type=\"checkbox\" ><label for=\"sk-estimator-id-8\" class=\"sk-toggleable__label sk-toggleable__label-arrow\">SVC</label><div class=\"sk-toggleable__content\"><pre>SVC()</pre></div></div></div></div></div></div></div></div></div></div>"
            ],
            "text/plain": [
              "GridSearchCV(cv=5, estimator=SVC(), param_grid={'kernel': ['poly', 'rbf']})"
            ]
          },
          "execution_count": 55,
          "metadata": {},
          "output_type": "execute_result"
        }
      ],
      "source": [
        "%%time\n",
        "svc_grid_search.fit(X_train,Y_train)"
      ]
    },
    {
      "cell_type": "code",
      "execution_count": null,
      "metadata": {
        "colab": {
          "base_uri": "https://localhost:8080/"
        },
        "id": "_H0w7It9chHm",
        "outputId": "ad4be429-3338-48ae-9e84-9ed2b949f99e"
      },
      "outputs": [
        {
          "name": "stdout",
          "output_type": "stream",
          "text": [
            "Best hyperparameters: {'kernel': 'rbf'}\n"
          ]
        }
      ],
      "source": [
        "svc_model=svc_grid_search.best_estimator_\n",
        "print('Best hyperparameters:',  svc_grid_search.best_params_)"
      ]
    },
    {
      "cell_type": "code",
      "execution_count": null,
      "metadata": {
        "id": "vNuLNbkyZXjQ"
      },
      "outputs": [],
      "source": [
        "svc_predictions=svc_model.predict(X_test)"
      ]
    },
    {
      "cell_type": "code",
      "execution_count": null,
      "metadata": {
        "colab": {
          "base_uri": "https://localhost:8080/"
        },
        "id": "8aL5tCieZc_x",
        "outputId": "94a6de95-9d5a-488d-f1c4-b403bc0ed646"
      },
      "outputs": [
        {
          "name": "stdout",
          "output_type": "stream",
          "text": [
            "              precision    recall  f1-score   support\n",
            "\n",
            "           3       1.00      0.26      0.41        27\n",
            "           4       0.79      0.15      0.25       229\n",
            "           5       0.69      0.70      0.69      2151\n",
            "           6       0.59      0.78      0.67      2823\n",
            "           7       0.64      0.33      0.44      1074\n",
            "           8       0.71      0.03      0.05       188\n",
            "           9       0.00      0.00      0.00         5\n",
            "\n",
            "    accuracy                           0.63      6497\n",
            "   macro avg       0.63      0.32      0.36      6497\n",
            "weighted avg       0.64      0.63      0.61      6497\n",
            "\n"
          ]
        },
        {
          "name": "stderr",
          "output_type": "stream",
          "text": [
            "/usr/local/lib/python3.10/dist-packages/sklearn/metrics/_classification.py:1344: UndefinedMetricWarning: Precision and F-score are ill-defined and being set to 0.0 in labels with no predicted samples. Use `zero_division` parameter to control this behavior.\n",
            "  _warn_prf(average, modifier, msg_start, len(result))\n",
            "/usr/local/lib/python3.10/dist-packages/sklearn/metrics/_classification.py:1344: UndefinedMetricWarning: Precision and F-score are ill-defined and being set to 0.0 in labels with no predicted samples. Use `zero_division` parameter to control this behavior.\n",
            "  _warn_prf(average, modifier, msg_start, len(result))\n",
            "/usr/local/lib/python3.10/dist-packages/sklearn/metrics/_classification.py:1344: UndefinedMetricWarning: Precision and F-score are ill-defined and being set to 0.0 in labels with no predicted samples. Use `zero_division` parameter to control this behavior.\n",
            "  _warn_prf(average, modifier, msg_start, len(result))\n"
          ]
        }
      ],
      "source": [
        "print(classification_report(Y_test,svc_predictions))"
      ]
    },
    {
      "cell_type": "code",
      "execution_count": null,
      "metadata": {
        "id": "3YuP_uC8ZjJI"
      },
      "outputs": [],
      "source": [
        "svc_confusion_matrix=confusion_matrix(Y_test,svc_predictions)"
      ]
    },
    {
      "cell_type": "code",
      "execution_count": null,
      "metadata": {
        "colab": {
          "base_uri": "https://localhost:8080/",
          "height": 467
        },
        "id": "GdXdqDo7dDlS",
        "outputId": "c688d4d1-dd8e-4801-8442-0ba32681f731"
      },
      "outputs": [
        {
          "data": {
            "text/plain": [
              "<sklearn.metrics._plot.confusion_matrix.ConfusionMatrixDisplay at 0x7a228591a860>"
            ]
          },
          "execution_count": 60,
          "metadata": {},
          "output_type": "execute_result"
        },
        {
          "data": {
            "image/png": "[encoded data removed]",
            "text/plain": [
              "<Figure size 640x480 with 2 Axes>"
            ]
          },
          "metadata": {},
          "output_type": "display_data"
        }
      ],
      "source": [
        "disp = ConfusionMatrixDisplay(confusion_matrix=svc_confusion_matrix,\n",
        "                               display_labels=svc_model.classes_)\n",
        "disp.plot()"
      ]
    },
    {
      "cell_type": "markdown",
      "metadata": {
        "id": "3wzVWY7jdMU9"
      },
      "source": [
        "##Naïve Bayes"
      ]
    },
    {
      "cell_type": "code",
      "execution_count": null,
      "metadata": {
        "id": "b98xqTUQdQcx"
      },
      "outputs": [],
      "source": [
        "nb_model=GaussianNB()"
      ]
    },
    {
      "cell_type": "code",
      "execution_count": null,
      "metadata": {
        "colab": {
          "base_uri": "https://localhost:8080/",
          "height": 130
        },
        "id": "YV1QgcIFfNvI",
        "outputId": "d2166892-0165-4eae-ba0e-bbc44b08e8bb"
      },
      "outputs": [
        {
          "name": "stderr",
          "output_type": "stream",
          "text": [
            "/usr/local/lib/python3.10/dist-packages/sklearn/utils/validation.py:1143: DataConversionWarning: A column-vector y was passed when a 1d array was expected. Please change the shape of y to (n_samples, ), for example using ravel().\n",
            "  y = column_or_1d(y, warn=True)\n"
          ]
        },
        {
          "data": {
            "text/html": [
              "<style>#sk-container-id-1 {color: black;background-color: white;}#sk-container-id-1 pre{padding: 0;}#sk-container-id-1 div.sk-toggleable {background-color: white;}#sk-container-id-1 label.sk-toggleable__label {cursor: pointer;display: block;width: 100%;margin-bottom: 0;padding: 0.3em;box-sizing: border-box;text-align: center;}#sk-container-id-1 label.sk-toggleable__label-arrow:before {content: \"▸\";float: left;margin-right: 0.25em;color: #696969;}#sk-container-id-1 label.sk-toggleable__label-arrow:hover:before {color: black;}#sk-container-id-1 div.sk-estimator:hover label.sk-toggleable__label-arrow:before {color: black;}#sk-container-id-1 div.sk-toggleable__content {max-height: 0;max-width: 0;overflow: hidden;text-align: left;background-color: #f0f8ff;}#sk-container-id-1 div.sk-toggleable__content pre {margin: 0.2em;color: black;border-radius: 0.25em;background-color: #f0f8ff;}#sk-container-id-1 input.sk-toggleable__control:checked~div.sk-toggleable__content {max-height: 200px;max-width: 100%;overflow: auto;}#sk-container-id-1 input.sk-toggleable__control:checked~label.sk-toggleable__label-arrow:before {content: \"▾\";}#sk-container-id-1 div.sk-estimator input.sk-toggleable__control:checked~label.sk-toggleable__label {background-color: #d4ebff;}#sk-container-id-1 div.sk-label input.sk-toggleable__control:checked~label.sk-toggleable__label {background-color: #d4ebff;}#sk-container-id-1 input.sk-hidden--visually {border: 0;clip: rect(1px 1px 1px 1px);clip: rect(1px, 1px, 1px, 1px);height: 1px;margin: -1px;overflow: hidden;padding: 0;position: absolute;width: 1px;}#sk-container-id-1 div.sk-estimator {font-family: monospace;background-color: #f0f8ff;border: 1px dotted black;border-radius: 0.25em;box-sizing: border-box;margin-bottom: 0.5em;}#sk-container-id-1 div.sk-estimator:hover {background-color: #d4ebff;}#sk-container-id-1 div.sk-parallel-item::after {content: \"\";width: 100%;border-bottom: 1px solid gray;flex-grow: 1;}#sk-container-id-1 div.sk-label:hover label.sk-toggleable__label {background-color: #d4ebff;}#sk-container-id-1 div.sk-serial::before {content: \"\";position: absolute;border-left: 1px solid gray;box-sizing: border-box;top: 0;bottom: 0;left: 50%;z-index: 0;}#sk-container-id-1 div.sk-serial {display: flex;flex-direction: column;align-items: center;background-color: white;padding-right: 0.2em;padding-left: 0.2em;position: relative;}#sk-container-id-1 div.sk-item {position: relative;z-index: 1;}#sk-container-id-1 div.sk-parallel {display: flex;align-items: stretch;justify-content: center;background-color: white;position: relative;}#sk-container-id-1 div.sk-item::before, #sk-container-id-1 div.sk-parallel-item::before {content: \"\";position: absolute;border-left: 1px solid gray;box-sizing: border-box;top: 0;bottom: 0;left: 50%;z-index: -1;}#sk-container-id-1 div.sk-parallel-item {display: flex;flex-direction: column;z-index: 1;position: relative;background-color: white;}#sk-container-id-1 div.sk-parallel-item:first-child::after {align-self: flex-end;width: 50%;}#sk-container-id-1 div.sk-parallel-item:last-child::after {align-self: flex-start;width: 50%;}#sk-container-id-1 div.sk-parallel-item:only-child::after {width: 0;}#sk-container-id-1 div.sk-dashed-wrapped {border: 1px dashed gray;margin: 0 0.4em 0.5em 0.4em;box-sizing: border-box;padding-bottom: 0.4em;background-color: white;}#sk-container-id-1 div.sk-label label {font-family: monospace;font-weight: bold;display: inline-block;line-height: 1.2em;}#sk-container-id-1 div.sk-label-container {text-align: center;}#sk-container-id-1 div.sk-container {/* jupyter's `normalize.less` sets `[hidden] { display: none; }` but bootstrap.min.css set `[hidden] { display: none !important; }` so we also need the `!important` here to be able to override the default hidden behavior on the sphinx rendered scikit-learn.org. See: https://github.com/scikit-learn/scikit-learn/issues/21755 */display: inline-block !important;position: relative;}#sk-container-id-1 div.sk-text-repr-fallback {display: none;}</style><div id=\"sk-container-id-1\" class=\"sk-top-container\"><div class=\"sk-text-repr-fallback\"><pre>GaussianNB()</pre><b>In a Jupyter environment, please rerun this cell to show the HTML representation or trust the notebook. <br />On GitHub, the HTML representation is unable to render, please try loading this page with nbviewer.org.</b></div><div class=\"sk-container\" hidden><div class=\"sk-item\"><div class=\"sk-estimator sk-toggleable\"><input class=\"sk-toggleable__control sk-hidden--visually\" id=\"sk-estimator-id-1\" type=\"checkbox\" checked><label for=\"sk-estimator-id-1\" class=\"sk-toggleable__label sk-toggleable__label-arrow\">GaussianNB</label><div class=\"sk-toggleable__content\"><pre>GaussianNB()</pre></div></div></div></div></div>"
            ],
            "text/plain": [
              "GaussianNB()"
            ]
          },
          "execution_count": 21,
          "metadata": {},
          "output_type": "execute_result"
        }
      ],
      "source": [
        "nb_model.fit(X_train,Y_train)"
      ]
    },
    {
      "cell_type": "code",
      "execution_count": null,
      "metadata": {
        "id": "XvzU25xCfQ6X"
      },
      "outputs": [],
      "source": [
        "nb_predictions=nb_model.predict(X_test)"
      ]
    },
    {
      "cell_type": "code",
      "execution_count": null,
      "metadata": {
        "colab": {
          "base_uri": "https://localhost:8080/"
        },
        "id": "CE2dmD9efXH4",
        "outputId": "3f262ff6-980c-4035-b4ff-ef27e7418add"
      },
      "outputs": [
        {
          "name": "stdout",
          "output_type": "stream",
          "text": [
            "              precision    recall  f1-score   support\n",
            "\n",
            "           3       0.09      0.30      0.13        27\n",
            "           4       0.18      0.07      0.10       229\n",
            "           5       0.53      0.41      0.46      2151\n",
            "           6       0.45      0.33      0.38      2823\n",
            "           7       0.27      0.15      0.19      1074\n",
            "           8       0.24      0.12      0.16       188\n",
            "           9       0.00      0.80      0.00         5\n",
            "\n",
            "    accuracy                           0.31      6497\n",
            "   macro avg       0.25      0.31      0.20      6497\n",
            "weighted avg       0.43      0.31      0.36      6497\n",
            "\n"
          ]
        }
      ],
      "source": [
        "print(classification_report(Y_test,nb_predictions))"
      ]
    },
    {
      "cell_type": "code",
      "execution_count": null,
      "metadata": {
        "id": "tXJxd-16fiUY"
      },
      "outputs": [],
      "source": [
        "nb_confusion_matrix=confusion_matrix(Y_test,nb_predictions)"
      ]
    },
    {
      "cell_type": "code",
      "execution_count": null,
      "metadata": {
        "colab": {
          "base_uri": "https://localhost:8080/",
          "height": 467
        },
        "id": "MJ1_8qWWfpLN",
        "outputId": "7960a740-55aa-4711-a860-9762b8fefac0"
      },
      "outputs": [
        {
          "data": {
            "text/plain": [
              "<sklearn.metrics._plot.confusion_matrix.ConfusionMatrixDisplay at 0x7a22edbc2fe0>"
            ]
          },
          "execution_count": 25,
          "metadata": {},
          "output_type": "execute_result"
        },
        {
          "data": {
            "image/png": "[encoded data removed]",
            "text/plain": [
              "<Figure size 640x480 with 2 Axes>"
            ]
          },
          "metadata": {},
          "output_type": "display_data"
        }
      ],
      "source": [
        "disp = ConfusionMatrixDisplay(confusion_matrix=nb_confusion_matrix,\n",
        "                               display_labels=nb_model.classes_)\n",
        "disp.plot()"
      ]
    },
    {
      "cell_type": "markdown",
      "metadata": {
        "id": "hi7i0ifliadY"
      },
      "source": [
        "##AdaBoost Classifier(on above nb model)"
      ]
    },
    {
      "cell_type": "code",
      "execution_count": null,
      "metadata": {
        "id": "apvxr0V3iZPn"
      },
      "outputs": [],
      "source": [
        "ada_model=AdaBoostClassifier(n_estimators=100, random_state=0,base_estimator=nb_model)"
      ]
    },
    {
      "cell_type": "code",
      "execution_count": null,
      "metadata": {
        "colab": {
          "base_uri": "https://localhost:8080/",
          "height": 208
        },
        "id": "wWUobPoXhjDv",
        "outputId": "d76c17e9-e935-41b7-9aac-6fb035d44845"
      },
      "outputs": [
        {
          "name": "stderr",
          "output_type": "stream",
          "text": [
            "/usr/local/lib/python3.10/dist-packages/sklearn/utils/validation.py:1143: DataConversionWarning: A column-vector y was passed when a 1d array was expected. Please change the shape of y to (n_samples, ), for example using ravel().\n",
            "  y = column_or_1d(y, warn=True)\n",
            "/usr/local/lib/python3.10/dist-packages/sklearn/ensemble/_base.py:166: FutureWarning: `base_estimator` was renamed to `estimator` in version 1.2 and will be removed in 1.4.\n",
            "  warnings.warn(\n"
          ]
        },
        {
          "data": {
            "text/html": [
              "<style>#sk-container-id-3 {color: black;background-color: white;}#sk-container-id-3 pre{padding: 0;}#sk-container-id-3 div.sk-toggleable {background-color: white;}#sk-container-id-3 label.sk-toggleable__label {cursor: pointer;display: block;width: 100%;margin-bottom: 0;padding: 0.3em;box-sizing: border-box;text-align: center;}#sk-container-id-3 label.sk-toggleable__label-arrow:before {content: \"▸\";float: left;margin-right: 0.25em;color: #696969;}#sk-container-id-3 label.sk-toggleable__label-arrow:hover:before {color: black;}#sk-container-id-3 div.sk-estimator:hover label.sk-toggleable__label-arrow:before {color: black;}#sk-container-id-3 div.sk-toggleable__content {max-height: 0;max-width: 0;overflow: hidden;text-align: left;background-color: #f0f8ff;}#sk-container-id-3 div.sk-toggleable__content pre {margin: 0.2em;color: black;border-radius: 0.25em;background-color: #f0f8ff;}#sk-container-id-3 input.sk-toggleable__control:checked~div.sk-toggleable__content {max-height: 200px;max-width: 100%;overflow: auto;}#sk-container-id-3 input.sk-toggleable__control:checked~label.sk-toggleable__label-arrow:before {content: \"▾\";}#sk-container-id-3 div.sk-estimator input.sk-toggleable__control:checked~label.sk-toggleable__label {background-color: #d4ebff;}#sk-container-id-3 div.sk-label input.sk-toggleable__control:checked~label.sk-toggleable__label {background-color: #d4ebff;}#sk-container-id-3 input.sk-hidden--visually {border: 0;clip: rect(1px 1px 1px 1px);clip: rect(1px, 1px, 1px, 1px);height: 1px;margin: -1px;overflow: hidden;padding: 0;position: absolute;width: 1px;}#sk-container-id-3 div.sk-estimator {font-family: monospace;background-color: #f0f8ff;border: 1px dotted black;border-radius: 0.25em;box-sizing: border-box;margin-bottom: 0.5em;}#sk-container-id-3 div.sk-estimator:hover {background-color: #d4ebff;}#sk-container-id-3 div.sk-parallel-item::after {content: \"\";width: 100%;border-bottom: 1px solid gray;flex-grow: 1;}#sk-container-id-3 div.sk-label:hover label.sk-toggleable__label {background-color: #d4ebff;}#sk-container-id-3 div.sk-serial::before {content: \"\";position: absolute;border-left: 1px solid gray;box-sizing: border-box;top: 0;bottom: 0;left: 50%;z-index: 0;}#sk-container-id-3 div.sk-serial {display: flex;flex-direction: column;align-items: center;background-color: white;padding-right: 0.2em;padding-left: 0.2em;position: relative;}#sk-container-id-3 div.sk-item {position: relative;z-index: 1;}#sk-container-id-3 div.sk-parallel {display: flex;align-items: stretch;justify-content: center;background-color: white;position: relative;}#sk-container-id-3 div.sk-item::before, #sk-container-id-3 div.sk-parallel-item::before {content: \"\";position: absolute;border-left: 1px solid gray;box-sizing: border-box;top: 0;bottom: 0;left: 50%;z-index: -1;}#sk-container-id-3 div.sk-parallel-item {display: flex;flex-direction: column;z-index: 1;position: relative;background-color: white;}#sk-container-id-3 div.sk-parallel-item:first-child::after {align-self: flex-end;width: 50%;}#sk-container-id-3 div.sk-parallel-item:last-child::after {align-self: flex-start;width: 50%;}#sk-container-id-3 div.sk-parallel-item:only-child::after {width: 0;}#sk-container-id-3 div.sk-dashed-wrapped {border: 1px dashed gray;margin: 0 0.4em 0.5em 0.4em;box-sizing: border-box;padding-bottom: 0.4em;background-color: white;}#sk-container-id-3 div.sk-label label {font-family: monospace;font-weight: bold;display: inline-block;line-height: 1.2em;}#sk-container-id-3 div.sk-label-container {text-align: center;}#sk-container-id-3 div.sk-container {/* jupyter's `normalize.less` sets `[hidden] { display: none; }` but bootstrap.min.css set `[hidden] { display: none !important; }` so we also need the `!important` here to be able to override the default hidden behavior on the sphinx rendered scikit-learn.org. See: https://github.com/scikit-learn/scikit-learn/issues/21755 */display: inline-block !important;position: relative;}#sk-container-id-3 div.sk-text-repr-fallback {display: none;}</style><div id=\"sk-container-id-3\" class=\"sk-top-container\"><div class=\"sk-text-repr-fallback\"><pre>AdaBoostClassifier(base_estimator=GaussianNB(), n_estimators=100,\n",
              "                   random_state=0)</pre><b>In a Jupyter environment, please rerun this cell to show the HTML representation or trust the notebook. <br />On GitHub, the HTML representation is unable to render, please try loading this page with nbviewer.org.</b></div><div class=\"sk-container\" hidden><div class=\"sk-item sk-dashed-wrapped\"><div class=\"sk-label-container\"><div class=\"sk-label sk-toggleable\"><input class=\"sk-toggleable__control sk-hidden--visually\" id=\"sk-estimator-id-3\" type=\"checkbox\" ><label for=\"sk-estimator-id-3\" class=\"sk-toggleable__label sk-toggleable__label-arrow\">AdaBoostClassifier</label><div class=\"sk-toggleable__content\"><pre>AdaBoostClassifier(base_estimator=GaussianNB(), n_estimators=100,\n",
              "                   random_state=0)</pre></div></div></div><div class=\"sk-parallel\"><div class=\"sk-parallel-item\"><div class=\"sk-item\"><div class=\"sk-label-container\"><div class=\"sk-label sk-toggleable\"><input class=\"sk-toggleable__control sk-hidden--visually\" id=\"sk-estimator-id-4\" type=\"checkbox\" ><label for=\"sk-estimator-id-4\" class=\"sk-toggleable__label sk-toggleable__label-arrow\">base_estimator: GaussianNB</label><div class=\"sk-toggleable__content\"><pre>GaussianNB()</pre></div></div></div><div class=\"sk-serial\"><div class=\"sk-item\"><div class=\"sk-estimator sk-toggleable\"><input class=\"sk-toggleable__control sk-hidden--visually\" id=\"sk-estimator-id-5\" type=\"checkbox\" ><label for=\"sk-estimator-id-5\" class=\"sk-toggleable__label sk-toggleable__label-arrow\">GaussianNB</label><div class=\"sk-toggleable__content\"><pre>GaussianNB()</pre></div></div></div></div></div></div></div></div></div></div>"
            ],
            "text/plain": [
              "AdaBoostClassifier(base_estimator=GaussianNB(), n_estimators=100,\n",
              "                   random_state=0)"
            ]
          },
          "execution_count": 35,
          "metadata": {},
          "output_type": "execute_result"
        }
      ],
      "source": [
        "ada_model.fit(X_train,Y_train)"
      ]
    },
    {
      "cell_type": "code",
      "execution_count": null,
      "metadata": {
        "id": "_pEH22Xkijrl"
      },
      "outputs": [],
      "source": [
        "ada_predictions=ada_model.predict(X_test)"
      ]
    },
    {
      "cell_type": "code",
      "execution_count": null,
      "metadata": {
        "colab": {
          "base_uri": "https://localhost:8080/"
        },
        "id": "dT8lxHupin-O",
        "outputId": "c45c0550-6c6a-4838-80b9-ae5d3fcf4933"
      },
      "outputs": [
        {
          "name": "stdout",
          "output_type": "stream",
          "text": [
            "              precision    recall  f1-score   support\n",
            "\n",
            "           3       0.00      0.00      0.00        27\n",
            "           4       0.21      0.03      0.05       229\n",
            "           5       0.57      0.31      0.40      2151\n",
            "           6       0.46      0.67      0.54      2823\n",
            "           7       0.35      0.36      0.36      1074\n",
            "           8       0.11      0.04      0.06       188\n",
            "           9       0.00      0.00      0.00         5\n",
            "\n",
            "    accuracy                           0.46      6497\n",
            "   macro avg       0.24      0.20      0.20      6497\n",
            "weighted avg       0.46      0.46      0.43      6497\n",
            "\n"
          ]
        },
        {
          "name": "stderr",
          "output_type": "stream",
          "text": [
            "/usr/local/lib/python3.10/dist-packages/sklearn/metrics/_classification.py:1344: UndefinedMetricWarning: Precision and F-score are ill-defined and being set to 0.0 in labels with no predicted samples. Use `zero_division` parameter to control this behavior.\n",
            "  _warn_prf(average, modifier, msg_start, len(result))\n",
            "/usr/local/lib/python3.10/dist-packages/sklearn/metrics/_classification.py:1344: UndefinedMetricWarning: Precision and F-score are ill-defined and being set to 0.0 in labels with no predicted samples. Use `zero_division` parameter to control this behavior.\n",
            "  _warn_prf(average, modifier, msg_start, len(result))\n",
            "/usr/local/lib/python3.10/dist-packages/sklearn/metrics/_classification.py:1344: UndefinedMetricWarning: Precision and F-score are ill-defined and being set to 0.0 in labels with no predicted samples. Use `zero_division` parameter to control this behavior.\n",
            "  _warn_prf(average, modifier, msg_start, len(result))\n"
          ]
        }
      ],
      "source": [
        "print(classification_report(Y_test,ada_predictions))"
      ]
    },
    {
      "cell_type": "code",
      "execution_count": null,
      "metadata": {
        "id": "Rf1iILkqit2n"
      },
      "outputs": [],
      "source": [
        "ada_confusion_matrix=confusion_matrix(Y_test,ada_predictions)"
      ]
    },
    {
      "cell_type": "code",
      "execution_count": null,
      "metadata": {
        "colab": {
          "base_uri": "https://localhost:8080/",
          "height": 467
        },
        "id": "oLn5ni63izX7",
        "outputId": "72b72aa1-6d99-48a3-94eb-a3aee708ad66"
      },
      "outputs": [
        {
          "data": {
            "text/plain": [
              "<sklearn.metrics._plot.confusion_matrix.ConfusionMatrixDisplay at 0x7a22eb843340>"
            ]
          },
          "execution_count": 39,
          "metadata": {},
          "output_type": "execute_result"
        },
        {
          "data": {
            "image/png": "[encoded data removed]",
            "text/plain": [
              "<Figure size 640x480 with 2 Axes>"
            ]
          },
          "metadata": {},
          "output_type": "display_data"
        }
      ],
      "source": [
        "disp = ConfusionMatrixDisplay(confusion_matrix=ada_confusion_matrix,\n",
        "                               display_labels=ada_model.classes_)\n",
        "disp.plot()"
      ]
    },
    {
      "cell_type": "markdown",
      "metadata": {
        "id": "l-IZZEQpwOfp"
      },
      "source": [
        "##XGBoost"
      ]
    },
    {
      "cell_type": "code",
      "execution_count": 9,
      "metadata": {
        "id": "ztyazvO7wP60"
      },
      "outputs": [],
      "source": [
        "xgb_model=XGBClassifier(objective=\"multi:softprob\", random_state=42)"
      ]
    },
    {
      "cell_type": "code",
      "source": [
        "le=LabelEncoder()"
      ],
      "metadata": {
        "id": "-GA9aBQZ4r8u"
      },
      "execution_count": 12,
      "outputs": []
    },
    {
      "cell_type": "code",
      "execution_count": 13,
      "metadata": {
        "id": "eMp33w7CwW33",
        "colab": {
          "base_uri": "https://localhost:8080/",
          "height": 303
        },
        "outputId": "2a08248f-c595-4e71-d306-040d17733413"
      },
      "outputs": [
        {
          "output_type": "stream",
          "name": "stderr",
          "text": [
            "/usr/local/lib/python3.10/dist-packages/sklearn/preprocessing/_label.py:116: DataConversionWarning: A column-vector y was passed when a 1d array was expected. Please change the shape of y to (n_samples, ), for example using ravel().\n",
            "  y = column_or_1d(y, warn=True)\n"
          ]
        },
        {
          "output_type": "execute_result",
          "data": {
            "text/plain": [
              "XGBClassifier(base_score=None, booster=None, callbacks=None,\n",
              "              colsample_bylevel=None, colsample_bynode=None,\n",
              "              colsample_bytree=None, early_stopping_rounds=None,\n",
              "              enable_categorical=False, eval_metric=None, feature_types=None,\n",
              "              gamma=None, gpu_id=None, grow_policy=None, importance_type=None,\n",
              "              interaction_constraints=None, learning_rate=None, max_bin=None,\n",
              "              max_cat_threshold=None, max_cat_to_onehot=None,\n",
              "              max_delta_step=None, max_depth=None, max_leaves=None,\n",
              "              min_child_weight=None, missing=nan, monotone_constraints=None,\n",
              "              n_estimators=100, n_jobs=None, num_parallel_tree=None,\n",
              "              objective='multi:softprob', predictor=None, ...)"
            ],
            "text/html": [
              "<style>#sk-container-id-1 {color: black;background-color: white;}#sk-container-id-1 pre{padding: 0;}#sk-container-id-1 div.sk-toggleable {background-color: white;}#sk-container-id-1 label.sk-toggleable__label {cursor: pointer;display: block;width: 100%;margin-bottom: 0;padding: 0.3em;box-sizing: border-box;text-align: center;}#sk-container-id-1 label.sk-toggleable__label-arrow:before {content: \"▸\";float: left;margin-right: 0.25em;color: #696969;}#sk-container-id-1 label.sk-toggleable__label-arrow:hover:before {color: black;}#sk-container-id-1 div.sk-estimator:hover label.sk-toggleable__label-arrow:before {color: black;}#sk-container-id-1 div.sk-toggleable__content {max-height: 0;max-width: 0;overflow: hidden;text-align: left;background-color: #f0f8ff;}#sk-container-id-1 div.sk-toggleable__content pre {margin: 0.2em;color: black;border-radius: 0.25em;background-color: #f0f8ff;}#sk-container-id-1 input.sk-toggleable__control:checked~div.sk-toggleable__content {max-height: 200px;max-width: 100%;overflow: auto;}#sk-container-id-1 input.sk-toggleable__control:checked~label.sk-toggleable__label-arrow:before {content: \"▾\";}#sk-container-id-1 div.sk-estimator input.sk-toggleable__control:checked~label.sk-toggleable__label {background-color: #d4ebff;}#sk-container-id-1 div.sk-label input.sk-toggleable__control:checked~label.sk-toggleable__label {background-color: #d4ebff;}#sk-container-id-1 input.sk-hidden--visually {border: 0;clip: rect(1px 1px 1px 1px);clip: rect(1px, 1px, 1px, 1px);height: 1px;margin: -1px;overflow: hidden;padding: 0;position: absolute;width: 1px;}#sk-container-id-1 div.sk-estimator {font-family: monospace;background-color: #f0f8ff;border: 1px dotted black;border-radius: 0.25em;box-sizing: border-box;margin-bottom: 0.5em;}#sk-container-id-1 div.sk-estimator:hover {background-color: #d4ebff;}#sk-container-id-1 div.sk-parallel-item::after {content: \"\";width: 100%;border-bottom: 1px solid gray;flex-grow: 1;}#sk-container-id-1 div.sk-label:hover label.sk-toggleable__label {background-color: #d4ebff;}#sk-container-id-1 div.sk-serial::before {content: \"\";position: absolute;border-left: 1px solid gray;box-sizing: border-box;top: 0;bottom: 0;left: 50%;z-index: 0;}#sk-container-id-1 div.sk-serial {display: flex;flex-direction: column;align-items: center;background-color: white;padding-right: 0.2em;padding-left: 0.2em;position: relative;}#sk-container-id-1 div.sk-item {position: relative;z-index: 1;}#sk-container-id-1 div.sk-parallel {display: flex;align-items: stretch;justify-content: center;background-color: white;position: relative;}#sk-container-id-1 div.sk-item::before, #sk-container-id-1 div.sk-parallel-item::before {content: \"\";position: absolute;border-left: 1px solid gray;box-sizing: border-box;top: 0;bottom: 0;left: 50%;z-index: -1;}#sk-container-id-1 div.sk-parallel-item {display: flex;flex-direction: column;z-index: 1;position: relative;background-color: white;}#sk-container-id-1 div.sk-parallel-item:first-child::after {align-self: flex-end;width: 50%;}#sk-container-id-1 div.sk-parallel-item:last-child::after {align-self: flex-start;width: 50%;}#sk-container-id-1 div.sk-parallel-item:only-child::after {width: 0;}#sk-container-id-1 div.sk-dashed-wrapped {border: 1px dashed gray;margin: 0 0.4em 0.5em 0.4em;box-sizing: border-box;padding-bottom: 0.4em;background-color: white;}#sk-container-id-1 div.sk-label label {font-family: monospace;font-weight: bold;display: inline-block;line-height: 1.2em;}#sk-container-id-1 div.sk-label-container {text-align: center;}#sk-container-id-1 div.sk-container {/* jupyter's `normalize.less` sets `[hidden] { display: none; }` but bootstrap.min.css set `[hidden] { display: none !important; }` so we also need the `!important` here to be able to override the default hidden behavior on the sphinx rendered scikit-learn.org. See: https://github.com/scikit-learn/scikit-learn/issues/21755 */display: inline-block !important;position: relative;}#sk-container-id-1 div.sk-text-repr-fallback {display: none;}</style><div id=\"sk-container-id-1\" class=\"sk-top-container\"><div class=\"sk-text-repr-fallback\"><pre>XGBClassifier(base_score=None, booster=None, callbacks=None,\n",
              "              colsample_bylevel=None, colsample_bynode=None,\n",
              "              colsample_bytree=None, early_stopping_rounds=None,\n",
              "              enable_categorical=False, eval_metric=None, feature_types=None,\n",
              "              gamma=None, gpu_id=None, grow_policy=None, importance_type=None,\n",
              "              interaction_constraints=None, learning_rate=None, max_bin=None,\n",
              "              max_cat_threshold=None, max_cat_to_onehot=None,\n",
              "              max_delta_step=None, max_depth=None, max_leaves=None,\n",
              "              min_child_weight=None, missing=nan, monotone_constraints=None,\n",
              "              n_estimators=100, n_jobs=None, num_parallel_tree=None,\n",
              "              objective=&#x27;multi:softprob&#x27;, predictor=None, ...)</pre><b>In a Jupyter environment, please rerun this cell to show the HTML representation or trust the notebook. <br />On GitHub, the HTML representation is unable to render, please try loading this page with nbviewer.org.</b></div><div class=\"sk-container\" hidden><div class=\"sk-item\"><div class=\"sk-estimator sk-toggleable\"><input class=\"sk-toggleable__control sk-hidden--visually\" id=\"sk-estimator-id-1\" type=\"checkbox\" checked><label for=\"sk-estimator-id-1\" class=\"sk-toggleable__label sk-toggleable__label-arrow\">XGBClassifier</label><div class=\"sk-toggleable__content\"><pre>XGBClassifier(base_score=None, booster=None, callbacks=None,\n",
              "              colsample_bylevel=None, colsample_bynode=None,\n",
              "              colsample_bytree=None, early_stopping_rounds=None,\n",
              "              enable_categorical=False, eval_metric=None, feature_types=None,\n",
              "              gamma=None, gpu_id=None, grow_policy=None, importance_type=None,\n",
              "              interaction_constraints=None, learning_rate=None, max_bin=None,\n",
              "              max_cat_threshold=None, max_cat_to_onehot=None,\n",
              "              max_delta_step=None, max_depth=None, max_leaves=None,\n",
              "              min_child_weight=None, missing=nan, monotone_constraints=None,\n",
              "              n_estimators=100, n_jobs=None, num_parallel_tree=None,\n",
              "              objective=&#x27;multi:softprob&#x27;, predictor=None, ...)</pre></div></div></div></div></div>"
            ]
          },
          "metadata": {},
          "execution_count": 13
        }
      ],
      "source": [
        "xgb_model.fit(X_train,le.fit_transform(Y_train))"
      ]
    },
    {
      "cell_type": "code",
      "execution_count": 14,
      "metadata": {
        "id": "bu6B3bfRwarX"
      },
      "outputs": [],
      "source": [
        "xgb_predictions=le.inverse_transform(xgb_model.predict(X_test))"
      ]
    },
    {
      "cell_type": "code",
      "execution_count": 15,
      "metadata": {
        "id": "ftxUmEEDwfPi",
        "colab": {
          "base_uri": "https://localhost:8080/"
        },
        "outputId": "54ad6472-b7e1-4af4-d145-efafc30b13de"
      },
      "outputs": [
        {
          "output_type": "stream",
          "name": "stdout",
          "text": [
            "              precision    recall  f1-score   support\n",
            "\n",
            "           3       1.00      1.00      1.00        27\n",
            "           4       0.99      0.99      0.99       229\n",
            "           5       0.97      0.96      0.97      2151\n",
            "           6       0.96      0.97      0.97      2823\n",
            "           7       0.98      0.96      0.97      1074\n",
            "           8       0.99      0.96      0.98       188\n",
            "           9       1.00      0.80      0.89         5\n",
            "\n",
            "    accuracy                           0.97      6497\n",
            "   macro avg       0.98      0.95      0.97      6497\n",
            "weighted avg       0.97      0.97      0.97      6497\n",
            "\n"
          ]
        }
      ],
      "source": [
        "print(classification_report(Y_test,xgb_predictions))"
      ]
    },
    {
      "cell_type": "code",
      "execution_count": 16,
      "metadata": {
        "id": "mKzllzfawmMj"
      },
      "outputs": [],
      "source": [
        "xgb_confusion_matrix=confusion_matrix(Y_test,xgb_predictions)"
      ]
    },
    {
      "cell_type": "code",
      "execution_count": 17,
      "metadata": {
        "id": "SZMUawnYwtkQ",
        "colab": {
          "base_uri": "https://localhost:8080/",
          "height": 467
        },
        "outputId": "12b7a8c8-01e0-4755-815d-6e8e15b30663"
      },
      "outputs": [
        {
          "output_type": "execute_result",
          "data": {
            "text/plain": [
              "<sklearn.metrics._plot.confusion_matrix.ConfusionMatrixDisplay at 0x7db3d07961d0>"
            ]
          },
          "metadata": {},
          "execution_count": 17
        },
        {
          "output_type": "display_data",
          "data": {
            "text/plain": [
              "<Figure size 640x480 with 2 Axes>"
            ],
            "image/png": "[encoded data removed]"
          },
          "metadata": {}
        }
      ],
      "source": [
        "disp = ConfusionMatrixDisplay(confusion_matrix=xgb_confusion_matrix,\n",
        "                               display_labels=xgb_model.classes_)\n",
        "disp.plot()"
      ]
    },
    {
      "cell_type": "code",
      "source": [],
      "metadata": {
        "id": "vkKN1Ypc5GKe"
      },
      "execution_count": null,
      "outputs": []
    }
  ],
  "metadata": {
    "colab": {
      "provenance": []
    },
    "kernelspec": {
      "display_name": "Python 3",
      "name": "python3"
    },
    "language_info": {
      "name": "python"
    }
  },
  "nbformat": 4,
  "nbformat_minor": 0
}